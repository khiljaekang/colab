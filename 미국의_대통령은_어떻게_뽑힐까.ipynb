{
  "nbformat": 4,
  "nbformat_minor": 0,
  "metadata": {
    "kernelspec": {
      "display_name": "Python 3",
      "language": "python",
      "name": "python3"
    },
    "language_info": {
      "codemirror_mode": {
        "name": "ipython",
        "version": 3
      },
      "file_extension": ".py",
      "mimetype": "text/x-python",
      "name": "python",
      "nbconvert_exporter": "python",
      "pygments_lexer": "ipython3",
      "version": "3.7.7"
    },
    "colab": {
      "name": "미국의 대통령은 어떻게 뽑힐까",
      "provenance": [],
      "collapsed_sections": [
        "c0iKTnLNsraM",
        "cxZwPnfms0-9",
        "dXG8AFZyCiS1"
      ],
      "toc_visible": true,
      "include_colab_link": true
    }
  },
  "cells": [
    {
      "cell_type": "markdown",
      "metadata": {
        "id": "view-in-github",
        "colab_type": "text"
      },
      "source": [
        "<a href=\"https://colab.research.google.com/github/khiljaekang/colab/blob/main/%EB%AF%B8%EA%B5%AD%EC%9D%98_%EB%8C%80%ED%86%B5%EB%A0%B9%EC%9D%80_%EC%96%B4%EB%96%BB%EA%B2%8C_%EB%BD%91%ED%9E%90%EA%B9%8C.ipynb\" target=\"_parent\"><img src=\"https://colab.research.google.com/assets/colab-badge.svg\" alt=\"Open In Colab\"/></a>"
      ]
    },
    {
      "cell_type": "markdown",
      "metadata": {
        "id": "NqqLNJZjfi8U"
      },
      "source": [
        "# 주제 : 미국의 대통령은 어떻게 뽑힐까?\n",
        "----------\n",
        "\n",
        "## 실습 가이드\n",
        "    1. 데이터를 다운로드하여 Colab에 불러옵니다.\n",
        "    2. 필요한 라이브러리는 모두 코드로 작성되어 있습니다.\n",
        "    3. 코드는 위에서부터 아래로 순서대로 실행합니다.\n",
        "    \n",
        "    \n",
        "## 데이터 소개\n",
        "    - 이번 주제는 US Election 2020 데이터셋을 사용합니다.\n",
        "    \n",
        "    - 총 11개의 파일 중 정보가 가장 많은 2개의 파일을 사용합니다.\n",
        "    president_county_candidate.csv: 대통령 투표 결과\n",
        "    governors_county_candidate.csv: 카운티 지사 투표 결과\n",
        "    \n",
        "    - 총 1개의 보조 데이터를 이용합니다.\n",
        "    acs2017_county_data.csv: 카운티별 인구조사 데이터\n",
        "    \n",
        "    - 각 파일의 컬럼은 아래와 같습니다.\n",
        "    state: 주\n",
        "    county: 카운티(군)\n",
        "    district: 지구\n",
        "    candidate: 후보자\n",
        "    party: 후보자의 소속 정당\n",
        "    total_votes: 득표 수\n",
        "    won: 지역 투표 우승 여부\n",
        "    \n",
        "    \n",
        "    \n",
        "- 데이터 출처: https://www.kaggle.com/unanimad/us-election-2020\n",
        "- 보조 데이터: https://www.kaggle.com/muonneutrino/us-census-demographic-data\n",
        "\n",
        "## 최종 목표\n",
        "    - 보조 데이터셋을 이용하여 데이터셋 보강하는 방법 이해\n",
        "    - plotly를 이용한 Choropleth 시각화 방법 이해\n",
        "    - Regression과 Classification의 차이 이해\n",
        "\n",
        "- 출제자 : 신제용 강사\n",
        "---"
      ]
    },
    {
      "cell_type": "markdown",
      "metadata": {
        "id": "ODJVmYvIP3x-"
      },
      "source": [
        "## Step 0. 데이터에 관한 사전 배경 지식"
      ]
    },
    {
      "cell_type": "markdown",
      "metadata": {
        "id": "c0iKTnLNsraM"
      },
      "source": [
        "### 미국의 선거 제도에 대하여\n"
      ]
    },
    {
      "cell_type": "markdown",
      "metadata": {
        "id": "cxZwPnfms0-9"
      },
      "source": [
        "### 2020 미국 선거 데이터셋 설명\n"
      ]
    },
    {
      "cell_type": "markdown",
      "metadata": {
        "id": "dXG8AFZyCiS1"
      },
      "source": [
        "### 2017 미국 인구조사 데이터셋(보조 데이터셋) 설명"
      ]
    },
    {
      "cell_type": "markdown",
      "metadata": {
        "id": "IRssoNrgP7So"
      },
      "source": [
        "## Step 1. 데이터셋 준비하기"
      ]
    },
    {
      "cell_type": "code",
      "metadata": {
        "id": "2-cM6ibXYvSv",
        "colab": {
          "base_uri": "https://localhost:8080/"
        },
        "outputId": "54364f50-2c0d-45e4-ad5e-c806104924ab"
      },
      "source": [
        "!pip install geopandas \n",
        "!pip install pyshp\n",
        "!pip install shapely\n",
        "!pip install plotly-geo"
      ],
      "execution_count": 1,
      "outputs": [
        {
          "output_type": "stream",
          "text": [
            "Collecting geopandas\n",
            "\u001b[?25l  Downloading https://files.pythonhosted.org/packages/d7/bf/e9cefb69d39155d122b6ddca53893b61535fa6ffdad70bf5ef708977f53f/geopandas-0.9.0-py2.py3-none-any.whl (994kB)\n",
            "\u001b[K     |████████████████████████████████| 1.0MB 5.3MB/s \n",
            "\u001b[?25hRequirement already satisfied: pandas>=0.24.0 in /usr/local/lib/python3.7/dist-packages (from geopandas) (1.1.5)\n",
            "Collecting fiona>=1.8\n",
            "\u001b[?25l  Downloading https://files.pythonhosted.org/packages/ea/2a/404b22883298a3efe9c6ef8d67acbf2c38443fa366ee9cd4cd34e17626ea/Fiona-1.8.19-cp37-cp37m-manylinux1_x86_64.whl (15.3MB)\n",
            "\u001b[K     |████████████████████████████████| 15.3MB 264kB/s \n",
            "\u001b[?25hCollecting pyproj>=2.2.0\n",
            "\u001b[?25l  Downloading https://files.pythonhosted.org/packages/b1/72/d52e9ca81caef056062d71991b0e9b1d16af042245627c5d0e4916a36c4f/pyproj-3.0.1-cp37-cp37m-manylinux2010_x86_64.whl (6.5MB)\n",
            "\u001b[K     |████████████████████████████████| 6.5MB 18.3MB/s \n",
            "\u001b[?25hRequirement already satisfied: shapely>=1.6 in /usr/local/lib/python3.7/dist-packages (from geopandas) (1.7.1)\n",
            "Requirement already satisfied: numpy>=1.15.4 in /usr/local/lib/python3.7/dist-packages (from pandas>=0.24.0->geopandas) (1.19.5)\n",
            "Requirement already satisfied: pytz>=2017.2 in /usr/local/lib/python3.7/dist-packages (from pandas>=0.24.0->geopandas) (2018.9)\n",
            "Requirement already satisfied: python-dateutil>=2.7.3 in /usr/local/lib/python3.7/dist-packages (from pandas>=0.24.0->geopandas) (2.8.1)\n",
            "Requirement already satisfied: certifi in /usr/local/lib/python3.7/dist-packages (from fiona>=1.8->geopandas) (2020.12.5)\n",
            "Collecting cligj>=0.5\n",
            "  Downloading https://files.pythonhosted.org/packages/42/1e/947eadf10d6804bf276eb8a038bd5307996dceaaa41cfd21b7a15ec62f5d/cligj-0.7.1-py3-none-any.whl\n",
            "Requirement already satisfied: attrs>=17 in /usr/local/lib/python3.7/dist-packages (from fiona>=1.8->geopandas) (20.3.0)\n",
            "Requirement already satisfied: six>=1.7 in /usr/local/lib/python3.7/dist-packages (from fiona>=1.8->geopandas) (1.15.0)\n",
            "Requirement already satisfied: click<8,>=4.0 in /usr/local/lib/python3.7/dist-packages (from fiona>=1.8->geopandas) (7.1.2)\n",
            "Collecting click-plugins>=1.0\n",
            "  Downloading https://files.pythonhosted.org/packages/e9/da/824b92d9942f4e472702488857914bdd50f73021efea15b4cad9aca8ecef/click_plugins-1.1.1-py2.py3-none-any.whl\n",
            "Collecting munch\n",
            "  Downloading https://files.pythonhosted.org/packages/cc/ab/85d8da5c9a45e072301beb37ad7f833cd344e04c817d97e0cc75681d248f/munch-2.5.0-py2.py3-none-any.whl\n",
            "Installing collected packages: cligj, click-plugins, munch, fiona, pyproj, geopandas\n",
            "Successfully installed click-plugins-1.1.1 cligj-0.7.1 fiona-1.8.19 geopandas-0.9.0 munch-2.5.0 pyproj-3.0.1\n",
            "Collecting pyshp\n",
            "\u001b[?25l  Downloading https://files.pythonhosted.org/packages/38/85/fbf87e7aa55103e0d06af756bdbc15cf821fa580414c23142d60a35d4f85/pyshp-2.1.3.tar.gz (219kB)\n",
            "\u001b[K     |████████████████████████████████| 225kB 5.3MB/s \n",
            "\u001b[?25hBuilding wheels for collected packages: pyshp\n",
            "  Building wheel for pyshp (setup.py) ... \u001b[?25l\u001b[?25hdone\n",
            "  Created wheel for pyshp: filename=pyshp-2.1.3-cp37-none-any.whl size=37264 sha256=3fdb560d0d65fdc1567a98db3834237169b51d9254747e9da0ad459830b1a849\n",
            "  Stored in directory: /root/.cache/pip/wheels/76/2b/d4/53e6b9a0fb0a9f9f29664cf82605af8bc81d5ab44d987896dd\n",
            "Successfully built pyshp\n",
            "Installing collected packages: pyshp\n",
            "Successfully installed pyshp-2.1.3\n",
            "Requirement already satisfied: shapely in /usr/local/lib/python3.7/dist-packages (1.7.1)\n",
            "Collecting plotly-geo\n",
            "\u001b[?25l  Downloading https://files.pythonhosted.org/packages/be/c6/be7d476e8c14c318c7b80329317d5dd5d1b876c393c9f8c0363b0dd188b8/plotly_geo-1.0.0-py3-none-any.whl (23.7MB)\n",
            "\u001b[K     |████████████████████████████████| 23.7MB 42.2MB/s \n",
            "\u001b[?25hInstalling collected packages: plotly-geo\n",
            "Successfully installed plotly-geo-1.0.0\n"
          ],
          "name": "stdout"
        }
      ]
    },
    {
      "cell_type": "code",
      "metadata": {
        "colab": {
          "base_uri": "https://localhost:8080/"
        },
        "id": "_xyqRI6TkNtB",
        "outputId": "16df9c3b-edd4-4826-fbe3-dbda8ba6cebc"
      },
      "source": [
        "!pip list"
      ],
      "execution_count": 13,
      "outputs": [
        {
          "output_type": "stream",
          "text": [
            "Package                       Version       \n",
            "----------------------------- --------------\n",
            "absl-py                       0.12.0        \n",
            "alabaster                     0.7.12        \n",
            "albumentations                0.1.12        \n",
            "altair                        4.1.0         \n",
            "appdirs                       1.4.4         \n",
            "argon2-cffi                   20.1.0        \n",
            "astor                         0.8.1         \n",
            "astropy                       4.2.1         \n",
            "astunparse                    1.6.3         \n",
            "async-generator               1.10          \n",
            "atari-py                      0.2.6         \n",
            "atomicwrites                  1.4.0         \n",
            "attrs                         20.3.0        \n",
            "audioread                     2.1.9         \n",
            "autograd                      1.3           \n",
            "Babel                         2.9.0         \n",
            "backcall                      0.2.0         \n",
            "beautifulsoup4                4.6.3         \n",
            "bleach                        3.3.0         \n",
            "blis                          0.4.1         \n",
            "bokeh                         2.3.1         \n",
            "Bottleneck                    1.3.2         \n",
            "branca                        0.4.2         \n",
            "bs4                           0.0.1         \n",
            "CacheControl                  0.12.6        \n",
            "cachetools                    4.2.1         \n",
            "catalogue                     1.0.0         \n",
            "certifi                       2020.12.5     \n",
            "cffi                          1.14.5        \n",
            "chainer                       7.4.0         \n",
            "chardet                       3.0.4         \n",
            "click                         7.1.2         \n",
            "click-plugins                 1.1.1         \n",
            "cligj                         0.7.1         \n",
            "cloudpickle                   1.3.0         \n",
            "cmake                         3.12.0        \n",
            "cmdstanpy                     0.9.5         \n",
            "colorcet                      2.0.6         \n",
            "colorlover                    0.3.0         \n",
            "community                     1.0.0b1       \n",
            "contextlib2                   0.5.5         \n",
            "convertdate                   2.3.2         \n",
            "coverage                      3.7.1         \n",
            "coveralls                     0.5           \n",
            "crcmod                        1.7           \n",
            "cufflinks                     0.17.3        \n",
            "cvxopt                        1.2.6         \n",
            "cvxpy                         1.0.31        \n",
            "cycler                        0.10.0        \n",
            "cymem                         2.0.5         \n",
            "Cython                        0.29.22       \n",
            "daft                          0.0.4         \n",
            "dask                          2.12.0        \n",
            "datascience                   0.10.6        \n",
            "debugpy                       1.0.0         \n",
            "decorator                     4.4.2         \n",
            "defusedxml                    0.7.1         \n",
            "descartes                     1.1.0         \n",
            "dill                          0.3.3         \n",
            "distributed                   1.25.3        \n",
            "dlib                          19.18.0       \n",
            "dm-tree                       0.1.6         \n",
            "docopt                        0.6.2         \n",
            "docutils                      0.17          \n",
            "dopamine-rl                   1.0.5         \n",
            "earthengine-api               0.1.260       \n",
            "easydict                      1.9           \n",
            "ecos                          2.0.7.post1   \n",
            "editdistance                  0.5.3         \n",
            "en-core-web-sm                2.2.5         \n",
            "entrypoints                   0.3           \n",
            "ephem                         3.7.7.1       \n",
            "et-xmlfile                    1.0.1         \n",
            "fa2                           0.3.5         \n",
            "fancyimpute                   0.4.3         \n",
            "fastai                        1.0.61        \n",
            "fastdtw                       0.3.4         \n",
            "fastprogress                  1.0.0         \n",
            "fastrlock                     0.6           \n",
            "fbprophet                     0.7.1         \n",
            "feather-format                0.4.1         \n",
            "filelock                      3.0.12        \n",
            "Fiona                         1.8.19        \n",
            "firebase-admin                4.4.0         \n",
            "fix-yahoo-finance             0.0.22        \n",
            "Flask                         1.1.2         \n",
            "flatbuffers                   1.12          \n",
            "folium                        0.8.3         \n",
            "future                        0.16.0        \n",
            "gast                          0.3.3         \n",
            "GDAL                          2.2.2         \n",
            "gdown                         3.6.4         \n",
            "gensim                        3.6.0         \n",
            "geographiclib                 1.50          \n",
            "geopandas                     0.9.0         \n",
            "geopy                         1.17.0        \n",
            "gin-config                    0.4.0         \n",
            "glob2                         0.7           \n",
            "google                        2.0.3         \n",
            "google-api-core               1.26.3        \n",
            "google-api-python-client      1.12.8        \n",
            "google-auth                   1.28.1        \n",
            "google-auth-httplib2          0.0.4         \n",
            "google-auth-oauthlib          0.4.4         \n",
            "google-cloud-bigquery         1.21.0        \n",
            "google-cloud-bigquery-storage 1.1.0         \n",
            "google-cloud-core             1.0.3         \n",
            "google-cloud-datastore        1.8.0         \n",
            "google-cloud-firestore        1.7.0         \n",
            "google-cloud-language         1.2.0         \n",
            "google-cloud-storage          1.18.1        \n",
            "google-cloud-translate        1.5.0         \n",
            "google-colab                  1.0.0         \n",
            "google-pasta                  0.2.0         \n",
            "google-resumable-media        0.4.1         \n",
            "googleapis-common-protos      1.53.0        \n",
            "googledrivedownloader         0.4           \n",
            "graphviz                      0.10.1        \n",
            "greenlet                      1.0.0         \n",
            "grpcio                        1.32.0        \n",
            "gspread                       3.0.1         \n",
            "gspread-dataframe             3.0.8         \n",
            "gym                           0.17.3        \n",
            "h5py                          2.10.0        \n",
            "HeapDict                      1.0.1         \n",
            "hijri-converter               2.1.1         \n",
            "holidays                      0.10.5.2      \n",
            "holoviews                     1.14.3        \n",
            "html5lib                      1.0.1         \n",
            "httpimport                    0.5.18        \n",
            "httplib2                      0.17.4        \n",
            "httplib2shim                  0.0.3         \n",
            "humanize                      0.5.1         \n",
            "hyperopt                      0.1.2         \n",
            "ideep4py                      2.0.0.post3   \n",
            "idna                          2.10          \n",
            "imageio                       2.4.1         \n",
            "imagesize                     1.2.0         \n",
            "imbalanced-learn              0.4.3         \n",
            "imblearn                      0.0           \n",
            "imgaug                        0.2.9         \n",
            "importlib-metadata            3.10.1        \n",
            "importlib-resources           5.1.2         \n",
            "imutils                       0.5.4         \n",
            "inflect                       2.1.0         \n",
            "iniconfig                     1.1.1         \n",
            "intel-openmp                  2021.2.0      \n",
            "intervaltree                  2.1.0         \n",
            "ipykernel                     4.10.1        \n",
            "ipython                       5.5.0         \n",
            "ipython-genutils              0.2.0         \n",
            "ipython-sql                   0.3.9         \n",
            "ipywidgets                    7.6.3         \n",
            "itsdangerous                  1.1.0         \n",
            "jax                           0.2.12        \n",
            "jaxlib                        0.1.65+cuda110\n",
            "jdcal                         1.4.1         \n",
            "jedi                          0.18.0        \n",
            "jieba                         0.42.1        \n",
            "Jinja2                        2.11.3        \n",
            "joblib                        1.0.1         \n",
            "jpeg4py                       0.1.4         \n",
            "jsonschema                    2.6.0         \n",
            "jupyter                       1.0.0         \n",
            "jupyter-client                5.3.5         \n",
            "jupyter-console               5.2.0         \n",
            "jupyter-core                  4.7.1         \n",
            "jupyterlab-pygments           0.1.2         \n",
            "jupyterlab-widgets            1.0.0         \n",
            "kaggle                        1.5.12        \n",
            "kapre                         0.1.3.1       \n",
            "Keras                         2.4.3         \n",
            "Keras-Preprocessing           1.1.2         \n",
            "keras-vis                     0.4.1         \n",
            "kiwisolver                    1.3.1         \n",
            "knnimpute                     0.1.0         \n",
            "korean-lunar-calendar         0.2.1         \n",
            "librosa                       0.8.0         \n",
            "lightgbm                      2.2.3         \n",
            "llvmlite                      0.34.0        \n",
            "lmdb                          0.99          \n",
            "LunarCalendar                 0.0.9         \n",
            "lxml                          4.2.6         \n",
            "Markdown                      3.3.4         \n",
            "MarkupSafe                    1.1.1         \n",
            "matplotlib                    3.2.2         \n",
            "matplotlib-inline             0.1.2         \n",
            "matplotlib-venn               0.11.6        \n",
            "missingno                     0.4.2         \n",
            "mistune                       0.8.4         \n",
            "mizani                        0.6.0         \n",
            "mkl                           2019.0        \n",
            "mlxtend                       0.14.0        \n",
            "more-itertools                8.7.0         \n",
            "moviepy                       0.2.3.5       \n",
            "mpmath                        1.2.1         \n",
            "msgpack                       1.0.2         \n",
            "multiprocess                  0.70.11.1     \n",
            "multitasking                  0.0.9         \n",
            "munch                         2.5.0         \n",
            "murmurhash                    1.0.5         \n",
            "music21                       5.5.0         \n",
            "natsort                       5.5.0         \n",
            "nbclient                      0.5.3         \n",
            "nbconvert                     5.6.1         \n",
            "nbformat                      5.1.3         \n",
            "nest-asyncio                  1.5.1         \n",
            "networkx                      2.5.1         \n",
            "nibabel                       3.0.2         \n",
            "nltk                          3.2.5         \n",
            "notebook                      5.3.1         \n",
            "np-utils                      0.5.12.1      \n",
            "numba                         0.51.2        \n",
            "numexpr                       2.7.3         \n",
            "numpy                         1.19.5        \n",
            "nvidia-ml-py3                 7.352.0       \n",
            "oauth2client                  4.1.3         \n",
            "oauthlib                      3.1.0         \n",
            "okgrade                       0.4.3         \n",
            "opencv-contrib-python         4.1.2.30      \n",
            "opencv-python                 4.1.2.30      \n",
            "openpyxl                      2.5.9         \n",
            "opt-einsum                    3.3.0         \n",
            "osqp                          0.6.2.post0   \n",
            "packaging                     20.9          \n",
            "palettable                    3.3.0         \n",
            "pandas                        1.1.5         \n",
            "pandas-datareader             0.9.0         \n",
            "pandas-gbq                    0.13.3        \n",
            "pandas-profiling              1.4.1         \n",
            "pandocfilters                 1.4.3         \n",
            "panel                         0.11.2        \n",
            "param                         1.10.1        \n",
            "parso                         0.8.2         \n",
            "pathlib                       1.0.1         \n",
            "patsy                         0.5.1         \n",
            "pexpect                       4.8.0         \n",
            "pickleshare                   0.7.5         \n",
            "Pillow                        7.1.2         \n",
            "pip                           19.3.1        \n",
            "pip-tools                     4.5.1         \n",
            "plac                          1.1.3         \n",
            "plotly                        4.4.1         \n",
            "plotly-geo                    1.0.0         \n",
            "plotnine                      0.6.0         \n",
            "pluggy                        0.7.1         \n",
            "pooch                         1.3.0         \n",
            "portpicker                    1.3.1         \n",
            "prefetch-generator            1.0.1         \n",
            "preshed                       3.0.5         \n",
            "prettytable                   2.1.0         \n",
            "progressbar2                  3.38.0        \n",
            "prometheus-client             0.10.1        \n",
            "promise                       2.3           \n",
            "prompt-toolkit                1.0.18        \n",
            "protobuf                      3.12.4        \n",
            "psutil                        5.4.8         \n",
            "psycopg2                      2.7.6.1       \n",
            "ptyprocess                    0.7.0         \n",
            "py                            1.10.0        \n",
            "pyarrow                       3.0.0         \n",
            "pyasn1                        0.4.8         \n",
            "pyasn1-modules                0.2.8         \n",
            "pycocotools                   2.0.2         \n",
            "pycparser                     2.20          \n",
            "pyct                          0.4.8         \n",
            "pydata-google-auth            1.1.0         \n",
            "pydot                         1.3.0         \n",
            "pydot-ng                      2.0.0         \n",
            "pydotplus                     2.0.2         \n",
            "PyDrive                       1.3.1         \n",
            "pyemd                         0.5.1         \n",
            "pyerfa                        1.7.2         \n",
            "pyglet                        1.5.0         \n",
            "Pygments                      2.6.1         \n",
            "pygobject                     3.26.1        \n",
            "pymc3                         3.7           \n",
            "PyMeeus                       0.5.11        \n",
            "pymongo                       3.11.3        \n",
            "pymystem3                     0.2.0         \n",
            "PyOpenGL                      3.1.5         \n",
            "pyparsing                     2.4.7         \n",
            "pyproj                        3.0.1         \n",
            "pyrsistent                    0.17.3        \n",
            "pyshp                         2.1.3         \n",
            "pysndfile                     1.3.8         \n",
            "PySocks                       1.7.1         \n",
            "pystan                        2.19.1.1      \n",
            "pytest                        3.6.4         \n",
            "python-apt                    0.0.0         \n",
            "python-chess                  0.23.11       \n",
            "python-dateutil               2.8.1         \n",
            "python-louvain                0.15          \n",
            "python-slugify                4.0.1         \n",
            "python-utils                  2.5.6         \n",
            "pytz                          2018.9        \n",
            "pyviz-comms                   2.0.1         \n",
            "PyWavelets                    1.1.1         \n",
            "PyYAML                        3.13          \n",
            "pyzmq                         22.0.3        \n",
            "qdldl                         0.1.5.post0   \n",
            "qtconsole                     5.1.0         \n",
            "QtPy                          1.9.0         \n",
            "regex                         2019.12.20    \n",
            "requests                      2.23.0        \n",
            "requests-oauthlib             1.3.0         \n",
            "resampy                       0.2.2         \n",
            "retrying                      1.3.3         \n",
            "rpy2                          3.4.3         \n",
            "rsa                           4.7.2         \n",
            "scikit-image                  0.16.2        \n",
            "scikit-learn                  0.22.2.post1  \n",
            "scipy                         1.4.1         \n",
            "screen-resolution-extra       0.0.0         \n",
            "scs                           2.1.3         \n",
            "seaborn                       0.11.1        \n",
            "Send2Trash                    1.5.0         \n",
            "setuptools                    56.1.0        \n",
            "setuptools-git                1.2           \n",
            "Shapely                       1.7.1         \n",
            "simplegeneric                 0.8.1         \n",
            "six                           1.15.0        \n",
            "sklearn                       0.0           \n",
            "sklearn-pandas                1.8.0         \n",
            "smart-open                    5.0.0         \n",
            "snowballstemmer               2.1.0         \n",
            "sortedcontainers              2.3.0         \n",
            "SoundFile                     0.10.3.post1  \n",
            "spacy                         2.2.4         \n",
            "Sphinx                        1.8.5         \n",
            "sphinxcontrib-serializinghtml 1.1.4         \n",
            "sphinxcontrib-websupport      1.2.4         \n",
            "SQLAlchemy                    1.4.7         \n",
            "sqlparse                      0.4.1         \n",
            "srsly                         1.0.5         \n",
            "statsmodels                   0.10.2        \n",
            "sympy                         1.7.1         \n",
            "tables                        3.4.4         \n",
            "tabulate                      0.8.9         \n",
            "tblib                         1.7.0         \n",
            "tensorboard                   2.4.1         \n",
            "tensorboard-plugin-wit        1.8.0         \n",
            "tensorflow                    2.4.1         \n",
            "tensorflow-datasets           4.0.1         \n",
            "tensorflow-estimator          2.4.0         \n",
            "tensorflow-gcs-config         2.4.0         \n",
            "tensorflow-hub                0.12.0        \n",
            "tensorflow-metadata           0.29.0        \n",
            "tensorflow-probability        0.12.1        \n",
            "termcolor                     1.1.0         \n",
            "terminado                     0.9.4         \n",
            "testpath                      0.4.4         \n",
            "text-unidecode                1.3           \n",
            "textblob                      0.15.3        \n",
            "textgenrnn                    1.4.1         \n",
            "Theano                        1.0.5         \n",
            "thinc                         7.4.0         \n",
            "tifffile                      2021.4.8      \n",
            "toml                          0.10.2        \n",
            "toolz                         0.11.1        \n",
            "torch                         1.8.1+cu101   \n",
            "torchsummary                  1.5.1         \n",
            "torchtext                     0.9.1         \n",
            "torchvision                   0.9.1+cu101   \n",
            "tornado                       5.1.1         \n",
            "tqdm                          4.41.1        \n",
            "traitlets                     5.0.5         \n",
            "tweepy                        3.10.0        \n",
            "typeguard                     2.7.1         \n",
            "typing-extensions             3.7.4.3       \n",
            "tzlocal                       1.5.1         \n",
            "uritemplate                   3.0.1         \n",
            "urllib3                       1.24.3        \n",
            "vega-datasets                 0.9.0         \n",
            "wasabi                        0.8.2         \n",
            "wcwidth                       0.2.5         \n",
            "webencodings                  0.5.1         \n",
            "Werkzeug                      1.0.1         \n",
            "wheel                         0.36.2        \n",
            "widgetsnbextension            3.5.1         \n",
            "wordcloud                     1.5.0         \n",
            "wrapt                         1.12.1        \n",
            "xarray                        0.15.1        \n",
            "xgboost                       0.90          \n",
            "xkit                          0.0.0         \n",
            "xlrd                          1.1.0         \n",
            "xlwt                          1.3.0         \n",
            "yellowbrick                   0.9.1         \n",
            "zict                          2.0.0         \n",
            "zipp                          3.4.1         \n"
          ],
          "name": "stdout"
        }
      ]
    },
    {
      "cell_type": "code",
      "metadata": {
        "id": "g49RuFGrBvt7"
      },
      "source": [
        "import pandas as pd\n",
        "import numpy as np\n",
        "import matplotlib.pyplot as plt\n",
        "import seaborn as sns"
      ],
      "execution_count": 14,
      "outputs": []
    },
    {
      "cell_type": "markdown",
      "metadata": {
        "id": "paInbv8Ys-Qy"
      },
      "source": [
        "### 문제 1. Colab Notebook에 Kaggle API 세팅하기\n"
      ]
    },
    {
      "cell_type": "code",
      "metadata": {
        "id": "RRXGYV60B7FX"
      },
      "source": [
        "import os"
      ],
      "execution_count": 15,
      "outputs": []
    },
    {
      "cell_type": "code",
      "metadata": {
        "id": "mMKFOC0OBtHO"
      },
      "source": [
        "# os.environ을 이용하여 Kaggle API Username, Key 세팅하기\n",
        "\n",
        "os.environ['KAGGLE_USERNAME'] = 'kangkhiljae'\n",
        "os.environ['KAGGLE_KEY'] = '85e7d48d8e8f4f81887cbc85143a3a0f'\n"
      ],
      "execution_count": 11,
      "outputs": []
    },
    {
      "cell_type": "markdown",
      "metadata": {
        "id": "zvbeoB_WtBi-"
      },
      "source": [
        "### 문제 2. 데이터 다운로드 및 압축 해제하기\n"
      ]
    },
    {
      "cell_type": "code",
      "metadata": {
        "id": "JSblp2NsCGbh",
        "colab": {
          "base_uri": "https://localhost:8080/"
        },
        "outputId": "bf675780-206d-437b-f011-7e4575cf99f3"
      },
      "source": [
        "# Linux 명령어로 Kaggle API를 이용하여 데이터셋 다운로드하기 (!kaggle ~)\n",
        "# Linux 명령어로 압축 해제하기\n",
        "!kaggle datasets download -d unanimad/us-election-2020\n",
        "!kaggle datasets download -d muonneutrino/us-census-demographic-data\n",
        "!unzip '*.zip'\n",
        "\n",
        "\n",
        "\n"
      ],
      "execution_count": 12,
      "outputs": [
        {
          "output_type": "stream",
          "text": [
            "Downloading us-election-2020.zip to /content\n",
            "\r  0% 0.00/429k [00:00<?, ?B/s]\n",
            "100% 429k/429k [00:00<00:00, 63.1MB/s]\n",
            "Downloading us-census-demographic-data.zip to /content\n",
            " 47% 5.00M/10.6M [00:00<00:00, 51.2MB/s]\n",
            "100% 10.6M/10.6M [00:00<00:00, 51.5MB/s]\n",
            "Archive:  us-census-demographic-data.zip\n",
            "  inflating: acs2015_census_tract_data.csv  \n",
            "  inflating: acs2015_county_data.csv  \n",
            "  inflating: acs2017_census_tract_data.csv  \n",
            "  inflating: acs2017_county_data.csv  \n",
            "\n",
            "Archive:  us-election-2020.zip\n",
            "  inflating: governors_county.csv    \n",
            "  inflating: governors_county_candidate.csv  \n",
            "  inflating: governors_state.csv     \n",
            "  inflating: house_candidate.csv     \n",
            "  inflating: house_state.csv         \n",
            "  inflating: president_county.csv    \n",
            "  inflating: president_county_candidate.csv  \n",
            "  inflating: president_state.csv     \n",
            "  inflating: senate_county.csv       \n",
            "  inflating: senate_county_candidate.csv  \n",
            "  inflating: senate_state.csv        \n",
            "\n",
            "2 archives were successfully processed.\n"
          ],
          "name": "stdout"
        }
      ]
    },
    {
      "cell_type": "markdown",
      "metadata": {
        "id": "aJ34SovLtFI8"
      },
      "source": [
        "### 문제 3. Pandas 라이브러리로 csv파일 읽어들이기\n"
      ]
    },
    {
      "cell_type": "code",
      "metadata": {
        "id": "RnJv-4YwCMSx"
      },
      "source": [
        "# from US Election 2020\n",
        "df_pres = pd.read_csv('president_county_candidate.csv')\n",
        "df_gov =  pd.read_csv('governors_county_candidate.csv')\n",
        "\n",
        "\n",
        "# from US Census 2017\n",
        "df_census = pd.read_csv('acs2017_county_data.csv')"
      ],
      "execution_count": 57,
      "outputs": []
    },
    {
      "cell_type": "code",
      "metadata": {
        "id": "7clcljRrmsO5"
      },
      "source": [
        "# State Code 관련 부가 자료\n",
        "state_code = pd.read_html('https://www.infoplease.com/us/postal-information/state-abbreviations-and-state-postal-codes')[0]"
      ],
      "execution_count": 58,
      "outputs": []
    },
    {
      "cell_type": "markdown",
      "metadata": {
        "id": "9L3BNVM7tHN5"
      },
      "source": [
        "## Step 2. EDA 및 데이터 기초 통계 분석\n"
      ]
    },
    {
      "cell_type": "markdown",
      "metadata": {
        "id": "HyFm33tNtVn7"
      },
      "source": [
        "### 문제 4. 각 데이터프레임 구조 및 기초 통계 확인하기\n"
      ]
    },
    {
      "cell_type": "code",
      "metadata": {
        "id": "YcR9BX23DIFW",
        "colab": {
          "base_uri": "https://localhost:8080/",
          "height": 204
        },
        "outputId": "568a984b-f82d-4ca6-ab67-66f02267401b"
      },
      "source": [
        "# DataFrame에서 제공하는 메소드를 이용하여 각 데이터프레임의 구조 분석하기 (head(), info(), describe())\n",
        "df_pres.head()\n",
        "\n",
        "\n"
      ],
      "execution_count": 45,
      "outputs": [
        {
          "output_type": "execute_result",
          "data": {
            "text/html": [
              "<div>\n",
              "<style scoped>\n",
              "    .dataframe tbody tr th:only-of-type {\n",
              "        vertical-align: middle;\n",
              "    }\n",
              "\n",
              "    .dataframe tbody tr th {\n",
              "        vertical-align: top;\n",
              "    }\n",
              "\n",
              "    .dataframe thead th {\n",
              "        text-align: right;\n",
              "    }\n",
              "</style>\n",
              "<table border=\"1\" class=\"dataframe\">\n",
              "  <thead>\n",
              "    <tr style=\"text-align: right;\">\n",
              "      <th></th>\n",
              "      <th>state</th>\n",
              "      <th>county</th>\n",
              "      <th>candidate</th>\n",
              "      <th>party</th>\n",
              "      <th>total_votes</th>\n",
              "      <th>won</th>\n",
              "    </tr>\n",
              "  </thead>\n",
              "  <tbody>\n",
              "    <tr>\n",
              "      <th>0</th>\n",
              "      <td>Delaware</td>\n",
              "      <td>Kent County</td>\n",
              "      <td>Joe Biden</td>\n",
              "      <td>DEM</td>\n",
              "      <td>44552</td>\n",
              "      <td>True</td>\n",
              "    </tr>\n",
              "    <tr>\n",
              "      <th>1</th>\n",
              "      <td>Delaware</td>\n",
              "      <td>Kent County</td>\n",
              "      <td>Donald Trump</td>\n",
              "      <td>REP</td>\n",
              "      <td>41009</td>\n",
              "      <td>False</td>\n",
              "    </tr>\n",
              "    <tr>\n",
              "      <th>2</th>\n",
              "      <td>Delaware</td>\n",
              "      <td>Kent County</td>\n",
              "      <td>Jo Jorgensen</td>\n",
              "      <td>LIB</td>\n",
              "      <td>1044</td>\n",
              "      <td>False</td>\n",
              "    </tr>\n",
              "    <tr>\n",
              "      <th>3</th>\n",
              "      <td>Delaware</td>\n",
              "      <td>Kent County</td>\n",
              "      <td>Howie Hawkins</td>\n",
              "      <td>GRN</td>\n",
              "      <td>420</td>\n",
              "      <td>False</td>\n",
              "    </tr>\n",
              "    <tr>\n",
              "      <th>4</th>\n",
              "      <td>Delaware</td>\n",
              "      <td>New Castle County</td>\n",
              "      <td>Joe Biden</td>\n",
              "      <td>DEM</td>\n",
              "      <td>195034</td>\n",
              "      <td>True</td>\n",
              "    </tr>\n",
              "  </tbody>\n",
              "</table>\n",
              "</div>"
            ],
            "text/plain": [
              "      state             county      candidate party  total_votes    won\n",
              "0  Delaware        Kent County      Joe Biden   DEM        44552   True\n",
              "1  Delaware        Kent County   Donald Trump   REP        41009  False\n",
              "2  Delaware        Kent County   Jo Jorgensen   LIB         1044  False\n",
              "3  Delaware        Kent County  Howie Hawkins   GRN          420  False\n",
              "4  Delaware  New Castle County      Joe Biden   DEM       195034   True"
            ]
          },
          "metadata": {
            "tags": []
          },
          "execution_count": 45
        }
      ]
    },
    {
      "cell_type": "code",
      "metadata": {
        "colab": {
          "base_uri": "https://localhost:8080/"
        },
        "id": "KW6KvzwfucDs",
        "outputId": "8bcc3b48-8bfb-4135-d2db-fef4fd7a1d88"
      },
      "source": [
        "df_pres['candidate'].unique()"
      ],
      "execution_count": 22,
      "outputs": [
        {
          "output_type": "execute_result",
          "data": {
            "text/plain": [
              "array(['Joe Biden', 'Donald Trump', 'Jo Jorgensen', 'Howie Hawkins',\n",
              "       ' Write-ins', 'Gloria La Riva', 'Brock Pierce',\n",
              "       'Rocky De La Fuente', 'Don Blankenship', 'Kanye West',\n",
              "       'Brian Carroll', 'Ricki Sue King', 'Jade Simmons',\n",
              "       'President Boddie', 'Bill Hammons', 'Tom Hoefling',\n",
              "       'Alyson Kennedy', 'Jerome Segal', 'Phil Collins',\n",
              "       ' None of these candidates', 'Sheila Samm Tittle', 'Dario Hunter',\n",
              "       'Joe McHugh', 'Christopher LaFontaine', 'Keith McCormic',\n",
              "       'Brooke Paige', 'Gary Swing', 'Richard Duncan', 'Blake Huber',\n",
              "       'Kyle Kopitke', 'Zachary Scalf', 'Jesse Ventura', 'Connie Gammon',\n",
              "       'John Richard Myers', 'Mark Charles', 'Princess Jacob-Fambro',\n",
              "       'Joseph Kishore', 'Jordan Scott'], dtype=object)"
            ]
          },
          "metadata": {
            "tags": []
          },
          "execution_count": 22
        }
      ]
    },
    {
      "cell_type": "code",
      "metadata": {
        "colab": {
          "base_uri": "https://localhost:8080/"
        },
        "id": "uLFfzIuqushc",
        "outputId": "e62dab09-f4a3-4a90-df74-ddf10bbfb132"
      },
      "source": [
        "df_pres['candidate'].value_counts() #write in은 직접와서 이름을 적는형태 "
      ],
      "execution_count": 24,
      "outputs": [
        {
          "output_type": "execute_result",
          "data": {
            "text/plain": [
              "Jo Jorgensen                 4633\n",
              "Joe Biden                    4633\n",
              "Donald Trump                 4633\n",
              " Write-ins                   3792\n",
              "Howie Hawkins                2994\n",
              "Rocky De La Fuente           1562\n",
              "Don Blankenship              1317\n",
              "Brock Pierce                 1124\n",
              "Kanye West                   1082\n",
              "Gloria La Riva               1028\n",
              "Brian Carroll                 745\n",
              "Alyson Kennedy                595\n",
              "Phil Collins                  467\n",
              "Blake Huber                   310\n",
              "Kyle Kopitke                  310\n",
              "Jerome Segal                  270\n",
              "Brooke Paige                  246\n",
              "Richard Duncan                246\n",
              "Zachary Scalf                 246\n",
              "Gary Swing                    246\n",
              "Keith McCormic                246\n",
              "Christopher LaFontaine        246\n",
              "Bill Hammons                  149\n",
              "Jade Simmons                  141\n",
              "Dario Hunter                  100\n",
              "Ricki Sue King                 99\n",
              "Joe McHugh                     93\n",
              "Connie Gammon                  75\n",
              "John Richard Myers             75\n",
              "Princess Jacob-Fambro          64\n",
              "Tom Hoefling                   64\n",
              "Mark Charles                   64\n",
              "Joseph Kishore                 64\n",
              "Jordan Scott                   64\n",
              "President Boddie               64\n",
              "Jesse Ventura                  40\n",
              "Sheila Samm Tittle             33\n",
              " None of these candidates      17\n",
              "Name: candidate, dtype: int64"
            ]
          },
          "metadata": {
            "tags": []
          },
          "execution_count": 24
        }
      ]
    },
    {
      "cell_type": "code",
      "metadata": {
        "colab": {
          "base_uri": "https://localhost:8080/"
        },
        "id": "14HvjT9-lA_K",
        "outputId": "3e8df761-7886-44e0-b2a5-4b2b68d66ddc"
      },
      "source": [
        "df_pres.loc[df_pres['candidate'] == 'Kanye West']['total_votes'].sum()"
      ],
      "execution_count": 28,
      "outputs": [
        {
          "output_type": "execute_result",
          "data": {
            "text/plain": [
              "66367"
            ]
          },
          "metadata": {
            "tags": []
          },
          "execution_count": 28
        }
      ]
    },
    {
      "cell_type": "code",
      "metadata": {
        "colab": {
          "base_uri": "https://localhost:8080/"
        },
        "id": "DNMhxQgplqm3",
        "outputId": "461bf72f-92db-49d5-ca63-a4e1b77700a4"
      },
      "source": [
        "df_pres.loc[df_pres['candidate'] == 'Joe Biden']['total_votes'].sum()\n"
      ],
      "execution_count": 29,
      "outputs": [
        {
          "output_type": "execute_result",
          "data": {
            "text/plain": [
              "82046434"
            ]
          },
          "metadata": {
            "tags": []
          },
          "execution_count": 29
        }
      ]
    },
    {
      "cell_type": "code",
      "metadata": {
        "colab": {
          "base_uri": "https://localhost:8080/",
          "height": 204
        },
        "id": "K7kbHvnAuOAX",
        "outputId": "24a2f6ee-58ee-44a0-d90c-9985b46e1ba6"
      },
      "source": [
        " df_gov.head()"
      ],
      "execution_count": 59,
      "outputs": [
        {
          "output_type": "execute_result",
          "data": {
            "text/html": [
              "<div>\n",
              "<style scoped>\n",
              "    .dataframe tbody tr th:only-of-type {\n",
              "        vertical-align: middle;\n",
              "    }\n",
              "\n",
              "    .dataframe tbody tr th {\n",
              "        vertical-align: top;\n",
              "    }\n",
              "\n",
              "    .dataframe thead th {\n",
              "        text-align: right;\n",
              "    }\n",
              "</style>\n",
              "<table border=\"1\" class=\"dataframe\">\n",
              "  <thead>\n",
              "    <tr style=\"text-align: right;\">\n",
              "      <th></th>\n",
              "      <th>state</th>\n",
              "      <th>county</th>\n",
              "      <th>candidate</th>\n",
              "      <th>party</th>\n",
              "      <th>votes</th>\n",
              "      <th>won</th>\n",
              "    </tr>\n",
              "  </thead>\n",
              "  <tbody>\n",
              "    <tr>\n",
              "      <th>0</th>\n",
              "      <td>Delaware</td>\n",
              "      <td>Kent County</td>\n",
              "      <td>John Carney</td>\n",
              "      <td>DEM</td>\n",
              "      <td>44352</td>\n",
              "      <td>True</td>\n",
              "    </tr>\n",
              "    <tr>\n",
              "      <th>1</th>\n",
              "      <td>Delaware</td>\n",
              "      <td>Kent County</td>\n",
              "      <td>Julianne Murray</td>\n",
              "      <td>REP</td>\n",
              "      <td>39332</td>\n",
              "      <td>False</td>\n",
              "    </tr>\n",
              "    <tr>\n",
              "      <th>2</th>\n",
              "      <td>Delaware</td>\n",
              "      <td>Kent County</td>\n",
              "      <td>Kathy DeMatteis</td>\n",
              "      <td>IPD</td>\n",
              "      <td>1115</td>\n",
              "      <td>False</td>\n",
              "    </tr>\n",
              "    <tr>\n",
              "      <th>3</th>\n",
              "      <td>Delaware</td>\n",
              "      <td>Kent County</td>\n",
              "      <td>John Machurek</td>\n",
              "      <td>LIB</td>\n",
              "      <td>616</td>\n",
              "      <td>False</td>\n",
              "    </tr>\n",
              "    <tr>\n",
              "      <th>4</th>\n",
              "      <td>Delaware</td>\n",
              "      <td>New Castle County</td>\n",
              "      <td>John Carney</td>\n",
              "      <td>DEM</td>\n",
              "      <td>191678</td>\n",
              "      <td>True</td>\n",
              "    </tr>\n",
              "  </tbody>\n",
              "</table>\n",
              "</div>"
            ],
            "text/plain": [
              "      state             county        candidate party   votes    won\n",
              "0  Delaware        Kent County      John Carney   DEM   44352   True\n",
              "1  Delaware        Kent County  Julianne Murray   REP   39332  False\n",
              "2  Delaware        Kent County  Kathy DeMatteis   IPD    1115  False\n",
              "3  Delaware        Kent County    John Machurek   LIB     616  False\n",
              "4  Delaware  New Castle County      John Carney   DEM  191678   True"
            ]
          },
          "metadata": {
            "tags": []
          },
          "execution_count": 59
        }
      ]
    },
    {
      "cell_type": "code",
      "metadata": {
        "colab": {
          "base_uri": "https://localhost:8080/",
          "height": 309
        },
        "id": "DKecRXixuSKc",
        "outputId": "227dd907-9671-4132-d9b7-5d66240116c5"
      },
      "source": [
        "df_census.head()"
      ],
      "execution_count": 34,
      "outputs": [
        {
          "output_type": "execute_result",
          "data": {
            "text/html": [
              "<div>\n",
              "<style scoped>\n",
              "    .dataframe tbody tr th:only-of-type {\n",
              "        vertical-align: middle;\n",
              "    }\n",
              "\n",
              "    .dataframe tbody tr th {\n",
              "        vertical-align: top;\n",
              "    }\n",
              "\n",
              "    .dataframe thead th {\n",
              "        text-align: right;\n",
              "    }\n",
              "</style>\n",
              "<table border=\"1\" class=\"dataframe\">\n",
              "  <thead>\n",
              "    <tr style=\"text-align: right;\">\n",
              "      <th></th>\n",
              "      <th>CountyId</th>\n",
              "      <th>State</th>\n",
              "      <th>County</th>\n",
              "      <th>TotalPop</th>\n",
              "      <th>Men</th>\n",
              "      <th>Women</th>\n",
              "      <th>Hispanic</th>\n",
              "      <th>White</th>\n",
              "      <th>Black</th>\n",
              "      <th>Native</th>\n",
              "      <th>Asian</th>\n",
              "      <th>Pacific</th>\n",
              "      <th>VotingAgeCitizen</th>\n",
              "      <th>Income</th>\n",
              "      <th>IncomeErr</th>\n",
              "      <th>IncomePerCap</th>\n",
              "      <th>IncomePerCapErr</th>\n",
              "      <th>Poverty</th>\n",
              "      <th>ChildPoverty</th>\n",
              "      <th>Professional</th>\n",
              "      <th>Service</th>\n",
              "      <th>Office</th>\n",
              "      <th>Construction</th>\n",
              "      <th>Production</th>\n",
              "      <th>Drive</th>\n",
              "      <th>Carpool</th>\n",
              "      <th>Transit</th>\n",
              "      <th>Walk</th>\n",
              "      <th>OtherTransp</th>\n",
              "      <th>WorkAtHome</th>\n",
              "      <th>MeanCommute</th>\n",
              "      <th>Employed</th>\n",
              "      <th>PrivateWork</th>\n",
              "      <th>PublicWork</th>\n",
              "      <th>SelfEmployed</th>\n",
              "      <th>FamilyWork</th>\n",
              "      <th>Unemployment</th>\n",
              "    </tr>\n",
              "  </thead>\n",
              "  <tbody>\n",
              "    <tr>\n",
              "      <th>0</th>\n",
              "      <td>1001</td>\n",
              "      <td>Alabama</td>\n",
              "      <td>Autauga County</td>\n",
              "      <td>55036</td>\n",
              "      <td>26899</td>\n",
              "      <td>28137</td>\n",
              "      <td>2.7</td>\n",
              "      <td>75.4</td>\n",
              "      <td>18.9</td>\n",
              "      <td>0.3</td>\n",
              "      <td>0.9</td>\n",
              "      <td>0.0</td>\n",
              "      <td>41016</td>\n",
              "      <td>55317</td>\n",
              "      <td>2838</td>\n",
              "      <td>27824</td>\n",
              "      <td>2024</td>\n",
              "      <td>13.7</td>\n",
              "      <td>20.1</td>\n",
              "      <td>35.3</td>\n",
              "      <td>18.0</td>\n",
              "      <td>23.2</td>\n",
              "      <td>8.1</td>\n",
              "      <td>15.4</td>\n",
              "      <td>86.0</td>\n",
              "      <td>9.6</td>\n",
              "      <td>0.1</td>\n",
              "      <td>0.6</td>\n",
              "      <td>1.3</td>\n",
              "      <td>2.5</td>\n",
              "      <td>25.8</td>\n",
              "      <td>24112</td>\n",
              "      <td>74.1</td>\n",
              "      <td>20.2</td>\n",
              "      <td>5.6</td>\n",
              "      <td>0.1</td>\n",
              "      <td>5.2</td>\n",
              "    </tr>\n",
              "    <tr>\n",
              "      <th>1</th>\n",
              "      <td>1003</td>\n",
              "      <td>Alabama</td>\n",
              "      <td>Baldwin County</td>\n",
              "      <td>203360</td>\n",
              "      <td>99527</td>\n",
              "      <td>103833</td>\n",
              "      <td>4.4</td>\n",
              "      <td>83.1</td>\n",
              "      <td>9.5</td>\n",
              "      <td>0.8</td>\n",
              "      <td>0.7</td>\n",
              "      <td>0.0</td>\n",
              "      <td>155376</td>\n",
              "      <td>52562</td>\n",
              "      <td>1348</td>\n",
              "      <td>29364</td>\n",
              "      <td>735</td>\n",
              "      <td>11.8</td>\n",
              "      <td>16.1</td>\n",
              "      <td>35.7</td>\n",
              "      <td>18.2</td>\n",
              "      <td>25.6</td>\n",
              "      <td>9.7</td>\n",
              "      <td>10.8</td>\n",
              "      <td>84.7</td>\n",
              "      <td>7.6</td>\n",
              "      <td>0.1</td>\n",
              "      <td>0.8</td>\n",
              "      <td>1.1</td>\n",
              "      <td>5.6</td>\n",
              "      <td>27.0</td>\n",
              "      <td>89527</td>\n",
              "      <td>80.7</td>\n",
              "      <td>12.9</td>\n",
              "      <td>6.3</td>\n",
              "      <td>0.1</td>\n",
              "      <td>5.5</td>\n",
              "    </tr>\n",
              "    <tr>\n",
              "      <th>2</th>\n",
              "      <td>1005</td>\n",
              "      <td>Alabama</td>\n",
              "      <td>Barbour County</td>\n",
              "      <td>26201</td>\n",
              "      <td>13976</td>\n",
              "      <td>12225</td>\n",
              "      <td>4.2</td>\n",
              "      <td>45.7</td>\n",
              "      <td>47.8</td>\n",
              "      <td>0.2</td>\n",
              "      <td>0.6</td>\n",
              "      <td>0.0</td>\n",
              "      <td>20269</td>\n",
              "      <td>33368</td>\n",
              "      <td>2551</td>\n",
              "      <td>17561</td>\n",
              "      <td>798</td>\n",
              "      <td>27.2</td>\n",
              "      <td>44.9</td>\n",
              "      <td>25.0</td>\n",
              "      <td>16.8</td>\n",
              "      <td>22.6</td>\n",
              "      <td>11.5</td>\n",
              "      <td>24.1</td>\n",
              "      <td>83.4</td>\n",
              "      <td>11.1</td>\n",
              "      <td>0.3</td>\n",
              "      <td>2.2</td>\n",
              "      <td>1.7</td>\n",
              "      <td>1.3</td>\n",
              "      <td>23.4</td>\n",
              "      <td>8878</td>\n",
              "      <td>74.1</td>\n",
              "      <td>19.1</td>\n",
              "      <td>6.5</td>\n",
              "      <td>0.3</td>\n",
              "      <td>12.4</td>\n",
              "    </tr>\n",
              "    <tr>\n",
              "      <th>3</th>\n",
              "      <td>1007</td>\n",
              "      <td>Alabama</td>\n",
              "      <td>Bibb County</td>\n",
              "      <td>22580</td>\n",
              "      <td>12251</td>\n",
              "      <td>10329</td>\n",
              "      <td>2.4</td>\n",
              "      <td>74.6</td>\n",
              "      <td>22.0</td>\n",
              "      <td>0.4</td>\n",
              "      <td>0.0</td>\n",
              "      <td>0.0</td>\n",
              "      <td>17662</td>\n",
              "      <td>43404</td>\n",
              "      <td>3431</td>\n",
              "      <td>20911</td>\n",
              "      <td>1889</td>\n",
              "      <td>15.2</td>\n",
              "      <td>26.6</td>\n",
              "      <td>24.4</td>\n",
              "      <td>17.6</td>\n",
              "      <td>19.7</td>\n",
              "      <td>15.9</td>\n",
              "      <td>22.4</td>\n",
              "      <td>86.4</td>\n",
              "      <td>9.5</td>\n",
              "      <td>0.7</td>\n",
              "      <td>0.3</td>\n",
              "      <td>1.7</td>\n",
              "      <td>1.5</td>\n",
              "      <td>30.0</td>\n",
              "      <td>8171</td>\n",
              "      <td>76.0</td>\n",
              "      <td>17.4</td>\n",
              "      <td>6.3</td>\n",
              "      <td>0.3</td>\n",
              "      <td>8.2</td>\n",
              "    </tr>\n",
              "    <tr>\n",
              "      <th>4</th>\n",
              "      <td>1009</td>\n",
              "      <td>Alabama</td>\n",
              "      <td>Blount County</td>\n",
              "      <td>57667</td>\n",
              "      <td>28490</td>\n",
              "      <td>29177</td>\n",
              "      <td>9.0</td>\n",
              "      <td>87.4</td>\n",
              "      <td>1.5</td>\n",
              "      <td>0.3</td>\n",
              "      <td>0.1</td>\n",
              "      <td>0.0</td>\n",
              "      <td>42513</td>\n",
              "      <td>47412</td>\n",
              "      <td>2630</td>\n",
              "      <td>22021</td>\n",
              "      <td>850</td>\n",
              "      <td>15.6</td>\n",
              "      <td>25.4</td>\n",
              "      <td>28.5</td>\n",
              "      <td>12.9</td>\n",
              "      <td>23.3</td>\n",
              "      <td>15.8</td>\n",
              "      <td>19.5</td>\n",
              "      <td>86.8</td>\n",
              "      <td>10.2</td>\n",
              "      <td>0.1</td>\n",
              "      <td>0.4</td>\n",
              "      <td>0.4</td>\n",
              "      <td>2.1</td>\n",
              "      <td>35.0</td>\n",
              "      <td>21380</td>\n",
              "      <td>83.9</td>\n",
              "      <td>11.9</td>\n",
              "      <td>4.0</td>\n",
              "      <td>0.1</td>\n",
              "      <td>4.9</td>\n",
              "    </tr>\n",
              "  </tbody>\n",
              "</table>\n",
              "</div>"
            ],
            "text/plain": [
              "   CountyId    State          County  ...  SelfEmployed  FamilyWork  Unemployment\n",
              "0      1001  Alabama  Autauga County  ...           5.6         0.1           5.2\n",
              "1      1003  Alabama  Baldwin County  ...           6.3         0.1           5.5\n",
              "2      1005  Alabama  Barbour County  ...           6.5         0.3          12.4\n",
              "3      1007  Alabama     Bibb County  ...           6.3         0.3           8.2\n",
              "4      1009  Alabama   Blount County  ...           4.0         0.1           4.9\n",
              "\n",
              "[5 rows x 37 columns]"
            ]
          },
          "metadata": {
            "tags": []
          },
          "execution_count": 34
        }
      ]
    },
    {
      "cell_type": "code",
      "metadata": {
        "colab": {
          "base_uri": "https://localhost:8080/"
        },
        "id": "unW2qIu1nCXG",
        "outputId": "4d5167b4-0afc-4dcb-da3f-f1a337a0cd29"
      },
      "source": [
        "df_census['County'].value_counts()"
      ],
      "execution_count": 35,
      "outputs": [
        {
          "output_type": "execute_result",
          "data": {
            "text/plain": [
              "Washington County         30\n",
              "Jefferson County          25\n",
              "Franklin County           24\n",
              "Jackson County            23\n",
              "Lincoln County            23\n",
              "                          ..\n",
              "Tolland County             1\n",
              "San Luis Obispo County     1\n",
              "Mahaska County             1\n",
              "Redwood County             1\n",
              "Aitkin County              1\n",
              "Name: County, Length: 1955, dtype: int64"
            ]
          },
          "metadata": {
            "tags": []
          },
          "execution_count": 35
        }
      ]
    },
    {
      "cell_type": "markdown",
      "metadata": {
        "id": "HGHvPwkNtXgj"
      },
      "source": [
        "### 문제 5. County 별 통계로 데이터프레임 구조 변경하기\n"
      ]
    },
    {
      "cell_type": "code",
      "metadata": {
        "id": "b_zcrUDF7khF",
        "colab": {
          "base_uri": "https://localhost:8080/",
          "height": 450
        },
        "outputId": "8b78f3aa-d3d2-4673-e6a4-66902fac925c"
      },
      "source": [
        "# 모든 데이터프레임의 index를 County로 변경하기 , # 데이터 많이 날렸기 때문에 결측치 있나 확인해야함\n",
        "\n",
        "data = df_pres.loc[df_pres['party'].apply(lambda s: str(s) in ['DEM', 'REP'])]\n",
        "table_pres = pd.pivot_table(data = data, index= ['state', 'county'], columns='party', values='total_votes')\n",
        "table_pres.rename({'DEM': 'PresDEM', 'REP': 'Pres_REP'}, axis=1, inplace=True)\n",
        "table_pres\n",
        "# table_pres.isna().sum()\n",
        "\n",
        "\n"
      ],
      "execution_count": 78,
      "outputs": [
        {
          "output_type": "execute_result",
          "data": {
            "text/html": [
              "<div>\n",
              "<style scoped>\n",
              "    .dataframe tbody tr th:only-of-type {\n",
              "        vertical-align: middle;\n",
              "    }\n",
              "\n",
              "    .dataframe tbody tr th {\n",
              "        vertical-align: top;\n",
              "    }\n",
              "\n",
              "    .dataframe thead th {\n",
              "        text-align: right;\n",
              "    }\n",
              "</style>\n",
              "<table border=\"1\" class=\"dataframe\">\n",
              "  <thead>\n",
              "    <tr style=\"text-align: right;\">\n",
              "      <th></th>\n",
              "      <th>party</th>\n",
              "      <th>PresDem</th>\n",
              "      <th>Pres_REP</th>\n",
              "    </tr>\n",
              "    <tr>\n",
              "      <th>state</th>\n",
              "      <th>county</th>\n",
              "      <th></th>\n",
              "      <th></th>\n",
              "    </tr>\n",
              "  </thead>\n",
              "  <tbody>\n",
              "    <tr>\n",
              "      <th rowspan=\"5\" valign=\"top\">Alabama</th>\n",
              "      <th>Autauga County</th>\n",
              "      <td>7503</td>\n",
              "      <td>19838</td>\n",
              "    </tr>\n",
              "    <tr>\n",
              "      <th>Baldwin County</th>\n",
              "      <td>24578</td>\n",
              "      <td>83544</td>\n",
              "    </tr>\n",
              "    <tr>\n",
              "      <th>Barbour County</th>\n",
              "      <td>4816</td>\n",
              "      <td>5622</td>\n",
              "    </tr>\n",
              "    <tr>\n",
              "      <th>Bibb County</th>\n",
              "      <td>1986</td>\n",
              "      <td>7525</td>\n",
              "    </tr>\n",
              "    <tr>\n",
              "      <th>Blount County</th>\n",
              "      <td>2640</td>\n",
              "      <td>24711</td>\n",
              "    </tr>\n",
              "    <tr>\n",
              "      <th>...</th>\n",
              "      <th>...</th>\n",
              "      <td>...</td>\n",
              "      <td>...</td>\n",
              "    </tr>\n",
              "    <tr>\n",
              "      <th rowspan=\"5\" valign=\"top\">Wyoming</th>\n",
              "      <th>Sweetwater County</th>\n",
              "      <td>3823</td>\n",
              "      <td>12229</td>\n",
              "    </tr>\n",
              "    <tr>\n",
              "      <th>Teton County</th>\n",
              "      <td>9848</td>\n",
              "      <td>4341</td>\n",
              "    </tr>\n",
              "    <tr>\n",
              "      <th>Uinta County</th>\n",
              "      <td>1591</td>\n",
              "      <td>7496</td>\n",
              "    </tr>\n",
              "    <tr>\n",
              "      <th>Washakie County</th>\n",
              "      <td>651</td>\n",
              "      <td>3245</td>\n",
              "    </tr>\n",
              "    <tr>\n",
              "      <th>Weston County</th>\n",
              "      <td>360</td>\n",
              "      <td>3107</td>\n",
              "    </tr>\n",
              "  </tbody>\n",
              "</table>\n",
              "<p>4633 rows × 2 columns</p>\n",
              "</div>"
            ],
            "text/plain": [
              "party                      PresDem  Pres_REP\n",
              "state   county                              \n",
              "Alabama Autauga County        7503     19838\n",
              "        Baldwin County       24578     83544\n",
              "        Barbour County        4816      5622\n",
              "        Bibb County           1986      7525\n",
              "        Blount County         2640     24711\n",
              "...                            ...       ...\n",
              "Wyoming Sweetwater County     3823     12229\n",
              "        Teton County          9848      4341\n",
              "        Uinta County          1591      7496\n",
              "        Washakie County        651      3245\n",
              "        Weston County          360      3107\n",
              "\n",
              "[4633 rows x 2 columns]"
            ]
          },
          "metadata": {
            "tags": []
          },
          "execution_count": 78
        }
      ]
    },
    {
      "cell_type": "code",
      "metadata": {
        "colab": {
          "base_uri": "https://localhost:8080/",
          "height": 450
        },
        "id": "WGqsvgTg1Vpv",
        "outputId": "5a342733-74b3-43a5-d1a0-c793690f09b3"
      },
      "source": [
        "data = df_gov.loc[df_gov['party'].apply(lambda s: str(s) in ['DEM', 'REP'])]\n",
        "table_gov = pd.pivot_table(data = data, index= ['state', 'county'], columns='party', values='votes')\n",
        "table_gov.rename({'DEM': 'Gov_DEM', 'REP': 'Gov_REP'}, axis=1, inplace=True)\n",
        "table_gov\n",
        "# table_gov.isna().sum()"
      ],
      "execution_count": 79,
      "outputs": [
        {
          "output_type": "execute_result",
          "data": {
            "text/html": [
              "<div>\n",
              "<style scoped>\n",
              "    .dataframe tbody tr th:only-of-type {\n",
              "        vertical-align: middle;\n",
              "    }\n",
              "\n",
              "    .dataframe tbody tr th {\n",
              "        vertical-align: top;\n",
              "    }\n",
              "\n",
              "    .dataframe thead th {\n",
              "        text-align: right;\n",
              "    }\n",
              "</style>\n",
              "<table border=\"1\" class=\"dataframe\">\n",
              "  <thead>\n",
              "    <tr style=\"text-align: right;\">\n",
              "      <th></th>\n",
              "      <th>party</th>\n",
              "      <th>Gov_DEM</th>\n",
              "      <th>Gov_REP</th>\n",
              "    </tr>\n",
              "    <tr>\n",
              "      <th>state</th>\n",
              "      <th>county</th>\n",
              "      <th></th>\n",
              "      <th></th>\n",
              "    </tr>\n",
              "  </thead>\n",
              "  <tbody>\n",
              "    <tr>\n",
              "      <th rowspan=\"3\" valign=\"top\">Delaware</th>\n",
              "      <th>Kent County</th>\n",
              "      <td>44352</td>\n",
              "      <td>39332</td>\n",
              "    </tr>\n",
              "    <tr>\n",
              "      <th>New Castle County</th>\n",
              "      <td>191678</td>\n",
              "      <td>82545</td>\n",
              "    </tr>\n",
              "    <tr>\n",
              "      <th>Sussex County</th>\n",
              "      <td>56873</td>\n",
              "      <td>68435</td>\n",
              "    </tr>\n",
              "    <tr>\n",
              "      <th rowspan=\"2\" valign=\"top\">Indiana</th>\n",
              "      <th>Adams County</th>\n",
              "      <td>2143</td>\n",
              "      <td>9441</td>\n",
              "    </tr>\n",
              "    <tr>\n",
              "      <th>Allen County</th>\n",
              "      <td>53895</td>\n",
              "      <td>98406</td>\n",
              "    </tr>\n",
              "    <tr>\n",
              "      <th>...</th>\n",
              "      <th>...</th>\n",
              "      <td>...</td>\n",
              "      <td>...</td>\n",
              "    </tr>\n",
              "    <tr>\n",
              "      <th rowspan=\"5\" valign=\"top\">West Virginia</th>\n",
              "      <th>Webster County</th>\n",
              "      <td>659</td>\n",
              "      <td>2552</td>\n",
              "    </tr>\n",
              "    <tr>\n",
              "      <th>Wetzel County</th>\n",
              "      <td>1727</td>\n",
              "      <td>4559</td>\n",
              "    </tr>\n",
              "    <tr>\n",
              "      <th>Wirt County</th>\n",
              "      <td>483</td>\n",
              "      <td>1947</td>\n",
              "    </tr>\n",
              "    <tr>\n",
              "      <th>Wood County</th>\n",
              "      <td>9933</td>\n",
              "      <td>26232</td>\n",
              "    </tr>\n",
              "    <tr>\n",
              "      <th>Wyoming County</th>\n",
              "      <td>1240</td>\n",
              "      <td>6941</td>\n",
              "    </tr>\n",
              "  </tbody>\n",
              "</table>\n",
              "<p>1025 rows × 2 columns</p>\n",
              "</div>"
            ],
            "text/plain": [
              "party                            Gov_DEM  Gov_REP\n",
              "state         county                             \n",
              "Delaware      Kent County          44352    39332\n",
              "              New Castle County   191678    82545\n",
              "              Sussex County        56873    68435\n",
              "Indiana       Adams County          2143     9441\n",
              "              Allen County         53895    98406\n",
              "...                                  ...      ...\n",
              "West Virginia Webster County         659     2552\n",
              "              Wetzel County         1727     4559\n",
              "              Wirt County            483     1947\n",
              "              Wood County           9933    26232\n",
              "              Wyoming County        1240     6941\n",
              "\n",
              "[1025 rows x 2 columns]"
            ]
          },
          "metadata": {
            "tags": []
          },
          "execution_count": 79
        }
      ]
    },
    {
      "cell_type": "code",
      "metadata": {
        "colab": {
          "base_uri": "https://localhost:8080/",
          "height": 626
        },
        "id": "RXZktqnI169P",
        "outputId": "52b7fc54-0c7c-49ca-971e-dc21c8829614"
      },
      "source": [
        "df_census.rename({'State': 'state', 'County': 'county'}, axis=1, inplace=True)\n",
        "# df_census.drop('CountyId', axis=1, inplace=True)\n",
        "df_census.set_index(['state', 'county'], inplace=True)\n",
        "df_census"
      ],
      "execution_count": 75,
      "outputs": [
        {
          "output_type": "execute_result",
          "data": {
            "text/html": [
              "<div>\n",
              "<style scoped>\n",
              "    .dataframe tbody tr th:only-of-type {\n",
              "        vertical-align: middle;\n",
              "    }\n",
              "\n",
              "    .dataframe tbody tr th {\n",
              "        vertical-align: top;\n",
              "    }\n",
              "\n",
              "    .dataframe thead th {\n",
              "        text-align: right;\n",
              "    }\n",
              "</style>\n",
              "<table border=\"1\" class=\"dataframe\">\n",
              "  <thead>\n",
              "    <tr style=\"text-align: right;\">\n",
              "      <th></th>\n",
              "      <th>state</th>\n",
              "      <th>county</th>\n",
              "      <th>TotalPop</th>\n",
              "      <th>Men</th>\n",
              "      <th>Women</th>\n",
              "      <th>Hispanic</th>\n",
              "      <th>White</th>\n",
              "      <th>Black</th>\n",
              "      <th>Native</th>\n",
              "      <th>Asian</th>\n",
              "      <th>Pacific</th>\n",
              "      <th>VotingAgeCitizen</th>\n",
              "      <th>Income</th>\n",
              "      <th>IncomeErr</th>\n",
              "      <th>IncomePerCap</th>\n",
              "      <th>IncomePerCapErr</th>\n",
              "      <th>Poverty</th>\n",
              "      <th>ChildPoverty</th>\n",
              "      <th>Professional</th>\n",
              "      <th>Service</th>\n",
              "      <th>Office</th>\n",
              "      <th>Construction</th>\n",
              "      <th>Production</th>\n",
              "      <th>Drive</th>\n",
              "      <th>Carpool</th>\n",
              "      <th>Transit</th>\n",
              "      <th>Walk</th>\n",
              "      <th>OtherTransp</th>\n",
              "      <th>WorkAtHome</th>\n",
              "      <th>MeanCommute</th>\n",
              "      <th>Employed</th>\n",
              "      <th>PrivateWork</th>\n",
              "      <th>PublicWork</th>\n",
              "      <th>SelfEmployed</th>\n",
              "      <th>FamilyWork</th>\n",
              "      <th>Unemployment</th>\n",
              "    </tr>\n",
              "  </thead>\n",
              "  <tbody>\n",
              "    <tr>\n",
              "      <th>0</th>\n",
              "      <td>Alabama</td>\n",
              "      <td>Autauga County</td>\n",
              "      <td>55036</td>\n",
              "      <td>26899</td>\n",
              "      <td>28137</td>\n",
              "      <td>2.7</td>\n",
              "      <td>75.4</td>\n",
              "      <td>18.9</td>\n",
              "      <td>0.3</td>\n",
              "      <td>0.9</td>\n",
              "      <td>0.0</td>\n",
              "      <td>41016</td>\n",
              "      <td>55317</td>\n",
              "      <td>2838</td>\n",
              "      <td>27824</td>\n",
              "      <td>2024</td>\n",
              "      <td>13.7</td>\n",
              "      <td>20.1</td>\n",
              "      <td>35.3</td>\n",
              "      <td>18.0</td>\n",
              "      <td>23.2</td>\n",
              "      <td>8.1</td>\n",
              "      <td>15.4</td>\n",
              "      <td>86.0</td>\n",
              "      <td>9.6</td>\n",
              "      <td>0.1</td>\n",
              "      <td>0.6</td>\n",
              "      <td>1.3</td>\n",
              "      <td>2.5</td>\n",
              "      <td>25.8</td>\n",
              "      <td>24112</td>\n",
              "      <td>74.1</td>\n",
              "      <td>20.2</td>\n",
              "      <td>5.6</td>\n",
              "      <td>0.1</td>\n",
              "      <td>5.2</td>\n",
              "    </tr>\n",
              "    <tr>\n",
              "      <th>1</th>\n",
              "      <td>Alabama</td>\n",
              "      <td>Baldwin County</td>\n",
              "      <td>203360</td>\n",
              "      <td>99527</td>\n",
              "      <td>103833</td>\n",
              "      <td>4.4</td>\n",
              "      <td>83.1</td>\n",
              "      <td>9.5</td>\n",
              "      <td>0.8</td>\n",
              "      <td>0.7</td>\n",
              "      <td>0.0</td>\n",
              "      <td>155376</td>\n",
              "      <td>52562</td>\n",
              "      <td>1348</td>\n",
              "      <td>29364</td>\n",
              "      <td>735</td>\n",
              "      <td>11.8</td>\n",
              "      <td>16.1</td>\n",
              "      <td>35.7</td>\n",
              "      <td>18.2</td>\n",
              "      <td>25.6</td>\n",
              "      <td>9.7</td>\n",
              "      <td>10.8</td>\n",
              "      <td>84.7</td>\n",
              "      <td>7.6</td>\n",
              "      <td>0.1</td>\n",
              "      <td>0.8</td>\n",
              "      <td>1.1</td>\n",
              "      <td>5.6</td>\n",
              "      <td>27.0</td>\n",
              "      <td>89527</td>\n",
              "      <td>80.7</td>\n",
              "      <td>12.9</td>\n",
              "      <td>6.3</td>\n",
              "      <td>0.1</td>\n",
              "      <td>5.5</td>\n",
              "    </tr>\n",
              "    <tr>\n",
              "      <th>2</th>\n",
              "      <td>Alabama</td>\n",
              "      <td>Barbour County</td>\n",
              "      <td>26201</td>\n",
              "      <td>13976</td>\n",
              "      <td>12225</td>\n",
              "      <td>4.2</td>\n",
              "      <td>45.7</td>\n",
              "      <td>47.8</td>\n",
              "      <td>0.2</td>\n",
              "      <td>0.6</td>\n",
              "      <td>0.0</td>\n",
              "      <td>20269</td>\n",
              "      <td>33368</td>\n",
              "      <td>2551</td>\n",
              "      <td>17561</td>\n",
              "      <td>798</td>\n",
              "      <td>27.2</td>\n",
              "      <td>44.9</td>\n",
              "      <td>25.0</td>\n",
              "      <td>16.8</td>\n",
              "      <td>22.6</td>\n",
              "      <td>11.5</td>\n",
              "      <td>24.1</td>\n",
              "      <td>83.4</td>\n",
              "      <td>11.1</td>\n",
              "      <td>0.3</td>\n",
              "      <td>2.2</td>\n",
              "      <td>1.7</td>\n",
              "      <td>1.3</td>\n",
              "      <td>23.4</td>\n",
              "      <td>8878</td>\n",
              "      <td>74.1</td>\n",
              "      <td>19.1</td>\n",
              "      <td>6.5</td>\n",
              "      <td>0.3</td>\n",
              "      <td>12.4</td>\n",
              "    </tr>\n",
              "    <tr>\n",
              "      <th>3</th>\n",
              "      <td>Alabama</td>\n",
              "      <td>Bibb County</td>\n",
              "      <td>22580</td>\n",
              "      <td>12251</td>\n",
              "      <td>10329</td>\n",
              "      <td>2.4</td>\n",
              "      <td>74.6</td>\n",
              "      <td>22.0</td>\n",
              "      <td>0.4</td>\n",
              "      <td>0.0</td>\n",
              "      <td>0.0</td>\n",
              "      <td>17662</td>\n",
              "      <td>43404</td>\n",
              "      <td>3431</td>\n",
              "      <td>20911</td>\n",
              "      <td>1889</td>\n",
              "      <td>15.2</td>\n",
              "      <td>26.6</td>\n",
              "      <td>24.4</td>\n",
              "      <td>17.6</td>\n",
              "      <td>19.7</td>\n",
              "      <td>15.9</td>\n",
              "      <td>22.4</td>\n",
              "      <td>86.4</td>\n",
              "      <td>9.5</td>\n",
              "      <td>0.7</td>\n",
              "      <td>0.3</td>\n",
              "      <td>1.7</td>\n",
              "      <td>1.5</td>\n",
              "      <td>30.0</td>\n",
              "      <td>8171</td>\n",
              "      <td>76.0</td>\n",
              "      <td>17.4</td>\n",
              "      <td>6.3</td>\n",
              "      <td>0.3</td>\n",
              "      <td>8.2</td>\n",
              "    </tr>\n",
              "    <tr>\n",
              "      <th>4</th>\n",
              "      <td>Alabama</td>\n",
              "      <td>Blount County</td>\n",
              "      <td>57667</td>\n",
              "      <td>28490</td>\n",
              "      <td>29177</td>\n",
              "      <td>9.0</td>\n",
              "      <td>87.4</td>\n",
              "      <td>1.5</td>\n",
              "      <td>0.3</td>\n",
              "      <td>0.1</td>\n",
              "      <td>0.0</td>\n",
              "      <td>42513</td>\n",
              "      <td>47412</td>\n",
              "      <td>2630</td>\n",
              "      <td>22021</td>\n",
              "      <td>850</td>\n",
              "      <td>15.6</td>\n",
              "      <td>25.4</td>\n",
              "      <td>28.5</td>\n",
              "      <td>12.9</td>\n",
              "      <td>23.3</td>\n",
              "      <td>15.8</td>\n",
              "      <td>19.5</td>\n",
              "      <td>86.8</td>\n",
              "      <td>10.2</td>\n",
              "      <td>0.1</td>\n",
              "      <td>0.4</td>\n",
              "      <td>0.4</td>\n",
              "      <td>2.1</td>\n",
              "      <td>35.0</td>\n",
              "      <td>21380</td>\n",
              "      <td>83.9</td>\n",
              "      <td>11.9</td>\n",
              "      <td>4.0</td>\n",
              "      <td>0.1</td>\n",
              "      <td>4.9</td>\n",
              "    </tr>\n",
              "    <tr>\n",
              "      <th>...</th>\n",
              "      <td>...</td>\n",
              "      <td>...</td>\n",
              "      <td>...</td>\n",
              "      <td>...</td>\n",
              "      <td>...</td>\n",
              "      <td>...</td>\n",
              "      <td>...</td>\n",
              "      <td>...</td>\n",
              "      <td>...</td>\n",
              "      <td>...</td>\n",
              "      <td>...</td>\n",
              "      <td>...</td>\n",
              "      <td>...</td>\n",
              "      <td>...</td>\n",
              "      <td>...</td>\n",
              "      <td>...</td>\n",
              "      <td>...</td>\n",
              "      <td>...</td>\n",
              "      <td>...</td>\n",
              "      <td>...</td>\n",
              "      <td>...</td>\n",
              "      <td>...</td>\n",
              "      <td>...</td>\n",
              "      <td>...</td>\n",
              "      <td>...</td>\n",
              "      <td>...</td>\n",
              "      <td>...</td>\n",
              "      <td>...</td>\n",
              "      <td>...</td>\n",
              "      <td>...</td>\n",
              "      <td>...</td>\n",
              "      <td>...</td>\n",
              "      <td>...</td>\n",
              "      <td>...</td>\n",
              "      <td>...</td>\n",
              "      <td>...</td>\n",
              "    </tr>\n",
              "    <tr>\n",
              "      <th>3215</th>\n",
              "      <td>Puerto Rico</td>\n",
              "      <td>Vega Baja Municipio</td>\n",
              "      <td>54754</td>\n",
              "      <td>26269</td>\n",
              "      <td>28485</td>\n",
              "      <td>96.7</td>\n",
              "      <td>3.1</td>\n",
              "      <td>0.1</td>\n",
              "      <td>0.0</td>\n",
              "      <td>0.0</td>\n",
              "      <td>0.0</td>\n",
              "      <td>42838</td>\n",
              "      <td>18900</td>\n",
              "      <td>1219</td>\n",
              "      <td>10197</td>\n",
              "      <td>576</td>\n",
              "      <td>43.8</td>\n",
              "      <td>49.4</td>\n",
              "      <td>28.6</td>\n",
              "      <td>20.2</td>\n",
              "      <td>25.9</td>\n",
              "      <td>11.1</td>\n",
              "      <td>14.2</td>\n",
              "      <td>92.0</td>\n",
              "      <td>4.2</td>\n",
              "      <td>0.9</td>\n",
              "      <td>1.4</td>\n",
              "      <td>0.6</td>\n",
              "      <td>0.9</td>\n",
              "      <td>31.6</td>\n",
              "      <td>14234</td>\n",
              "      <td>76.2</td>\n",
              "      <td>19.3</td>\n",
              "      <td>4.3</td>\n",
              "      <td>0.2</td>\n",
              "      <td>16.8</td>\n",
              "    </tr>\n",
              "    <tr>\n",
              "      <th>3216</th>\n",
              "      <td>Puerto Rico</td>\n",
              "      <td>Vieques Municipio</td>\n",
              "      <td>8931</td>\n",
              "      <td>4351</td>\n",
              "      <td>4580</td>\n",
              "      <td>95.7</td>\n",
              "      <td>4.0</td>\n",
              "      <td>0.0</td>\n",
              "      <td>0.0</td>\n",
              "      <td>0.0</td>\n",
              "      <td>0.0</td>\n",
              "      <td>7045</td>\n",
              "      <td>16261</td>\n",
              "      <td>2414</td>\n",
              "      <td>11136</td>\n",
              "      <td>1459</td>\n",
              "      <td>36.8</td>\n",
              "      <td>68.2</td>\n",
              "      <td>20.9</td>\n",
              "      <td>38.4</td>\n",
              "      <td>16.4</td>\n",
              "      <td>16.9</td>\n",
              "      <td>7.3</td>\n",
              "      <td>76.3</td>\n",
              "      <td>16.9</td>\n",
              "      <td>0.0</td>\n",
              "      <td>5.0</td>\n",
              "      <td>0.0</td>\n",
              "      <td>1.7</td>\n",
              "      <td>14.9</td>\n",
              "      <td>2927</td>\n",
              "      <td>40.7</td>\n",
              "      <td>40.9</td>\n",
              "      <td>18.4</td>\n",
              "      <td>0.0</td>\n",
              "      <td>12.8</td>\n",
              "    </tr>\n",
              "    <tr>\n",
              "      <th>3217</th>\n",
              "      <td>Puerto Rico</td>\n",
              "      <td>Villalba Municipio</td>\n",
              "      <td>23659</td>\n",
              "      <td>11510</td>\n",
              "      <td>12149</td>\n",
              "      <td>99.7</td>\n",
              "      <td>0.2</td>\n",
              "      <td>0.1</td>\n",
              "      <td>0.0</td>\n",
              "      <td>0.0</td>\n",
              "      <td>0.0</td>\n",
              "      <td>18053</td>\n",
              "      <td>19893</td>\n",
              "      <td>1935</td>\n",
              "      <td>10449</td>\n",
              "      <td>1619</td>\n",
              "      <td>50.0</td>\n",
              "      <td>67.9</td>\n",
              "      <td>22.5</td>\n",
              "      <td>21.2</td>\n",
              "      <td>22.7</td>\n",
              "      <td>14.1</td>\n",
              "      <td>19.5</td>\n",
              "      <td>83.1</td>\n",
              "      <td>11.8</td>\n",
              "      <td>0.1</td>\n",
              "      <td>2.1</td>\n",
              "      <td>0.0</td>\n",
              "      <td>2.8</td>\n",
              "      <td>28.4</td>\n",
              "      <td>6873</td>\n",
              "      <td>59.2</td>\n",
              "      <td>30.2</td>\n",
              "      <td>10.4</td>\n",
              "      <td>0.2</td>\n",
              "      <td>24.8</td>\n",
              "    </tr>\n",
              "    <tr>\n",
              "      <th>3218</th>\n",
              "      <td>Puerto Rico</td>\n",
              "      <td>Yabucoa Municipio</td>\n",
              "      <td>35025</td>\n",
              "      <td>16984</td>\n",
              "      <td>18041</td>\n",
              "      <td>99.9</td>\n",
              "      <td>0.1</td>\n",
              "      <td>0.0</td>\n",
              "      <td>0.0</td>\n",
              "      <td>0.0</td>\n",
              "      <td>0.0</td>\n",
              "      <td>27523</td>\n",
              "      <td>15586</td>\n",
              "      <td>1467</td>\n",
              "      <td>8672</td>\n",
              "      <td>702</td>\n",
              "      <td>52.4</td>\n",
              "      <td>62.1</td>\n",
              "      <td>27.7</td>\n",
              "      <td>26.0</td>\n",
              "      <td>20.7</td>\n",
              "      <td>9.5</td>\n",
              "      <td>16.0</td>\n",
              "      <td>87.6</td>\n",
              "      <td>9.2</td>\n",
              "      <td>0.0</td>\n",
              "      <td>1.4</td>\n",
              "      <td>1.8</td>\n",
              "      <td>0.1</td>\n",
              "      <td>30.5</td>\n",
              "      <td>7878</td>\n",
              "      <td>62.7</td>\n",
              "      <td>30.9</td>\n",
              "      <td>6.3</td>\n",
              "      <td>0.0</td>\n",
              "      <td>25.4</td>\n",
              "    </tr>\n",
              "    <tr>\n",
              "      <th>3219</th>\n",
              "      <td>Puerto Rico</td>\n",
              "      <td>Yauco Municipio</td>\n",
              "      <td>37585</td>\n",
              "      <td>18052</td>\n",
              "      <td>19533</td>\n",
              "      <td>99.8</td>\n",
              "      <td>0.2</td>\n",
              "      <td>0.0</td>\n",
              "      <td>0.0</td>\n",
              "      <td>0.0</td>\n",
              "      <td>0.0</td>\n",
              "      <td>29763</td>\n",
              "      <td>14451</td>\n",
              "      <td>1371</td>\n",
              "      <td>8124</td>\n",
              "      <td>445</td>\n",
              "      <td>50.4</td>\n",
              "      <td>58.2</td>\n",
              "      <td>30.4</td>\n",
              "      <td>20.2</td>\n",
              "      <td>25.6</td>\n",
              "      <td>12.6</td>\n",
              "      <td>11.3</td>\n",
              "      <td>82.8</td>\n",
              "      <td>8.2</td>\n",
              "      <td>2.2</td>\n",
              "      <td>1.7</td>\n",
              "      <td>0.1</td>\n",
              "      <td>5.0</td>\n",
              "      <td>24.4</td>\n",
              "      <td>8995</td>\n",
              "      <td>66.4</td>\n",
              "      <td>28.7</td>\n",
              "      <td>5.0</td>\n",
              "      <td>0.0</td>\n",
              "      <td>24.0</td>\n",
              "    </tr>\n",
              "  </tbody>\n",
              "</table>\n",
              "<p>3220 rows × 36 columns</p>\n",
              "</div>"
            ],
            "text/plain": [
              "            state               county  ...  FamilyWork  Unemployment\n",
              "0         Alabama       Autauga County  ...         0.1           5.2\n",
              "1         Alabama       Baldwin County  ...         0.1           5.5\n",
              "2         Alabama       Barbour County  ...         0.3          12.4\n",
              "3         Alabama          Bibb County  ...         0.3           8.2\n",
              "4         Alabama        Blount County  ...         0.1           4.9\n",
              "...           ...                  ...  ...         ...           ...\n",
              "3215  Puerto Rico  Vega Baja Municipio  ...         0.2          16.8\n",
              "3216  Puerto Rico    Vieques Municipio  ...         0.0          12.8\n",
              "3217  Puerto Rico   Villalba Municipio  ...         0.2          24.8\n",
              "3218  Puerto Rico    Yabucoa Municipio  ...         0.0          25.4\n",
              "3219  Puerto Rico      Yauco Municipio  ...         0.0          24.0\n",
              "\n",
              "[3220 rows x 36 columns]"
            ]
          },
          "metadata": {
            "tags": []
          },
          "execution_count": 75
        }
      ]
    },
    {
      "cell_type": "code",
      "metadata": {
        "colab": {
          "base_uri": "https://localhost:8080/"
        },
        "id": "ksOnwmhm47BP",
        "outputId": "b6029ba2-5ea4-4240-fcfc-64df186c3fd9"
      },
      "source": [
        "df_census.columns"
      ],
      "execution_count": 80,
      "outputs": [
        {
          "output_type": "execute_result",
          "data": {
            "text/plain": [
              "Index(['state', 'county', 'TotalPop', 'Men', 'Women', 'Hispanic', 'White',\n",
              "       'Black', 'Native', 'Asian', 'Pacific', 'VotingAgeCitizen', 'Income',\n",
              "       'IncomeErr', 'IncomePerCap', 'IncomePerCapErr', 'Poverty',\n",
              "       'ChildPoverty', 'Professional', 'Service', 'Office', 'Construction',\n",
              "       'Production', 'Drive', 'Carpool', 'Transit', 'Walk', 'OtherTransp',\n",
              "       'WorkAtHome', 'MeanCommute', 'Employed', 'PrivateWork', 'PublicWork',\n",
              "       'SelfEmployed', 'FamilyWork', 'Unemployment'],\n",
              "      dtype='object')"
            ]
          },
          "metadata": {
            "tags": []
          },
          "execution_count": 80
        }
      ]
    },
    {
      "cell_type": "code",
      "metadata": {
        "id": "AmPHY74T49_F"
      },
      "source": [
        "df_census.drop(['Income', 'IncomeErr','IncomePerCapErr'], axis=1, inplace=True)"
      ],
      "execution_count": null,
      "outputs": []
    },
    {
      "cell_type": "markdown",
      "metadata": {
        "id": "amkU5Y6g7Dp4"
      },
      "source": [
        "### 문제 6. 여러 데이터프레임을 하나의 데이터프레임으로 결합하기"
      ]
    },
    {
      "cell_type": "code",
      "metadata": {
        "id": "GZXSBFPyDh6R"
      },
      "source": [
        "# df_pres, df_gov, df_census 데이터프레임을 하나로 결합하기\n",
        "\n",
        "\n",
        "\n"
      ],
      "execution_count": null,
      "outputs": []
    },
    {
      "cell_type": "markdown",
      "metadata": {
        "id": "KywGh9sjtYl9"
      },
      "source": [
        "### 문제 7. 컬럼간의 Correlation을 Heatmap으로 표현하기\n"
      ]
    },
    {
      "cell_type": "code",
      "metadata": {
        "id": "TqXkwW8JDxhH"
      },
      "source": [
        "# DataFrame의 corr() 메소드와 Seaborn의 heatmap() 메소드를 이용하여 Pearson's correlation 시각화하기\n",
        "\n",
        "\n",
        "\n"
      ],
      "execution_count": null,
      "outputs": []
    },
    {
      "cell_type": "markdown",
      "metadata": {
        "id": "CXLd43EZ9EgS"
      },
      "source": [
        "### 문제 8. Seaborn을 이용하여 연관성 높은 데이터의 Jointplot 확인"
      ]
    },
    {
      "cell_type": "code",
      "metadata": {
        "id": "8HbUtvqs9C-C"
      },
      "source": [
        "\n",
        "\n",
        "\n"
      ],
      "execution_count": null,
      "outputs": []
    },
    {
      "cell_type": "markdown",
      "metadata": {
        "id": "GD18QuastZy8"
      },
      "source": [
        "## Step 3. Plotly를 이용하여 데이터 시각화하기\n"
      ]
    },
    {
      "cell_type": "markdown",
      "metadata": {
        "id": "h3P9KRGT_qwG"
      },
      "source": [
        "### 문제 9. Plotly의 Choropleth 데이터 포맷으로 맞추기"
      ]
    },
    {
      "cell_type": "code",
      "metadata": {
        "id": "29yYcSNBb9Lw"
      },
      "source": [
        "import plotly.figure_factory as ff\n",
        "\n",
        "# FIPS 코드 불러오기\n",
        "df_sample = pd.read_csv('https://raw.githubusercontent.com/plotly/datasets/master/laucnty16.csv')\n",
        "df_sample['State FIPS Code'] = df_sample['State FIPS Code'].apply(lambda x: str(x).zfill(2))\n",
        "df_sample['County FIPS Code'] = df_sample['County FIPS Code'].apply(lambda x: str(x).zfill(3))\n",
        "df_sample['FIPS'] = df_sample['State FIPS Code'] + df_sample['County FIPS Code']\n",
        "\n",
        "# Color Scale 세팅\n",
        "colorscale = [\"#f7fbff\",\"#ebf3fb\",\"#deebf7\",\"#d2e3f3\",\"#c6dbef\",\"#b3d2e9\",\"#9ecae1\",\n",
        "              \"#85bcdb\",\"#6baed6\",\"#57a0ce\",\"#4292c6\",\"#3082be\",\"#2171b5\",\"#1361a9\",\n",
        "              \"#08519c\",\"#0b4083\",\"#08306b\"]"
      ],
      "execution_count": null,
      "outputs": []
    },
    {
      "cell_type": "code",
      "metadata": {
        "id": "OvfL1YSKFN5o"
      },
      "source": [
        "# ff.create_choropleth()에서 사용할 수 있도록 데이터프레임 정리하기\n",
        "# Hint) 공식 레퍼런스 참조: https://plotly.com/python/county-choropleth/#the-entire-usa\n",
        "\n",
        "\n",
        "\n",
        "\n",
        "\n",
        "\n"
      ],
      "execution_count": null,
      "outputs": []
    },
    {
      "cell_type": "markdown",
      "metadata": {
        "id": "Qlz6lUtHbse8"
      },
      "source": [
        "### 문제 10. Choropleth map 시각화하기"
      ]
    },
    {
      "cell_type": "code",
      "metadata": {
        "id": "VtP1gZNibuxn"
      },
      "source": [
        "# ff.create_choropleth() 메소드를 이용하여 Choropleth 플랏하기\n",
        "# Hint) 공식 레퍼런스 참조: https://plotly.com/python/county-choropleth/#the-entire-usa\n",
        "\n",
        "fig = ff.create_choropleth(...)\n",
        "\n",
        "\n",
        "\n",
        "fig.layout.template = None\n",
        "fig.show()"
      ],
      "execution_count": null,
      "outputs": []
    },
    {
      "cell_type": "markdown",
      "metadata": {
        "id": "FRfd7ABjepBS"
      },
      "source": [
        "## Step 4. 모델 학습을 위한 데이터 전처리 "
      ]
    },
    {
      "cell_type": "markdown",
      "metadata": {
        "id": "hgHfw6NbdVff"
      },
      "source": [
        "### 문제 11. 학습을 위한 데이터프레임 구성하기"
      ]
    },
    {
      "cell_type": "code",
      "metadata": {
        "id": "kev5fImJdUlA"
      },
      "source": [
        "# 투표 결과에 해당하는 데이터는 입력 데이터에서 제거한다.\n",
        "# 예측 타겟은 DEM vs. REP 투표 비율로 한다.\n",
        "\n",
        "X =\n",
        "y ="
      ],
      "execution_count": null,
      "outputs": []
    },
    {
      "cell_type": "markdown",
      "metadata": {
        "id": "Dev2yLeMta85"
      },
      "source": [
        "### 문제 12. StandardScaler를 이용해 수치형 데이터 표준화하기\n"
      ]
    },
    {
      "cell_type": "code",
      "metadata": {
        "id": "_k_SDCh5xMgD"
      },
      "source": [
        "from sklearn.preprocessing import StandardScaler"
      ],
      "execution_count": null,
      "outputs": []
    },
    {
      "cell_type": "code",
      "metadata": {
        "id": "W3EO22NCE3wG"
      },
      "source": [
        "# StandardScaler를 이용해 수치형 데이터를 표준화하기\n",
        "scaler =\n",
        "X = \n",
        "\n"
      ],
      "execution_count": null,
      "outputs": []
    },
    {
      "cell_type": "markdown",
      "metadata": {
        "id": "x93Tb6lptcA2"
      },
      "source": [
        "### 문제 13. 학습데이터와 테스트데이터 분리하기\n"
      ]
    },
    {
      "cell_type": "code",
      "metadata": {
        "id": "C9kMQI8SEche"
      },
      "source": [
        "from sklearn.model_selection import train_test_split"
      ],
      "execution_count": null,
      "outputs": []
    },
    {
      "cell_type": "code",
      "metadata": {
        "id": "F07QjOFwFNEw"
      },
      "source": [
        "# train_test_split() 함수로 학습 데이터와 테스트 데이터 분리하기\n",
        "X_train, X_test, y_train, y_test = "
      ],
      "execution_count": null,
      "outputs": []
    },
    {
      "cell_type": "markdown",
      "metadata": {
        "id": "0TYr6_PueDhj"
      },
      "source": [
        "### 문제 14. PCA를 이용해 데이터 전처리 수행하기"
      ]
    },
    {
      "cell_type": "code",
      "metadata": {
        "id": "YNhn3XnxeImU"
      },
      "source": [
        "from sklearn.decomposition import PCA"
      ],
      "execution_count": null,
      "outputs": []
    },
    {
      "cell_type": "code",
      "metadata": {
        "id": "a4vFnIrseCde"
      },
      "source": [
        "# PCA를 이용해 Dimensionality Reduction 수행하기\n",
        "pca =\n",
        "\n",
        "\n",
        "\n",
        "\n"
      ],
      "execution_count": null,
      "outputs": []
    },
    {
      "cell_type": "markdown",
      "metadata": {
        "id": "RrWrE8Z4exup"
      },
      "source": [
        "## Step 4. Regression 모델 학습하기"
      ]
    },
    {
      "cell_type": "markdown",
      "metadata": {
        "id": "NypEtNhdfCow"
      },
      "source": [
        "### 문제 15. LightGBM Regression 모델 학습하기"
      ]
    },
    {
      "cell_type": "code",
      "metadata": {
        "id": "ow28ZRL4F7D5"
      },
      "source": [
        "from lightgbm import LGBMRegressor"
      ],
      "execution_count": null,
      "outputs": []
    },
    {
      "cell_type": "code",
      "metadata": {
        "id": "LSSNqFUrGM6R"
      },
      "source": [
        "# XGBRegressor 모델 생성/학습. Feature에 PCA 적용하기\n",
        "model_reg = \n",
        "\n",
        "\n"
      ],
      "execution_count": null,
      "outputs": []
    },
    {
      "cell_type": "markdown",
      "metadata": {
        "id": "gUo8NmHkfIpf"
      },
      "source": [
        "### 문제 16. Regression 모델 정확도 출력하기"
      ]
    },
    {
      "cell_type": "code",
      "metadata": {
        "id": "rxvf1vgmfLs-"
      },
      "source": [
        "from sklearn.metrics import mean_absolute_error, mean_squared_error\n",
        "from sklearn.metrics import classification_report\n",
        "from math import sqrt"
      ],
      "execution_count": null,
      "outputs": []
    },
    {
      "cell_type": "code",
      "metadata": {
        "id": "KDVy7fFGfUP1"
      },
      "source": [
        "# Predict를 수행하고 mean_absolute_error, mean_squared_error, classification_report 결과 출력하기\n",
        "pred = \n",
        "\n",
        "\n",
        "\n"
      ],
      "execution_count": null,
      "outputs": []
    },
    {
      "cell_type": "markdown",
      "metadata": {
        "id": "DTqb-HqPtc4I"
      },
      "source": [
        "## Step 5. Classification 모델 학습하기\n"
      ]
    },
    {
      "cell_type": "markdown",
      "metadata": {
        "id": "xTRTOLTNto3h"
      },
      "source": [
        "### 문제 17. XGBoost 모델 생성/학습하기\n"
      ]
    },
    {
      "cell_type": "code",
      "metadata": {
        "id": "RjOlWyBGfia9"
      },
      "source": [
        "from xgboost import XGBClassifier"
      ],
      "execution_count": null,
      "outputs": []
    },
    {
      "cell_type": "code",
      "metadata": {
        "id": "pxNnYYKhfoqk"
      },
      "source": [
        "# XGBClassifier 모델 생성/학습\n",
        "model_cls = \n",
        "\n",
        "\n",
        "\n"
      ],
      "execution_count": null,
      "outputs": []
    },
    {
      "cell_type": "markdown",
      "metadata": {
        "id": "kAisZoSEtp35"
      },
      "source": [
        "### 문제 18. Classifier의 Feature Importance 시각화하기\n"
      ]
    },
    {
      "cell_type": "code",
      "metadata": {
        "id": "WLnyYNJwGRgd"
      },
      "source": [
        "# XGBClassifier 모델의 feature_importances_ 속성 시각화\n",
        "\n",
        "\n",
        "\n"
      ],
      "execution_count": null,
      "outputs": []
    },
    {
      "cell_type": "markdown",
      "metadata": {
        "id": "P3HU6mOhf0oq"
      },
      "source": [
        "### 문제 19. Classifier 모델 정확도 출력하기"
      ]
    },
    {
      "cell_type": "code",
      "metadata": {
        "id": "PvnmJI-3fzpt"
      },
      "source": [
        "# Predict를 수행하고 classification_report() 결과 출력하기\n",
        "pred = \n",
        "\n",
        "\n",
        "\n"
      ],
      "execution_count": null,
      "outputs": []
    }
  ]
}