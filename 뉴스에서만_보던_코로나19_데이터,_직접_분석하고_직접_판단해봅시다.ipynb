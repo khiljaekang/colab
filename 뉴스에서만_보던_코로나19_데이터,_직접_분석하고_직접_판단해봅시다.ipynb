{
  "nbformat": 4,
  "nbformat_minor": 0,
  "metadata": {
    "kernelspec": {
      "display_name": "Python 3",
      "language": "python",
      "name": "python3"
    },
    "language_info": {
      "codemirror_mode": {
        "name": "ipython",
        "version": 3
      },
      "file_extension": ".py",
      "mimetype": "text/x-python",
      "name": "python",
      "nbconvert_exporter": "python",
      "pygments_lexer": "ipython3",
      "version": "3.7.7"
    },
    "colab": {
      "name": "뉴스에서만 보던 코로나19 데이터, 직접 분석하고 직접_판단해봅시다.ipynb",
      "provenance": [],
      "collapsed_sections": [],
      "include_colab_link": true
    }
  },
  "cells": [
    {
      "cell_type": "markdown",
      "metadata": {
        "id": "view-in-github",
        "colab_type": "text"
      },
      "source": [
        "<a href=\"https://colab.research.google.com/github/khiljaekang/colab/blob/main/%EB%89%B4%EC%8A%A4%EC%97%90%EC%84%9C%EB%A7%8C_%EB%B3%B4%EB%8D%98_%EC%BD%94%EB%A1%9C%EB%82%9819_%EB%8D%B0%EC%9D%B4%ED%84%B0%2C_%EC%A7%81%EC%A0%91_%EB%B6%84%EC%84%9D%ED%95%98%EA%B3%A0_%EC%A7%81%EC%A0%91_%ED%8C%90%EB%8B%A8%ED%95%B4%EB%B4%85%EC%8B%9C%EB%8B%A4.ipynb\" target=\"_parent\"><img src=\"https://colab.research.google.com/assets/colab-badge.svg\" alt=\"Open In Colab\"/></a>"
      ]
    },
    {
      "cell_type": "markdown",
      "metadata": {
        "id": "NqqLNJZjfi8U"
      },
      "source": [
        "# 주제 : 뉴스에서만 보던 코로나-19 데이터, 직접 분석하고 직접 판단해봅시다.\n",
        "----------\n",
        "\n",
        "## 실습 가이드\n",
        "    1. 데이터를 다운로드하여 Colab에 불러옵니다.\n",
        "    2. 필요한 라이브러리는 모두 코드로 작성되어 있습니다.\n",
        "    3. 코드는 위에서부터 아래로 순서대로 실행합니다.\n",
        "    \n",
        "    \n",
        "## 데이터 소개\n",
        "    - 이번 주제는 John Hopkins 대학의 COVID-19 데이터셋을 사용합니다.\n",
        "    \n",
        "    - 총 10개의 파일 중 2개의 Raw 데이터를 사용합니다.\n",
        "    RAW_global_confirmed_cases.csv\n",
        "    RAW_global_global_deaths.csv\n",
        "\n",
        "    - 각 파일의 컬럼은 아래와 같습니다.\n",
        "    Country/Region: 국가\n",
        "    Province/State: 지방/주\n",
        "    Lat: 지역의 위도\n",
        "    Long: 지역의 경도\n",
        "    날짜: 각 날짜의 확진자/사망자 수\n",
        "    \n",
        "    \n",
        "    \n",
        "- 데이터 출처: https://www.kaggle.com/antgoldbloom/covid19-data-from-john-hopkins-university\n",
        "\n",
        "## 최종 목표\n",
        "    - 계속해서 업데이트되는 라이브 데이터 분석하기\n",
        "    - Pandas를 이용해 원하는 표 형태로 변경\n",
        "    - 데이터 시각화를 통한 인사이트 습득 방법의 이해\n",
        "    - Plotly를 이용하여 Interactive plot하기\n",
        "    - FBProphet을 이용해 시계열 데이터를 처리하는 방법 습득\n",
        "    - 학습된 모델로 부터의 인사이트 획득 방법 습득\n",
        "\n",
        "- 출제자 : 신제용 강사\n",
        "---"
      ]
    },
    {
      "cell_type": "markdown",
      "metadata": {
        "id": "ODJVmYvIP3x-"
      },
      "source": [
        "## Step 0. 시계열 데이터에 관하여"
      ]
    },
    {
      "cell_type": "markdown",
      "metadata": {
        "id": "c0iKTnLNsraM"
      },
      "source": [
        "### 코로나19 데이터셋에 관하여"
      ]
    },
    {
      "cell_type": "markdown",
      "metadata": {
        "id": "cxZwPnfms0-9"
      },
      "source": [
        "### 시계열 데이터와 일반 테이블 데이터와 다른 점\n"
      ]
    },
    {
      "cell_type": "markdown",
      "metadata": {
        "id": "h2OwellMdoEf"
      },
      "source": [
        "### FBProphet 라이브러리 설명"
      ]
    },
    {
      "cell_type": "markdown",
      "metadata": {
        "id": "IRssoNrgP7So"
      },
      "source": [
        "## Step 1. 데이터셋 준비하기"
      ]
    },
    {
      "cell_type": "code",
      "metadata": {
        "id": "g49RuFGrBvt7"
      },
      "source": [
        "import pandas as pd\n",
        "import numpy as np\n",
        "import matplotlib.pyplot as plt\n",
        "import seaborn as sns"
      ],
      "execution_count": null,
      "outputs": []
    },
    {
      "cell_type": "markdown",
      "metadata": {
        "id": "paInbv8Ys-Qy"
      },
      "source": [
        "### 문제 1. Colab Notebook에 Kaggle API 세팅하기\n"
      ]
    },
    {
      "cell_type": "code",
      "metadata": {
        "id": "RRXGYV60B7FX"
      },
      "source": [
        "import os"
      ],
      "execution_count": null,
      "outputs": []
    },
    {
      "cell_type": "code",
      "metadata": {
        "id": "mMKFOC0OBtHO"
      },
      "source": [
        "# os.environ을 이용하여 Kaggle API Username, Key 세팅하기\n",
        "\n",
        "\n"
      ],
      "execution_count": null,
      "outputs": []
    },
    {
      "cell_type": "markdown",
      "metadata": {
        "id": "zvbeoB_WtBi-"
      },
      "source": [
        "### 문제 2. 데이터 다운로드 및 압축 해제하기\n"
      ]
    },
    {
      "cell_type": "code",
      "metadata": {
        "id": "JSblp2NsCGbh"
      },
      "source": [
        "# Linux 명령어로 Kaggle API를 이용하여 데이터셋 다운로드하기 (!kaggle ~)\n",
        "# Linux 명령어로 압축 해제하기\n",
        "\n",
        "\n",
        "\n"
      ],
      "execution_count": null,
      "outputs": []
    },
    {
      "cell_type": "markdown",
      "metadata": {
        "id": "aJ34SovLtFI8"
      },
      "source": [
        "### 문제 3. Pandas 라이브러리로 csv파일 읽어들이기\n"
      ]
    },
    {
      "cell_type": "code",
      "metadata": {
        "id": "RnJv-4YwCMSx"
      },
      "source": [
        "df_case = \n",
        "df_death = "
      ],
      "execution_count": null,
      "outputs": []
    },
    {
      "cell_type": "markdown",
      "metadata": {
        "id": "9L3BNVM7tHN5"
      },
      "source": [
        "## Step 2. 데이터 구조 변경 및 시각화하기\n"
      ]
    },
    {
      "cell_type": "markdown",
      "metadata": {
        "id": "HyFm33tNtVn7"
      },
      "source": [
        "### 문제 4. 데이터프레임 구조를 Date를 Index로, 지역을 Column으로 변경\n"
      ]
    },
    {
      "cell_type": "code",
      "metadata": {
        "id": "qG0aXo0UenvI"
      },
      "source": [
        "def fix_dataframe(df):\n",
        "  # TODO: 불필요한 컬럼 제거, Date를 datetime 객체로 변환, Date를 index로 변경\n",
        "  return df"
      ],
      "execution_count": null,
      "outputs": []
    },
    {
      "cell_type": "code",
      "metadata": {
        "id": "YcR9BX23DIFW"
      },
      "source": [
        "df_case = fix_dataframe(df_case)\n",
        "df_death = fix_dataframe(df_death)"
      ],
      "execution_count": null,
      "outputs": []
    },
    {
      "cell_type": "markdown",
      "metadata": {
        "id": "HGHvPwkNtXgj"
      },
      "source": [
        "### 문제 5. 나라별 확진자 수 및 사망자 수 시각화하기\n"
      ]
    },
    {
      "cell_type": "code",
      "metadata": {
        "id": "b_zcrUDF7khF"
      },
      "source": [
        "# 아래와 같이 나라별 누적 사망자 수와 확진자 수를 시각화하여 비교하기 (최신일자, 가장 많이 확진된 10국가)\n",
        "\n",
        "\n",
        "\n",
        "\n"
      ],
      "execution_count": null,
      "outputs": []
    },
    {
      "cell_type": "code",
      "metadata": {
        "colab": {
          "base_uri": "https://localhost:8080/",
          "height": 503
        },
        "id": "rCRHNugKNZkv",
        "outputId": "bf84c32c-cb3b-4bc9-f3b2-0211999437c1"
      },
      "source": [
        "# 이 셀의 결과가 지워지지 않도록 주의하세요."
      ],
      "execution_count": null,
      "outputs": [
        {
          "output_type": "display_data",
          "data": {
            "image/png": "[encoded data removed]",
            "text/plain": [
              "<Figure size 576x432 with 2 Axes>"
            ]
          },
          "metadata": {
            "tags": [],
            "needs_background": "light"
          }
        }
      ]
    },
    {
      "cell_type": "markdown",
      "metadata": {
        "id": "amkU5Y6g7Dp4"
      },
      "source": [
        "### 문제 6. 특정 국가의 확진자 수 및 사망자 수 변화 시각화하기"
      ]
    },
    {
      "cell_type": "code",
      "metadata": {
        "id": "GZXSBFPyDh6R"
      },
      "source": [
        "# 나라별 시간에 따른 확진자 수 및 사망자 수 시각화하기\n",
        "def plot_case_with_death(country):\n",
        "  # TODO: 입력받은 국가의 누적 확진자/사망자 수 시각화"
      ],
      "execution_count": null,
      "outputs": []
    },
    {
      "cell_type": "code",
      "metadata": {
        "colab": {
          "base_uri": "https://localhost:8080/",
          "height": 404
        },
        "id": "L37rzWbPWW9v",
        "outputId": "79457cd5-f6e1-4cb3-b097-6ab2df7b105c"
      },
      "source": [
        "# 아래와 같은 결과가 나오도록 하시오. 결과가 지워지지 않도록 주의하세요.\n",
        "plot_case_with_death('US')"
      ],
      "execution_count": null,
      "outputs": [
        {
          "output_type": "display_data",
          "data": {
            "image/png": "[encoded data removed]",
            "text/plain": [
              "<Figure size 720x432 with 2 Axes>"
            ]
          },
          "metadata": {
            "tags": [],
            "needs_background": "light"
          }
        }
      ]
    },
    {
      "cell_type": "markdown",
      "metadata": {
        "id": "Ga7Lzcw8TH0G"
      },
      "source": [
        "### 문제 7. 한국의 확진자 수 및 사망자 수 변화 시각화/분석하기"
      ]
    },
    {
      "cell_type": "code",
      "metadata": {
        "id": "MPmzv61vTFiw"
      },
      "source": [
        "# 한국의 누적 확진자 수/사망자 수를 시각화하고 분석하시오.\n",
        "\n",
        "\n",
        "\n",
        "\n"
      ],
      "execution_count": null,
      "outputs": []
    },
    {
      "cell_type": "code",
      "metadata": {
        "id": "30CkqHZZXUqf"
      },
      "source": [
        "# 한국의 일일 확진자 수/사망자 수를 시각화하고 분석하시오.\n",
        "\n",
        "\n",
        "\n"
      ],
      "execution_count": null,
      "outputs": []
    },
    {
      "cell_type": "markdown",
      "metadata": {
        "id": "izztXKpllMss"
      },
      "source": [
        "## Step 3. Plotly를 이용하여 데이터 시각화하기"
      ]
    },
    {
      "cell_type": "markdown",
      "metadata": {
        "id": "KywGh9sjtYl9"
      },
      "source": [
        "### 문제 8. Plotly의 Choropleth 데이터 포맷으로 맞추기"
      ]
    },
    {
      "cell_type": "code",
      "metadata": {
        "id": "CJJ1B3Msikye"
      },
      "source": [
        "import plotly.graph_objects as go"
      ],
      "execution_count": null,
      "outputs": []
    },
    {
      "cell_type": "code",
      "metadata": {
        "id": "HkKyPmbqtAhM"
      },
      "source": [
        "# 아래 데이터프레임를 이용하여 국가명을 국가코드로 변경\n",
        "df_code = pd.read_csv('https://raw.githubusercontent.com/plotly/datasets/master/2014_world_gdp_with_codes.csv')\n",
        "\n",
        "# Hint) 이름이 다르게 쓰인 국가의 이름을 먼저 변경한 후에 코드로 변경\n",
        "country_renamer = {\n",
        "    'Bahamas':'Bahamas, The',\n",
        "    'Congo (Brazzaville)':'Congo, Republic of the',\n",
        "    'Congo (Kinshasa)':'Congo, Democratic Republic of the',\n",
        "    'Czechia':'Czech Republic',\n",
        "    'Eswatini':'Swaziland',\n",
        "    'Gambia':'Gambia, The',\n",
        "    'North Macedonia':'Macedonia',\n",
        "    'Taiwan*':'Taiwan',\n",
        "    'US':'United States',\n",
        "    'West Bank and Gaza':'West Bank'\n",
        "}"
      ],
      "execution_count": null,
      "outputs": []
    },
    {
      "cell_type": "code",
      "metadata": {
        "id": "TqXkwW8JDxhH"
      },
      "source": [
        "# 공식 레퍼런스 참조: https://plotly.com/python/choropleth-maps/#world-choropleth-map\n",
        "def get_choropleth_data(date):\n",
        "  # TODO: date에 해당하는 날짜로 데이터 생성\n",
        "  data = go.Choropleth(...)\n",
        "  return data"
      ],
      "execution_count": null,
      "outputs": []
    },
    {
      "cell_type": "markdown",
      "metadata": {
        "id": "CXLd43EZ9EgS"
      },
      "source": [
        "### 문제 9. Choropleth map 시각화하기"
      ]
    },
    {
      "cell_type": "code",
      "metadata": {
        "id": "8HbUtvqs9C-C"
      },
      "source": [
        "# 공식 레퍼런스 참조: https://plotly.com/python/choropleth-maps/#world-choropleth-map\n",
        "data = get_choropleth_data(...)\n",
        "fig = go.Figure(data=data)\n",
        "fig.update_layout(...)\n",
        "\n",
        "fig.show()"
      ],
      "execution_count": null,
      "outputs": []
    },
    {
      "cell_type": "markdown",
      "metadata": {
        "id": "FRfd7ABjepBS"
      },
      "source": [
        "## Step 4. 모델 학습을 위한 데이터 전처리 "
      ]
    },
    {
      "cell_type": "markdown",
      "metadata": {
        "id": "sWIF67-8lr4C"
      },
      "source": [
        "### 문제 10. FBProphet 학습을 위한 데이터프레임 생성"
      ]
    },
    {
      "cell_type": "code",
      "metadata": {
        "id": "wVmEa1ChlrTc"
      },
      "source": [
        "# 공식 레퍼런스 참조: https://facebook.github.io/prophet/docs/quick_start.html#python-api\n",
        "# 한국의 확진자 수 데이터를 FBProphet에 학습하기 위한 데이터프레임으로 재구성하시오.\n",
        "df = \n",
        "\n",
        "\n"
      ],
      "execution_count": null,
      "outputs": []
    },
    {
      "cell_type": "markdown",
      "metadata": {
        "id": "x93Tb6lptcA2"
      },
      "source": [
        "### 문제 11. 학습데이터와 테스트데이터 분리하기\n"
      ]
    },
    {
      "cell_type": "code",
      "metadata": {
        "id": "tCfml5m9LH1P"
      },
      "source": [
        "from math import floor"
      ],
      "execution_count": null,
      "outputs": []
    },
    {
      "cell_type": "code",
      "metadata": {
        "id": "VlndHyYxLEXv"
      },
      "source": [
        "def train_test_split_df(df, test_size):\n",
        "  # TODO: test_size(0 < test_size < 1) 비율에 따라 테스트/학습 데이터프레임으로 나누어 반환"
      ],
      "execution_count": null,
      "outputs": []
    },
    {
      "cell_type": "code",
      "metadata": {
        "id": "IE9HuHikL4Wx"
      },
      "source": [
        "train_df, test_df = train_test_split_df(df, 0.1)"
      ],
      "execution_count": null,
      "outputs": []
    },
    {
      "cell_type": "markdown",
      "metadata": {
        "id": "RrWrE8Z4exup"
      },
      "source": [
        "## Step 5. Prophet 모델 학습하기"
      ]
    },
    {
      "cell_type": "markdown",
      "metadata": {
        "id": "NypEtNhdfCow"
      },
      "source": [
        "### 문제 12. Prophet 모델 생성 및 학습 데이터 학습하기"
      ]
    },
    {
      "cell_type": "code",
      "metadata": {
        "id": "ow28ZRL4F7D5"
      },
      "source": [
        "from fbprophet import Prophet"
      ],
      "execution_count": null,
      "outputs": []
    },
    {
      "cell_type": "code",
      "metadata": {
        "id": "LSSNqFUrGM6R"
      },
      "source": [
        "model =\n",
        "\n",
        "\n"
      ],
      "execution_count": null,
      "outputs": []
    },
    {
      "cell_type": "markdown",
      "metadata": {
        "id": "A-ONuESIlzGf"
      },
      "source": [
        "### 문제 13. Prophet 모델 학습 결과 시각화하기"
      ]
    },
    {
      "cell_type": "code",
      "metadata": {
        "id": "gJEieZTlPjcQ"
      },
      "source": [
        "from fbprophet.plot import add_changepoints_to_plot"
      ],
      "execution_count": null,
      "outputs": []
    },
    {
      "cell_type": "code",
      "metadata": {
        "id": "EVK1xK9BlyXQ"
      },
      "source": [
        "# model.plot() 메소드, model.plot_components() 메소드, add_changepoints_to_plot() 메소드 활용\n",
        "\n",
        "\n",
        "\n"
      ],
      "execution_count": null,
      "outputs": []
    },
    {
      "cell_type": "markdown",
      "metadata": {
        "id": "gUo8NmHkfIpf"
      },
      "source": [
        "### 문제 14. 모델 학습 결과 평가하기"
      ]
    },
    {
      "cell_type": "code",
      "metadata": {
        "id": "kHoTFW70_UQC"
      },
      "source": [
        "from sklearn.metrics import r2_score"
      ],
      "execution_count": null,
      "outputs": []
    },
    {
      "cell_type": "code",
      "metadata": {
        "id": "KDVy7fFGfUP1"
      },
      "source": [
        "# test_df와 pred를 비교하여 r2_score 평가\n",
        "\n",
        "\n",
        "\n"
      ],
      "execution_count": null,
      "outputs": []
    },
    {
      "cell_type": "markdown",
      "metadata": {
        "id": "8mYtAaQtl4OX"
      },
      "source": [
        "### 문제 15. Prophet 모델로 미래 30일 데이터 예측하기"
      ]
    },
    {
      "cell_type": "code",
      "metadata": {
        "id": "pMwb9BjZl7D_"
      },
      "source": [
        "# 전체 df를 학습한 후, 향후 30일에 대한 데이터 예측하기\n",
        "# Hint) make_future_dataframe() 메소드 활용\n",
        "\n",
        "\n",
        "\n",
        "\n"
      ],
      "execution_count": null,
      "outputs": []
    },
    {
      "cell_type": "markdown",
      "metadata": {
        "id": "DTqb-HqPtc4I"
      },
      "source": [
        "## Step 6. IF-CASE 예측해보기\n"
      ]
    },
    {
      "cell_type": "markdown",
      "metadata": {
        "id": "xTRTOLTNto3h"
      },
      "source": [
        "### 문제 16. 한국 확진자 수 변화의 특별한 이벤트 확인하기\n"
      ]
    },
    {
      "cell_type": "code",
      "metadata": {
        "id": "kKEP06-OmrBs"
      },
      "source": [
        "# 코로나 확산 초기, 한국의 확진자 수가 급증한 시점 찾기\n",
        "\n",
        "\n",
        "\n",
        "\n"
      ],
      "execution_count": null,
      "outputs": []
    },
    {
      "cell_type": "markdown",
      "metadata": {
        "id": "kAisZoSEtp35"
      },
      "source": [
        "### 문제 17. 이벤트가 없었을 경우 한국의 확진자 수 변화 예측하기\n"
      ]
    },
    {
      "cell_type": "code",
      "metadata": {
        "id": "WLnyYNJwGRgd"
      },
      "source": [
        "# 확진자 수가 급증하기 전 데이터를 학습 후, 해당 시점으로부터 30일 간의 데이터 예측하여 실제 값과 비교하기\n",
        "\n",
        "\n",
        "\n",
        "\n"
      ],
      "execution_count": null,
      "outputs": []
    }
  ]
}