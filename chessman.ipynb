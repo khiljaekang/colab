{
  "nbformat": 4,
  "nbformat_minor": 0,
  "metadata": {
    "colab": {
      "name": "chessman",
      "provenance": [],
      "authorship_tag": "ABX9TyPkSuID6jnjvqBIpC5n7vk0",
      "include_colab_link": true
    },
    "kernelspec": {
      "name": "python3",
      "display_name": "Python 3"
    },
    "language_info": {
      "name": "python"
    },
    "accelerator": "GPU"
  },
  "cells": [
    {
      "cell_type": "markdown",
      "metadata": {
        "id": "view-in-github",
        "colab_type": "text"
      },
      "source": [
        "<a href=\"https://colab.research.google.com/github/khiljaekang/colab/blob/main/chessman.ipynb\" target=\"_parent\"><img src=\"https://colab.research.google.com/assets/colab-badge.svg\" alt=\"Open In Colab\"/></a>"
      ]
    },
    {
      "cell_type": "code",
      "metadata": {
        "id": "X-JWOPTqWo__"
      },
      "source": [
        "import tensorflow as tf\n",
        "import keras\n",
        "import numpy as np\n",
        "import matplotlib.pyplot as plt\n",
        "import seaborn as sns\n",
        "import cv2\n",
        "import os\n",
        "import glob\n",
        "import pickle"
      ],
      "execution_count": 2,
      "outputs": []
    },
    {
      "cell_type": "code",
      "metadata": {
        "id": "R3zGhARPbcMo"
      },
      "source": [
        "import random \n",
        "from tensorflow.keras.layers import Conv2D,Dense,MaxPooling2D,Dropout,Flatten,Activation,MaxPool2D,BatchNormalization\n",
        "from tensorflow.keras.models import Sequential\n",
        "from sklearn.model_selection import train_test_split\n",
        "from keras.preprocessing.image import ImageDataGenerator\n",
        "from keras.preprocessing import image\n",
        "from tensorflow.keras.optimizers import SGD\n"
      ],
      "execution_count": 25,
      "outputs": []
    },
    {
      "cell_type": "code",
      "metadata": {
        "id": "qqjE9QNMhws6"
      },
      "source": [
        "CATAGORIES=['Bishop','King','Knight','Pawn','Queen','Rook'] ## define the list of number of classes we are going to use.\n",
        "DATADIR='../input/chessman-image-dataset/Chessman-image-dataset/Chess' # dataset path \n",
        "IMG_SIZE=300"
      ],
      "execution_count": 4,
      "outputs": []
    },
    {
      "cell_type": "code",
      "metadata": {
        "id": "RJAOWxfDbgT7"
      },
      "source": [
        "os.environ['KAGGLE_USERNAME'] = 'kangkhiljae'\n",
        "os.environ['KAGGLE_KEY'] = '85e7d48d8e8f4f81887cbc85143a3a0f'\n"
      ],
      "execution_count": 5,
      "outputs": []
    },
    {
      "cell_type": "code",
      "metadata": {
        "colab": {
          "base_uri": "https://localhost:8080/"
        },
        "id": "Ser46-2MbvUL",
        "outputId": "4e6b592e-518c-4569-d7f7-5d215171b7b2"
      },
      "source": [
        "!rm *.*\n",
        "!kaggle datasets download -d niteshfre/chessman-image-dataset\n",
        "!unzip '*.zip'"
      ],
      "execution_count": 6,
      "outputs": [
        {
          "output_type": "stream",
          "text": [
            "rm: cannot remove '*.*': No such file or directory\n",
            "Downloading chessman-image-dataset.zip to /content\n",
            " 94% 54.0M/57.6M [00:02<00:00, 13.9MB/s]\n",
            "100% 57.6M/57.6M [00:02<00:00, 27.9MB/s]\n",
            "Archive:  chessman-image-dataset.zip\n",
            "  inflating: Chessman-image-dataset/Chess/Bishop/00000000.JPG  \n",
            "  inflating: Chessman-image-dataset/Chess/Bishop/00000001.jpg  \n",
            "  inflating: Chessman-image-dataset/Chess/Bishop/00000002.JPG  \n",
            "  inflating: Chessman-image-dataset/Chess/Bishop/00000003.png  \n",
            "  inflating: Chessman-image-dataset/Chess/Bishop/00000004.jpg  \n",
            "  inflating: Chessman-image-dataset/Chess/Bishop/00000006.jpg  \n",
            "  inflating: Chessman-image-dataset/Chess/Bishop/00000007.jpg  \n",
            "  inflating: Chessman-image-dataset/Chess/Bishop/00000008.jpg  \n",
            "  inflating: Chessman-image-dataset/Chess/Bishop/00000009.png  \n",
            "  inflating: Chessman-image-dataset/Chess/Bishop/00000010.jpg  \n",
            "  inflating: Chessman-image-dataset/Chess/Bishop/00000011.jpg  \n",
            "  inflating: Chessman-image-dataset/Chess/Bishop/00000012.jpg  \n",
            "  inflating: Chessman-image-dataset/Chess/Bishop/00000013.jpg  \n",
            "  inflating: Chessman-image-dataset/Chess/Bishop/00000015.png  \n",
            "  inflating: Chessman-image-dataset/Chess/Bishop/00000016.jpg  \n",
            "  inflating: Chessman-image-dataset/Chess/Bishop/00000017.jpg  \n",
            "  inflating: Chessman-image-dataset/Chess/Bishop/00000018.jpg  \n",
            "  inflating: Chessman-image-dataset/Chess/Bishop/00000019.jpg  \n",
            "  inflating: Chessman-image-dataset/Chess/Bishop/00000020.jpg  \n",
            "  inflating: Chessman-image-dataset/Chess/Bishop/00000024.jpg  \n",
            "  inflating: Chessman-image-dataset/Chess/Bishop/00000025.jpg  \n",
            "  inflating: Chessman-image-dataset/Chess/Bishop/00000026.jpg  \n",
            "  inflating: Chessman-image-dataset/Chess/Bishop/00000028.jpg  \n",
            "  inflating: Chessman-image-dataset/Chess/Bishop/00000031.jpg  \n",
            "  inflating: Chessman-image-dataset/Chess/Bishop/00000034.jpg  \n",
            "  inflating: Chessman-image-dataset/Chess/Bishop/00000037.jpg  \n",
            "  inflating: Chessman-image-dataset/Chess/Bishop/00000039.jpg  \n",
            "  inflating: Chessman-image-dataset/Chess/Bishop/00000042.jpg  \n",
            "  inflating: Chessman-image-dataset/Chess/Bishop/00000044.png  \n",
            "  inflating: Chessman-image-dataset/Chess/Bishop/00000049.jpg  \n",
            "  inflating: Chessman-image-dataset/Chess/Bishop/00000054.jpeg  \n",
            "  inflating: Chessman-image-dataset/Chess/Bishop/00000061.jpg  \n",
            "  inflating: Chessman-image-dataset/Chess/Bishop/00000062.jpg  \n",
            "  inflating: Chessman-image-dataset/Chess/Bishop/00000066.jpg  \n",
            "  inflating: Chessman-image-dataset/Chess/Bishop/00000068.png  \n",
            "  inflating: Chessman-image-dataset/Chess/Bishop/00000070.jpg  \n",
            "  inflating: Chessman-image-dataset/Chess/Bishop/00000071.png  \n",
            "  inflating: Chessman-image-dataset/Chess/Bishop/00000074.jpg  \n",
            "  inflating: Chessman-image-dataset/Chess/Bishop/00000075.jpg  \n",
            "  inflating: Chessman-image-dataset/Chess/Bishop/00000078.jpg  \n",
            "  inflating: Chessman-image-dataset/Chess/Bishop/00000079.jpg  \n",
            "  inflating: Chessman-image-dataset/Chess/Bishop/00000081.jpg  \n",
            "  inflating: Chessman-image-dataset/Chess/Bishop/00000082.jpg  \n",
            "  inflating: Chessman-image-dataset/Chess/Bishop/00000086.png  \n",
            "  inflating: Chessman-image-dataset/Chess/Bishop/00000088.jpg  \n",
            "  inflating: Chessman-image-dataset/Chess/Bishop/00000089.jpg  \n",
            "  inflating: Chessman-image-dataset/Chess/Bishop/00000092.jpg  \n",
            "  inflating: Chessman-image-dataset/Chess/Bishop/00000094.jpg  \n",
            "  inflating: Chessman-image-dataset/Chess/Bishop/00000095.gif  \n",
            "  inflating: Chessman-image-dataset/Chess/Bishop/00000102.jpg  \n",
            "  inflating: Chessman-image-dataset/Chess/Bishop/00000103.jpg  \n",
            "  inflating: Chessman-image-dataset/Chess/Bishop/00000109.jpg  \n",
            "  inflating: Chessman-image-dataset/Chess/Bishop/00000110.jpg  \n",
            "  inflating: Chessman-image-dataset/Chess/Bishop/00000112.jpg  \n",
            "  inflating: Chessman-image-dataset/Chess/Bishop/00000113.png  \n",
            "  inflating: Chessman-image-dataset/Chess/Bishop/00000114.jpg  \n",
            "  inflating: Chessman-image-dataset/Chess/Bishop/00000115.jpg  \n",
            "  inflating: Chessman-image-dataset/Chess/Bishop/00000117.jpg  \n",
            "  inflating: Chessman-image-dataset/Chess/Bishop/00000120.jpg  \n",
            "  inflating: Chessman-image-dataset/Chess/Bishop/00000121.jpg  \n",
            "  inflating: Chessman-image-dataset/Chess/Bishop/00000126.jpg  \n",
            "  inflating: Chessman-image-dataset/Chess/Bishop/00000127.jpg  \n",
            "  inflating: Chessman-image-dataset/Chess/Bishop/00000129.jpg  \n",
            "  inflating: Chessman-image-dataset/Chess/Bishop/00000130.png  \n",
            "  inflating: Chessman-image-dataset/Chess/Bishop/00000136.png  \n",
            "  inflating: Chessman-image-dataset/Chess/Bishop/00000138.jpg  \n",
            "  inflating: Chessman-image-dataset/Chess/Bishop/00000145.jpg  \n",
            "  inflating: Chessman-image-dataset/Chess/Bishop/00000149.jpg  \n",
            "  inflating: Chessman-image-dataset/Chess/Bishop/00000150.png  \n",
            "  inflating: Chessman-image-dataset/Chess/Bishop/00000151.png  \n",
            "  inflating: Chessman-image-dataset/Chess/Bishop/00000158.jpg  \n",
            "  inflating: Chessman-image-dataset/Chess/Bishop/00000167.jpg  \n",
            "  inflating: Chessman-image-dataset/Chess/Bishop/00000168.jpg  \n",
            "  inflating: Chessman-image-dataset/Chess/Bishop/00000169.jpg  \n",
            "  inflating: Chessman-image-dataset/Chess/Bishop/00000174.jpg  \n",
            "  inflating: Chessman-image-dataset/Chess/Bishop/00000175.jpg  \n",
            "  inflating: Chessman-image-dataset/Chess/Bishop/00000177.jpg  \n",
            "  inflating: Chessman-image-dataset/Chess/Bishop/00000178.jpg  \n",
            "  inflating: Chessman-image-dataset/Chess/Bishop/00000182.jpg  \n",
            "  inflating: Chessman-image-dataset/Chess/Bishop/00000186.jpg  \n",
            "  inflating: Chessman-image-dataset/Chess/Bishop/00000188.jpg  \n",
            "  inflating: Chessman-image-dataset/Chess/Bishop/00000189.jpg  \n",
            "  inflating: Chessman-image-dataset/Chess/Bishop/00000192.jpg  \n",
            "  inflating: Chessman-image-dataset/Chess/Bishop/00000193.jpg  \n",
            "  inflating: Chessman-image-dataset/Chess/Bishop/00000194.jpg  \n",
            "  inflating: Chessman-image-dataset/Chess/Bishop/00000195.jpg  \n",
            "  inflating: Chessman-image-dataset/Chess/Bishop/00000199.jpg  \n",
            "  inflating: Chessman-image-dataset/Chess/King/00000000.jpg  \n",
            "  inflating: Chessman-image-dataset/Chess/King/00000003.jpg  \n",
            "  inflating: Chessman-image-dataset/Chess/King/00000004.jpg  \n",
            "  inflating: Chessman-image-dataset/Chess/King/00000005.jpg  \n",
            "  inflating: Chessman-image-dataset/Chess/King/00000006.JPG  \n",
            "  inflating: Chessman-image-dataset/Chess/King/00000007.jpg  \n",
            "  inflating: Chessman-image-dataset/Chess/King/00000008.png  \n",
            "  inflating: Chessman-image-dataset/Chess/King/00000012.jpg  \n",
            "  inflating: Chessman-image-dataset/Chess/King/00000013.png  \n",
            "  inflating: Chessman-image-dataset/Chess/King/00000014.jpg  \n",
            "  inflating: Chessman-image-dataset/Chess/King/00000015.jpg  \n",
            "  inflating: Chessman-image-dataset/Chess/King/00000019.jpg  \n",
            "  inflating: Chessman-image-dataset/Chess/King/00000021.jpg  \n",
            "  inflating: Chessman-image-dataset/Chess/King/00000022.jpg  \n",
            "  inflating: Chessman-image-dataset/Chess/King/00000023.png  \n",
            "  inflating: Chessman-image-dataset/Chess/King/00000025.jpg  \n",
            "  inflating: Chessman-image-dataset/Chess/King/00000027.png  \n",
            "  inflating: Chessman-image-dataset/Chess/King/00000030.jpg  \n",
            "  inflating: Chessman-image-dataset/Chess/King/00000031.jpg  \n",
            "  inflating: Chessman-image-dataset/Chess/King/00000032.jpg  \n",
            "  inflating: Chessman-image-dataset/Chess/King/00000035.png  \n",
            "  inflating: Chessman-image-dataset/Chess/King/00000036.jpg  \n",
            "  inflating: Chessman-image-dataset/Chess/King/00000037.jpg  \n",
            "  inflating: Chessman-image-dataset/Chess/King/00000042.jpg  \n",
            "  inflating: Chessman-image-dataset/Chess/King/00000043.jpg  \n",
            "  inflating: Chessman-image-dataset/Chess/King/00000044.jpg  \n",
            "  inflating: Chessman-image-dataset/Chess/King/00000045.jpg  \n",
            "  inflating: Chessman-image-dataset/Chess/King/00000049.png  \n",
            "  inflating: Chessman-image-dataset/Chess/King/00000051.png  \n",
            "  inflating: Chessman-image-dataset/Chess/King/00000054.jpg  \n",
            "  inflating: Chessman-image-dataset/Chess/King/00000056.jpg  \n",
            "  inflating: Chessman-image-dataset/Chess/King/00000058.jpg  \n",
            "  inflating: Chessman-image-dataset/Chess/King/00000060.jpg  \n",
            "  inflating: Chessman-image-dataset/Chess/King/00000061.jpg  \n",
            "  inflating: Chessman-image-dataset/Chess/King/00000062.jpg  \n",
            "  inflating: Chessman-image-dataset/Chess/King/00000063.jpeg  \n",
            "  inflating: Chessman-image-dataset/Chess/King/00000065.jpg  \n",
            "  inflating: Chessman-image-dataset/Chess/King/00000069.jpg  \n",
            "  inflating: Chessman-image-dataset/Chess/King/00000071.jpg  \n",
            "  inflating: Chessman-image-dataset/Chess/King/00000072.jpg  \n",
            "  inflating: Chessman-image-dataset/Chess/King/00000075.jpg  \n",
            "  inflating: Chessman-image-dataset/Chess/King/00000084.jpg  \n",
            "  inflating: Chessman-image-dataset/Chess/King/00000086.jpg  \n",
            "  inflating: Chessman-image-dataset/Chess/King/00000087.jpg  \n",
            "  inflating: Chessman-image-dataset/Chess/King/00000088.jpg  \n",
            "  inflating: Chessman-image-dataset/Chess/King/00000094.jpg  \n",
            "  inflating: Chessman-image-dataset/Chess/King/00000096.jpg  \n",
            "  inflating: Chessman-image-dataset/Chess/King/00000097.jpg  \n",
            "  inflating: Chessman-image-dataset/Chess/King/00000102.jpg  \n",
            "  inflating: Chessman-image-dataset/Chess/King/00000104.png  \n",
            "  inflating: Chessman-image-dataset/Chess/King/00000106.jpg  \n",
            "  inflating: Chessman-image-dataset/Chess/King/00000108.jpg  \n",
            "  inflating: Chessman-image-dataset/Chess/King/00000113.png  \n",
            "  inflating: Chessman-image-dataset/Chess/King/00000121.jpg  \n",
            "  inflating: Chessman-image-dataset/Chess/King/00000124.jpg  \n",
            "  inflating: Chessman-image-dataset/Chess/King/00000126.jpg  \n",
            "  inflating: Chessman-image-dataset/Chess/King/00000127.jpg  \n",
            "  inflating: Chessman-image-dataset/Chess/King/00000128.jpg  \n",
            "  inflating: Chessman-image-dataset/Chess/King/00000134.jpg  \n",
            "  inflating: Chessman-image-dataset/Chess/King/00000137.jpg  \n",
            "  inflating: Chessman-image-dataset/Chess/King/00000139.fcgi  \n",
            "  inflating: Chessman-image-dataset/Chess/King/00000142.jpg  \n",
            "  inflating: Chessman-image-dataset/Chess/King/00000144.jpg  \n",
            "  inflating: Chessman-image-dataset/Chess/King/00000145.png  \n",
            "  inflating: Chessman-image-dataset/Chess/King/00000146.jpg  \n",
            "  inflating: Chessman-image-dataset/Chess/King/00000148.png  \n",
            "  inflating: Chessman-image-dataset/Chess/King/00000150.png  \n",
            "  inflating: Chessman-image-dataset/Chess/King/00000166.png  \n",
            "  inflating: Chessman-image-dataset/Chess/King/00000167.jpg  \n",
            "  inflating: Chessman-image-dataset/Chess/King/00000172.jpg  \n",
            "  inflating: Chessman-image-dataset/Chess/King/00000173.jpg  \n",
            "  inflating: Chessman-image-dataset/Chess/King/00000175.jpg  \n",
            "  inflating: Chessman-image-dataset/Chess/King/00000192.jpg  \n",
            "  inflating: Chessman-image-dataset/Chess/King/00000194.jpg  \n",
            "  inflating: Chessman-image-dataset/Chess/King/00000197.jpg  \n",
            "  inflating: Chessman-image-dataset/Chess/King/00000199.jpg  \n",
            "  inflating: Chessman-image-dataset/Chess/Knight/00000000.jpg  \n",
            "  inflating: Chessman-image-dataset/Chess/Knight/00000001.jpg  \n",
            "  inflating: Chessman-image-dataset/Chess/Knight/00000002.jpg  \n",
            "  inflating: Chessman-image-dataset/Chess/Knight/00000005.png  \n",
            "  inflating: Chessman-image-dataset/Chess/Knight/00000006.jpg  \n",
            "  inflating: Chessman-image-dataset/Chess/Knight/00000008.jpg  \n",
            "  inflating: Chessman-image-dataset/Chess/Knight/00000009.jpg  \n",
            "  inflating: Chessman-image-dataset/Chess/Knight/00000010.JPG  \n",
            "  inflating: Chessman-image-dataset/Chess/Knight/00000012.jpg  \n",
            "  inflating: Chessman-image-dataset/Chess/Knight/00000013.jpg  \n",
            "  inflating: Chessman-image-dataset/Chess/Knight/00000017.jpg  \n",
            "  inflating: Chessman-image-dataset/Chess/Knight/00000018.jpg  \n",
            "  inflating: Chessman-image-dataset/Chess/Knight/00000019.jpg  \n",
            "  inflating: Chessman-image-dataset/Chess/Knight/00000021.jpg  \n",
            "  inflating: Chessman-image-dataset/Chess/Knight/00000022.jpg  \n",
            "  inflating: Chessman-image-dataset/Chess/Knight/00000023.jpg  \n",
            "  inflating: Chessman-image-dataset/Chess/Knight/00000024.jpg  \n",
            "  inflating: Chessman-image-dataset/Chess/Knight/00000026.jpg  \n",
            "  inflating: Chessman-image-dataset/Chess/Knight/00000028.jpg  \n",
            "  inflating: Chessman-image-dataset/Chess/Knight/00000029.jpg  \n",
            "  inflating: Chessman-image-dataset/Chess/Knight/00000030.jpg  \n",
            "  inflating: Chessman-image-dataset/Chess/Knight/00000031.png  \n",
            "  inflating: Chessman-image-dataset/Chess/Knight/00000032.jpg  \n",
            "  inflating: Chessman-image-dataset/Chess/Knight/00000034.JPG  \n",
            "  inflating: Chessman-image-dataset/Chess/Knight/00000036.jpg  \n",
            "  inflating: Chessman-image-dataset/Chess/Knight/00000037.jpg  \n",
            "  inflating: Chessman-image-dataset/Chess/Knight/00000038.jpg  \n",
            "  inflating: Chessman-image-dataset/Chess/Knight/00000039.jpg  \n",
            "  inflating: Chessman-image-dataset/Chess/Knight/00000040.png  \n",
            "  inflating: Chessman-image-dataset/Chess/Knight/00000041.jpg  \n",
            "  inflating: Chessman-image-dataset/Chess/Knight/00000043.jpg  \n",
            "  inflating: Chessman-image-dataset/Chess/Knight/00000046.jpg  \n",
            "  inflating: Chessman-image-dataset/Chess/Knight/00000047.jpg  \n",
            "  inflating: Chessman-image-dataset/Chess/Knight/00000048.jpg  \n",
            "  inflating: Chessman-image-dataset/Chess/Knight/00000049.jpg  \n",
            "  inflating: Chessman-image-dataset/Chess/Knight/00000050.jpg  \n",
            "  inflating: Chessman-image-dataset/Chess/Knight/00000055.jpg  \n",
            "  inflating: Chessman-image-dataset/Chess/Knight/00000058.png  \n",
            "  inflating: Chessman-image-dataset/Chess/Knight/00000059.jpg  \n",
            "  inflating: Chessman-image-dataset/Chess/Knight/00000060.jpg  \n",
            "  inflating: Chessman-image-dataset/Chess/Knight/00000064.jpg  \n",
            "  inflating: Chessman-image-dataset/Chess/Knight/00000065.jpg  \n",
            "  inflating: Chessman-image-dataset/Chess/Knight/00000066.jpg  \n",
            "  inflating: Chessman-image-dataset/Chess/Knight/00000067.jpg  \n",
            "  inflating: Chessman-image-dataset/Chess/Knight/00000068.jpg  \n",
            "  inflating: Chessman-image-dataset/Chess/Knight/00000071.jpg  \n",
            "  inflating: Chessman-image-dataset/Chess/Knight/00000074.jpg  \n",
            "  inflating: Chessman-image-dataset/Chess/Knight/00000075.jpg  \n",
            "  inflating: Chessman-image-dataset/Chess/Knight/00000076.jpg  \n",
            "  inflating: Chessman-image-dataset/Chess/Knight/00000078.jpg  \n",
            "  inflating: Chessman-image-dataset/Chess/Knight/00000079.jpg  \n",
            "  inflating: Chessman-image-dataset/Chess/Knight/00000081.jpg  \n",
            "  inflating: Chessman-image-dataset/Chess/Knight/00000085.png  \n",
            "  inflating: Chessman-image-dataset/Chess/Knight/00000086.jpg  \n",
            "  inflating: Chessman-image-dataset/Chess/Knight/00000088.jpg  \n",
            "  inflating: Chessman-image-dataset/Chess/Knight/00000089.jpg  \n",
            "  inflating: Chessman-image-dataset/Chess/Knight/00000090.jpg  \n",
            "  inflating: Chessman-image-dataset/Chess/Knight/00000092.jpg  \n",
            "  inflating: Chessman-image-dataset/Chess/Knight/00000094.jpg  \n",
            "  inflating: Chessman-image-dataset/Chess/Knight/00000095.jpg  \n",
            "  inflating: Chessman-image-dataset/Chess/Knight/00000097.jpg  \n",
            "  inflating: Chessman-image-dataset/Chess/Knight/00000098.jpg  \n",
            "  inflating: Chessman-image-dataset/Chess/Knight/00000099.jpg  \n",
            "  inflating: Chessman-image-dataset/Chess/Knight/00000100.jpg  \n",
            "  inflating: Chessman-image-dataset/Chess/Knight/00000101.jpg  \n",
            "  inflating: Chessman-image-dataset/Chess/Knight/00000106.jpg  \n",
            "  inflating: Chessman-image-dataset/Chess/Knight/00000109.jpg  \n",
            "  inflating: Chessman-image-dataset/Chess/Knight/00000112.jpg  \n",
            "  inflating: Chessman-image-dataset/Chess/Knight/00000113.jpg  \n",
            "  inflating: Chessman-image-dataset/Chess/Knight/00000114.jpg  \n",
            "  inflating: Chessman-image-dataset/Chess/Knight/00000116.png  \n",
            "  inflating: Chessman-image-dataset/Chess/Knight/00000118.jpg  \n",
            "  inflating: Chessman-image-dataset/Chess/Knight/00000120.jpg  \n",
            "  inflating: Chessman-image-dataset/Chess/Knight/00000122.jpg  \n",
            "  inflating: Chessman-image-dataset/Chess/Knight/00000123.jpg  \n",
            "  inflating: Chessman-image-dataset/Chess/Knight/00000125.jpg  \n",
            "  inflating: Chessman-image-dataset/Chess/Knight/00000126.png  \n",
            "  inflating: Chessman-image-dataset/Chess/Knight/00000128.jpg  \n",
            "  inflating: Chessman-image-dataset/Chess/Knight/00000133.jpg  \n",
            "  inflating: Chessman-image-dataset/Chess/Knight/00000134.jpg  \n",
            "  inflating: Chessman-image-dataset/Chess/Knight/00000137.jpg  \n",
            "  inflating: Chessman-image-dataset/Chess/Knight/00000141.jpg  \n",
            "  inflating: Chessman-image-dataset/Chess/Knight/00000142.jpg  \n",
            "  inflating: Chessman-image-dataset/Chess/Knight/00000145.jpg  \n",
            "  inflating: Chessman-image-dataset/Chess/Knight/00000146.jpg  \n",
            "  inflating: Chessman-image-dataset/Chess/Knight/00000149.jpg  \n",
            "  inflating: Chessman-image-dataset/Chess/Knight/00000154.jpg  \n",
            "  inflating: Chessman-image-dataset/Chess/Knight/00000155.jpg  \n",
            "  inflating: Chessman-image-dataset/Chess/Knight/00000160.webp  \n",
            "  inflating: Chessman-image-dataset/Chess/Knight/00000162.jpg  \n",
            "  inflating: Chessman-image-dataset/Chess/Knight/00000165.jpg  \n",
            "  inflating: Chessman-image-dataset/Chess/Knight/00000167.jpg  \n",
            "  inflating: Chessman-image-dataset/Chess/Knight/00000169.jpg  \n",
            "  inflating: Chessman-image-dataset/Chess/Knight/00000170.png  \n",
            "  inflating: Chessman-image-dataset/Chess/Knight/00000173.jpg  \n",
            "  inflating: Chessman-image-dataset/Chess/Knight/00000177.jpg  \n",
            "  inflating: Chessman-image-dataset/Chess/Knight/00000179.jpg  \n",
            "  inflating: Chessman-image-dataset/Chess/Knight/00000181.jpg  \n",
            "  inflating: Chessman-image-dataset/Chess/Knight/00000186.jpg  \n",
            "  inflating: Chessman-image-dataset/Chess/Knight/00000187.jpg  \n",
            "  inflating: Chessman-image-dataset/Chess/Knight/00000188.png  \n",
            "  inflating: Chessman-image-dataset/Chess/Knight/00000190.jpg  \n",
            "  inflating: Chessman-image-dataset/Chess/Knight/00000192.jpg  \n",
            "  inflating: Chessman-image-dataset/Chess/Knight/00000196.jpg  \n",
            "  inflating: Chessman-image-dataset/Chess/Knight/00000197.jpg  \n",
            "  inflating: Chessman-image-dataset/Chess/Knight/00000198.png  \n",
            "  inflating: Chessman-image-dataset/Chess/Pawn/00000000.jpg  \n",
            "  inflating: Chessman-image-dataset/Chess/Pawn/00000001.png  \n",
            "  inflating: Chessman-image-dataset/Chess/Pawn/00000002.jpg  \n",
            "  inflating: Chessman-image-dataset/Chess/Pawn/00000004.jpg  \n",
            "  inflating: Chessman-image-dataset/Chess/Pawn/00000005.jpg  \n",
            "  inflating: Chessman-image-dataset/Chess/Pawn/00000007.jpg  \n",
            "  inflating: Chessman-image-dataset/Chess/Pawn/00000010.jpg  \n",
            "  inflating: Chessman-image-dataset/Chess/Pawn/00000011.jpg  \n",
            "  inflating: Chessman-image-dataset/Chess/Pawn/00000012.jpg  \n",
            "  inflating: Chessman-image-dataset/Chess/Pawn/00000013.jpg  \n",
            "  inflating: Chessman-image-dataset/Chess/Pawn/00000014.png  \n",
            "  inflating: Chessman-image-dataset/Chess/Pawn/00000015.png  \n",
            "  inflating: Chessman-image-dataset/Chess/Pawn/00000016.jpg  \n",
            "  inflating: Chessman-image-dataset/Chess/Pawn/00000017.jpg  \n",
            "  inflating: Chessman-image-dataset/Chess/Pawn/00000019.jpg  \n",
            "  inflating: Chessman-image-dataset/Chess/Pawn/00000020.jpg  \n",
            "  inflating: Chessman-image-dataset/Chess/Pawn/00000021.fcgi  \n",
            "  inflating: Chessman-image-dataset/Chess/Pawn/00000022.jpg  \n",
            "  inflating: Chessman-image-dataset/Chess/Pawn/00000025.png  \n",
            "  inflating: Chessman-image-dataset/Chess/Pawn/00000026.jpg  \n",
            "  inflating: Chessman-image-dataset/Chess/Pawn/00000027.png  \n",
            "  inflating: Chessman-image-dataset/Chess/Pawn/00000028.jpg  \n",
            "  inflating: Chessman-image-dataset/Chess/Pawn/00000029.jpg  \n",
            "  inflating: Chessman-image-dataset/Chess/Pawn/00000031.jpg  \n",
            "  inflating: Chessman-image-dataset/Chess/Pawn/00000032.jpg  \n",
            "  inflating: Chessman-image-dataset/Chess/Pawn/00000033.jpg  \n",
            "  inflating: Chessman-image-dataset/Chess/Pawn/00000035.jpg  \n",
            "  inflating: Chessman-image-dataset/Chess/Pawn/00000037.jpeg  \n",
            "  inflating: Chessman-image-dataset/Chess/Pawn/00000039.jpg  \n",
            "  inflating: Chessman-image-dataset/Chess/Pawn/00000041.jpg  \n",
            "  inflating: Chessman-image-dataset/Chess/Pawn/00000042.png  \n",
            "  inflating: Chessman-image-dataset/Chess/Pawn/00000043.jpg  \n",
            "  inflating: Chessman-image-dataset/Chess/Pawn/00000048.jpg  \n",
            "  inflating: Chessman-image-dataset/Chess/Pawn/00000049.png  \n",
            "  inflating: Chessman-image-dataset/Chess/Pawn/00000055.jpg  \n",
            "  inflating: Chessman-image-dataset/Chess/Pawn/00000056.JPG  \n",
            "  inflating: Chessman-image-dataset/Chess/Pawn/00000057.jpg  \n",
            "  inflating: Chessman-image-dataset/Chess/Pawn/00000058.jpg  \n",
            "  inflating: Chessman-image-dataset/Chess/Pawn/00000059.jpg  \n",
            "  inflating: Chessman-image-dataset/Chess/Pawn/00000060.jpg  \n",
            "  inflating: Chessman-image-dataset/Chess/Pawn/00000063.jpg  \n",
            "  inflating: Chessman-image-dataset/Chess/Pawn/00000067.jpg  \n",
            "  inflating: Chessman-image-dataset/Chess/Pawn/00000069.jpg  \n",
            "  inflating: Chessman-image-dataset/Chess/Pawn/00000070.jpg  \n",
            "  inflating: Chessman-image-dataset/Chess/Pawn/00000071.jpg  \n",
            "  inflating: Chessman-image-dataset/Chess/Pawn/00000072.jpg  \n",
            "  inflating: Chessman-image-dataset/Chess/Pawn/00000073.jpg  \n",
            "  inflating: Chessman-image-dataset/Chess/Pawn/00000074.jpg  \n",
            "  inflating: Chessman-image-dataset/Chess/Pawn/00000078.jpg  \n",
            "  inflating: Chessman-image-dataset/Chess/Pawn/00000079.jpg  \n",
            "  inflating: Chessman-image-dataset/Chess/Pawn/00000080.png  \n",
            "  inflating: Chessman-image-dataset/Chess/Pawn/00000082.jpg  \n",
            "  inflating: Chessman-image-dataset/Chess/Pawn/00000083.jpg  \n",
            "  inflating: Chessman-image-dataset/Chess/Pawn/00000084.jpg  \n",
            "  inflating: Chessman-image-dataset/Chess/Pawn/00000085.jpg  \n",
            "  inflating: Chessman-image-dataset/Chess/Pawn/00000097.jpg  \n",
            "  inflating: Chessman-image-dataset/Chess/Pawn/00000099.jpg  \n",
            "  inflating: Chessman-image-dataset/Chess/Pawn/00000106.png  \n",
            "  inflating: Chessman-image-dataset/Chess/Pawn/00000107.jpg  \n",
            "  inflating: Chessman-image-dataset/Chess/Pawn/00000109.jpg  \n",
            "  inflating: Chessman-image-dataset/Chess/Pawn/00000110.jpg  \n",
            "  inflating: Chessman-image-dataset/Chess/Pawn/00000111.jpg  \n",
            "  inflating: Chessman-image-dataset/Chess/Pawn/00000112.jpg  \n",
            "  inflating: Chessman-image-dataset/Chess/Pawn/00000113.jpg  \n",
            "  inflating: Chessman-image-dataset/Chess/Pawn/00000114.jpg  \n",
            "  inflating: Chessman-image-dataset/Chess/Pawn/00000115.jpg  \n",
            "  inflating: Chessman-image-dataset/Chess/Pawn/00000116.jpg  \n",
            "  inflating: Chessman-image-dataset/Chess/Pawn/00000117.jpg  \n",
            "  inflating: Chessman-image-dataset/Chess/Pawn/00000119.png  \n",
            "  inflating: Chessman-image-dataset/Chess/Pawn/00000121.jpg  \n",
            "  inflating: Chessman-image-dataset/Chess/Pawn/00000122.jpg  \n",
            "  inflating: Chessman-image-dataset/Chess/Pawn/00000126.png  \n",
            "  inflating: Chessman-image-dataset/Chess/Pawn/00000133.jpg  \n",
            "  inflating: Chessman-image-dataset/Chess/Pawn/00000134.jpg  \n",
            "  inflating: Chessman-image-dataset/Chess/Pawn/00000135.jpg  \n",
            "  inflating: Chessman-image-dataset/Chess/Pawn/00000136.png  \n",
            "  inflating: Chessman-image-dataset/Chess/Pawn/00000137.jpg  \n",
            "  inflating: Chessman-image-dataset/Chess/Pawn/00000138.jpg  \n",
            "  inflating: Chessman-image-dataset/Chess/Pawn/00000139.jpg  \n",
            "  inflating: Chessman-image-dataset/Chess/Pawn/00000140.jpg  \n",
            "  inflating: Chessman-image-dataset/Chess/Pawn/00000141.jpg  \n",
            "  inflating: Chessman-image-dataset/Chess/Pawn/00000151.png  \n",
            "  inflating: Chessman-image-dataset/Chess/Pawn/00000152.jpg  \n",
            "  inflating: Chessman-image-dataset/Chess/Pawn/00000154.jpg  \n",
            "  inflating: Chessman-image-dataset/Chess/Pawn/00000156.png  \n",
            "  inflating: Chessman-image-dataset/Chess/Pawn/00000157.jpg  \n",
            "  inflating: Chessman-image-dataset/Chess/Pawn/00000161.jpg  \n",
            "  inflating: Chessman-image-dataset/Chess/Pawn/00000163.png  \n",
            "  inflating: Chessman-image-dataset/Chess/Pawn/00000166.jpg  \n",
            "  inflating: Chessman-image-dataset/Chess/Pawn/00000167.png  \n",
            "  inflating: Chessman-image-dataset/Chess/Pawn/00000169.jpg  \n",
            "  inflating: Chessman-image-dataset/Chess/Pawn/00000170.jpg  \n",
            "  inflating: Chessman-image-dataset/Chess/Pawn/00000171.jpg  \n",
            "  inflating: Chessman-image-dataset/Chess/Pawn/00000172.png  \n",
            "  inflating: Chessman-image-dataset/Chess/Pawn/00000174.jpg  \n",
            "  inflating: Chessman-image-dataset/Chess/Pawn/00000175.jpg  \n",
            "  inflating: Chessman-image-dataset/Chess/Pawn/00000176.jpg  \n",
            "  inflating: Chessman-image-dataset/Chess/Pawn/00000177.jpg  \n",
            "  inflating: Chessman-image-dataset/Chess/Pawn/00000178.jpg  \n",
            "  inflating: Chessman-image-dataset/Chess/Pawn/00000180.jpg  \n",
            "  inflating: Chessman-image-dataset/Chess/Pawn/00000182.jpg  \n",
            "  inflating: Chessman-image-dataset/Chess/Pawn/00000183.jpg  \n",
            "  inflating: Chessman-image-dataset/Chess/Pawn/00000192.jpg  \n",
            "  inflating: Chessman-image-dataset/Chess/Pawn/00000193.jpg  \n",
            "  inflating: Chessman-image-dataset/Chess/Pawn/00000196.jpg  \n",
            "  inflating: Chessman-image-dataset/Chess/Pawn/00000197.jpg  \n",
            "  inflating: Chessman-image-dataset/Chess/Pawn/00000199.jpg  \n",
            "  inflating: Chessman-image-dataset/Chess/Queen/00000001.jpg  \n",
            "  inflating: Chessman-image-dataset/Chess/Queen/00000003.jpg  \n",
            "  inflating: Chessman-image-dataset/Chess/Queen/00000004.JPG  \n",
            "  inflating: Chessman-image-dataset/Chess/Queen/00000005.jpg  \n",
            "  inflating: Chessman-image-dataset/Chess/Queen/00000006.jpg  \n",
            "  inflating: Chessman-image-dataset/Chess/Queen/00000007.jpg  \n",
            "  inflating: Chessman-image-dataset/Chess/Queen/00000008.jpg  \n",
            "  inflating: Chessman-image-dataset/Chess/Queen/00000010.jpg  \n",
            "  inflating: Chessman-image-dataset/Chess/Queen/00000011.jpg  \n",
            "  inflating: Chessman-image-dataset/Chess/Queen/00000012.jpg  \n",
            "  inflating: Chessman-image-dataset/Chess/Queen/00000013.jpg  \n",
            "  inflating: Chessman-image-dataset/Chess/Queen/00000014.jpg  \n",
            "  inflating: Chessman-image-dataset/Chess/Queen/00000015.jpg  \n",
            "  inflating: Chessman-image-dataset/Chess/Queen/00000017.jpg  \n",
            "  inflating: Chessman-image-dataset/Chess/Queen/00000018.jpg  \n",
            "  inflating: Chessman-image-dataset/Chess/Queen/00000019.png  \n",
            "  inflating: Chessman-image-dataset/Chess/Queen/00000021.jpg  \n",
            "  inflating: Chessman-image-dataset/Chess/Queen/00000022.jpg  \n",
            "  inflating: Chessman-image-dataset/Chess/Queen/00000023.jpg  \n",
            "  inflating: Chessman-image-dataset/Chess/Queen/00000025.jpg  \n",
            "  inflating: Chessman-image-dataset/Chess/Queen/00000026.jpg  \n",
            "  inflating: Chessman-image-dataset/Chess/Queen/00000028.jpg  \n",
            "  inflating: Chessman-image-dataset/Chess/Queen/00000030.png  \n",
            "  inflating: Chessman-image-dataset/Chess/Queen/00000032.jpeg  \n",
            "  inflating: Chessman-image-dataset/Chess/Queen/00000036.jpg  \n",
            "  inflating: Chessman-image-dataset/Chess/Queen/00000037.jpg  \n",
            "  inflating: Chessman-image-dataset/Chess/Queen/00000040.jpg  \n",
            "  inflating: Chessman-image-dataset/Chess/Queen/00000041.jpg  \n",
            "  inflating: Chessman-image-dataset/Chess/Queen/00000043.jpg  \n",
            "  inflating: Chessman-image-dataset/Chess/Queen/00000044.jpg  \n",
            "  inflating: Chessman-image-dataset/Chess/Queen/00000051.jpg  \n",
            "  inflating: Chessman-image-dataset/Chess/Queen/00000052.jpg  \n",
            "  inflating: Chessman-image-dataset/Chess/Queen/00000057.jpg  \n",
            "  inflating: Chessman-image-dataset/Chess/Queen/00000059.jpg  \n",
            "  inflating: Chessman-image-dataset/Chess/Queen/00000060.jpg  \n",
            "  inflating: Chessman-image-dataset/Chess/Queen/00000061.jpg  \n",
            "  inflating: Chessman-image-dataset/Chess/Queen/00000062.jpg  \n",
            "  inflating: Chessman-image-dataset/Chess/Queen/00000064.jpg  \n",
            "  inflating: Chessman-image-dataset/Chess/Queen/00000066.jpg  \n",
            "  inflating: Chessman-image-dataset/Chess/Queen/00000068.png  \n",
            "  inflating: Chessman-image-dataset/Chess/Queen/00000072.jpg  \n",
            "  inflating: Chessman-image-dataset/Chess/Queen/00000074.jpg  \n",
            "  inflating: Chessman-image-dataset/Chess/Queen/00000076.png  \n",
            "  inflating: Chessman-image-dataset/Chess/Queen/00000077.jpg  \n",
            "  inflating: Chessman-image-dataset/Chess/Queen/00000081.jpg  \n",
            "  inflating: Chessman-image-dataset/Chess/Queen/00000084.jpeg  \n",
            "  inflating: Chessman-image-dataset/Chess/Queen/00000086.jpg  \n",
            "  inflating: Chessman-image-dataset/Chess/Queen/00000087.jpg  \n",
            "  inflating: Chessman-image-dataset/Chess/Queen/00000088.jpg  \n",
            "  inflating: Chessman-image-dataset/Chess/Queen/00000094.jpg  \n",
            "  inflating: Chessman-image-dataset/Chess/Queen/00000098.jpg  \n",
            "  inflating: Chessman-image-dataset/Chess/Queen/00000109.jpg  \n",
            "  inflating: Chessman-image-dataset/Chess/Queen/00000116.jpg  \n",
            "  inflating: Chessman-image-dataset/Chess/Queen/00000118.jpg  \n",
            "  inflating: Chessman-image-dataset/Chess/Queen/00000119.jpg  \n",
            "  inflating: Chessman-image-dataset/Chess/Queen/00000127.jpg  \n",
            "  inflating: Chessman-image-dataset/Chess/Queen/00000131.jpg  \n",
            "  inflating: Chessman-image-dataset/Chess/Queen/00000132.png  \n",
            "  inflating: Chessman-image-dataset/Chess/Queen/00000139.jpg  \n",
            "  inflating: Chessman-image-dataset/Chess/Queen/00000143.jpg  \n",
            "  inflating: Chessman-image-dataset/Chess/Queen/00000144.png  \n",
            "  inflating: Chessman-image-dataset/Chess/Queen/00000151.jpg  \n",
            "  inflating: Chessman-image-dataset/Chess/Queen/00000162.jpg  \n",
            "  inflating: Chessman-image-dataset/Chess/Queen/00000167.jpg  \n",
            "  inflating: Chessman-image-dataset/Chess/Queen/00000170.php  \n",
            "  inflating: Chessman-image-dataset/Chess/Queen/00000173.jpg  \n",
            "  inflating: Chessman-image-dataset/Chess/Queen/00000182.jpg  \n",
            "  inflating: Chessman-image-dataset/Chess/Queen/00000193.jpg  \n",
            "  inflating: Chessman-image-dataset/Chess/Queen/00000195.jpg  \n",
            "  inflating: Chessman-image-dataset/Chess/Queen/00000196.jpg  \n",
            "  inflating: Chessman-image-dataset/Chess/Queen/00000199.jpg  \n",
            "  inflating: Chessman-image-dataset/Chess/Queen/00000200.png  \n",
            "  inflating: Chessman-image-dataset/Chess/Queen/00000204.jpg  \n",
            "  inflating: Chessman-image-dataset/Chess/Queen/00000214.jpg  \n",
            "  inflating: Chessman-image-dataset/Chess/Queen/00000219.jpg  \n",
            "  inflating: Chessman-image-dataset/Chess/Queen/00000221.jpg  \n",
            "  inflating: Chessman-image-dataset/Chess/Queen/00000232.jpg  \n",
            "  inflating: Chessman-image-dataset/Chess/Queen/00000279.jpg  \n",
            "  inflating: Chessman-image-dataset/Chess/Rook/00000002.JPG  \n",
            "  inflating: Chessman-image-dataset/Chess/Rook/00000003.JPG  \n",
            "  inflating: Chessman-image-dataset/Chess/Rook/00000004.jpg  \n",
            "  inflating: Chessman-image-dataset/Chess/Rook/00000005.jpg  \n",
            "  inflating: Chessman-image-dataset/Chess/Rook/00000006.jpg  \n",
            "  inflating: Chessman-image-dataset/Chess/Rook/00000007.jpg  \n",
            "  inflating: Chessman-image-dataset/Chess/Rook/00000008.jpg  \n",
            "  inflating: Chessman-image-dataset/Chess/Rook/00000010.jpg  \n",
            "  inflating: Chessman-image-dataset/Chess/Rook/00000011.jpg  \n",
            "  inflating: Chessman-image-dataset/Chess/Rook/00000014.jpg  \n",
            "  inflating: Chessman-image-dataset/Chess/Rook/00000015.jpg  \n",
            "  inflating: Chessman-image-dataset/Chess/Rook/00000016.jpg  \n",
            "  inflating: Chessman-image-dataset/Chess/Rook/00000017.jpg  \n",
            "  inflating: Chessman-image-dataset/Chess/Rook/00000018.jpg  \n",
            "  inflating: Chessman-image-dataset/Chess/Rook/00000019.jpg  \n",
            "  inflating: Chessman-image-dataset/Chess/Rook/00000020.jpg  \n",
            "  inflating: Chessman-image-dataset/Chess/Rook/00000021.jpg  \n",
            "  inflating: Chessman-image-dataset/Chess/Rook/00000022.jpg  \n",
            "  inflating: Chessman-image-dataset/Chess/Rook/00000024.jpg  \n",
            "  inflating: Chessman-image-dataset/Chess/Rook/00000025.jpeg  \n",
            "  inflating: Chessman-image-dataset/Chess/Rook/00000026.png  \n",
            "  inflating: Chessman-image-dataset/Chess/Rook/00000027.jpg  \n",
            "  inflating: Chessman-image-dataset/Chess/Rook/00000028.jpg  \n",
            "  inflating: Chessman-image-dataset/Chess/Rook/00000031.jpg  \n",
            "  inflating: Chessman-image-dataset/Chess/Rook/00000032.jpg  \n",
            "  inflating: Chessman-image-dataset/Chess/Rook/00000033.jpg  \n",
            "  inflating: Chessman-image-dataset/Chess/Rook/00000034.jpg  \n",
            "  inflating: Chessman-image-dataset/Chess/Rook/00000035.jpg  \n",
            "  inflating: Chessman-image-dataset/Chess/Rook/00000038.jpg  \n",
            "  inflating: Chessman-image-dataset/Chess/Rook/00000044.jpg  \n",
            "  inflating: Chessman-image-dataset/Chess/Rook/00000045.jpg  \n",
            "  inflating: Chessman-image-dataset/Chess/Rook/00000046.jpg  \n",
            "  inflating: Chessman-image-dataset/Chess/Rook/00000049.jpg  \n",
            "  inflating: Chessman-image-dataset/Chess/Rook/00000050.jpg  \n",
            "  inflating: Chessman-image-dataset/Chess/Rook/00000051.jpg  \n",
            "  inflating: Chessman-image-dataset/Chess/Rook/00000053.jpg  \n",
            "  inflating: Chessman-image-dataset/Chess/Rook/00000054.jpg  \n",
            "  inflating: Chessman-image-dataset/Chess/Rook/00000056.png  \n",
            "  inflating: Chessman-image-dataset/Chess/Rook/00000058.jpg  \n",
            "  inflating: Chessman-image-dataset/Chess/Rook/00000059.jpg  \n",
            "  inflating: Chessman-image-dataset/Chess/Rook/00000061.jpg  \n",
            "  inflating: Chessman-image-dataset/Chess/Rook/00000063.jpg  \n",
            "  inflating: Chessman-image-dataset/Chess/Rook/00000064.png  \n",
            "  inflating: Chessman-image-dataset/Chess/Rook/00000065.jpg  \n",
            "  inflating: Chessman-image-dataset/Chess/Rook/00000066.png  \n",
            "  inflating: Chessman-image-dataset/Chess/Rook/00000071.jpg  \n",
            "  inflating: Chessman-image-dataset/Chess/Rook/00000072.jpg  \n",
            "  inflating: Chessman-image-dataset/Chess/Rook/00000073.jpg  \n",
            "  inflating: Chessman-image-dataset/Chess/Rook/00000074.jpg  \n",
            "  inflating: Chessman-image-dataset/Chess/Rook/00000075.jpg  \n",
            "  inflating: Chessman-image-dataset/Chess/Rook/00000076.jpg  \n",
            "  inflating: Chessman-image-dataset/Chess/Rook/00000077.jpg  \n",
            "  inflating: Chessman-image-dataset/Chess/Rook/00000079.jpg  \n",
            "  inflating: Chessman-image-dataset/Chess/Rook/00000082.jpg  \n",
            "  inflating: Chessman-image-dataset/Chess/Rook/00000083.jpg  \n",
            "  inflating: Chessman-image-dataset/Chess/Rook/00000084.png  \n",
            "  inflating: Chessman-image-dataset/Chess/Rook/00000085.png  \n",
            "  inflating: Chessman-image-dataset/Chess/Rook/00000086.jpg  \n",
            "  inflating: Chessman-image-dataset/Chess/Rook/00000088.jpg  \n",
            "  inflating: Chessman-image-dataset/Chess/Rook/00000095.jpg  \n",
            "  inflating: Chessman-image-dataset/Chess/Rook/00000097.jpg  \n",
            "  inflating: Chessman-image-dataset/Chess/Rook/00000098.png  \n",
            "  inflating: Chessman-image-dataset/Chess/Rook/00000099.jpg  \n",
            "  inflating: Chessman-image-dataset/Chess/Rook/00000101.jpg  \n",
            "  inflating: Chessman-image-dataset/Chess/Rook/00000102.jpg  \n",
            "  inflating: Chessman-image-dataset/Chess/Rook/00000103.png  \n",
            "  inflating: Chessman-image-dataset/Chess/Rook/00000107.jpg  \n",
            "  inflating: Chessman-image-dataset/Chess/Rook/00000112.jpg  \n",
            "  inflating: Chessman-image-dataset/Chess/Rook/00000113.jpg  \n",
            "  inflating: Chessman-image-dataset/Chess/Rook/00000114.jpg  \n",
            "  inflating: Chessman-image-dataset/Chess/Rook/00000116.jpg  \n",
            "  inflating: Chessman-image-dataset/Chess/Rook/00000117.jpg  \n",
            "  inflating: Chessman-image-dataset/Chess/Rook/00000118.jpg  \n",
            "  inflating: Chessman-image-dataset/Chess/Rook/00000119.jpg  \n",
            "  inflating: Chessman-image-dataset/Chess/Rook/00000120.jpg  \n",
            "  inflating: Chessman-image-dataset/Chess/Rook/00000121.jpg  \n",
            "  inflating: Chessman-image-dataset/Chess/Rook/00000124.png  \n",
            "  inflating: Chessman-image-dataset/Chess/Rook/00000125.jpg  \n",
            "  inflating: Chessman-image-dataset/Chess/Rook/00000127.jpg  \n",
            "  inflating: Chessman-image-dataset/Chess/Rook/00000130.jpeg  \n",
            "  inflating: Chessman-image-dataset/Chess/Rook/00000131.jpg  \n",
            "  inflating: Chessman-image-dataset/Chess/Rook/00000132.jpg  \n",
            "  inflating: Chessman-image-dataset/Chess/Rook/00000135.jpg  \n",
            "  inflating: Chessman-image-dataset/Chess/Rook/00000136.jpg  \n",
            "  inflating: Chessman-image-dataset/Chess/Rook/00000142.jpg  \n",
            "  inflating: Chessman-image-dataset/Chess/Rook/00000145.jpg  \n",
            "  inflating: Chessman-image-dataset/Chess/Rook/00000147.jpg  \n",
            "  inflating: Chessman-image-dataset/Chess/Rook/00000159.jpg  \n",
            "  inflating: Chessman-image-dataset/Chess/Rook/00000160.jpg  \n",
            "  inflating: Chessman-image-dataset/Chess/Rook/00000163.jpg  \n",
            "  inflating: Chessman-image-dataset/Chess/Rook/00000164.jpg  \n",
            "  inflating: Chessman-image-dataset/Chess/Rook/00000165.jpg  \n",
            "  inflating: Chessman-image-dataset/Chess/Rook/00000168.jpg  \n",
            "  inflating: Chessman-image-dataset/Chess/Rook/00000171.jpg  \n",
            "  inflating: Chessman-image-dataset/Chess/Rook/00000177.JPG  \n",
            "  inflating: Chessman-image-dataset/Chess/Rook/00000179.png  \n",
            "  inflating: Chessman-image-dataset/Chess/Rook/00000180.jpg  \n",
            "  inflating: Chessman-image-dataset/Chess/Rook/00000184.jpg  \n",
            "  inflating: Chessman-image-dataset/Chess/Rook/00000185.jpg  \n",
            "  inflating: Chessman-image-dataset/Chess/Rook/00000189.jpg  \n",
            "  inflating: Chessman-image-dataset/Chess/Rook/00000195.jpg  \n",
            "  inflating: Chessman-image-dataset/Chess/Rook/00000197.jpg  \n"
          ],
          "name": "stdout"
        }
      ]
    },
    {
      "cell_type": "code",
      "metadata": {
        "id": "ky0l7AE1nTDd"
      },
      "source": [
        "CATAGORIES=['Bishop','King','Knight','Pawn','Queen','Rook'] ## define the list of number of classes we are going to use.\n",
        "DATADIR='./Chessman-image-dataset/Chess' # dataset path \n",
        "IMG_SIZE=300  ## mention size of image you wanted"
      ],
      "execution_count": 63,
      "outputs": []
    },
    {
      "cell_type": "code",
      "metadata": {
        "colab": {
          "base_uri": "https://localhost:8080/"
        },
        "id": "kc9Za2aOpT3s",
        "outputId": "f1633338-978f-476c-a367-913104431a5b"
      },
      "source": [
        "nb_class = len(CATAGORIES)\n",
        "nb_class"
      ],
      "execution_count": 67,
      "outputs": [
        {
          "output_type": "execute_result",
          "data": {
            "text/plain": [
              "6"
            ]
          },
          "metadata": {
            "tags": []
          },
          "execution_count": 67
        }
      ]
    },
    {
      "cell_type": "code",
      "metadata": {
        "id": "lAxicLH4b-AD"
      },
      "source": [
        "|train_datagen = ImageDataGenerator(rescale=1./255,\n",
        "                                    validation_split=0.3,\n",
        "                                    rotation_range=20,\n",
        "                                    width_shift_range=0.2,\n",
        "                                    height_shift_range=0.2,\n",
        "                                   shear_range=3, \n",
        "                                    zoom_range=50,\n",
        "                                    horizontal_flip=True,\n",
        "                                   vertical_flip=True)"
      ],
      "execution_count": 9,
      "outputs": []
    },
    {
      "cell_type": "code",
      "metadata": {
        "colab": {
          "base_uri": "https://localhost:8080/"
        },
        "id": "P-cnASgLgbOx",
        "outputId": "6ac668cf-dfaa-4e5b-8393-8868d07e36c7"
      },
      "source": [
        "batch_size=32\n",
        "IMG_HEIGHT=300\n",
        "train_dir='./Chessman-image-dataset/Chess'\n",
        "os.listdir(train_dir)"
      ],
      "execution_count": 10,
      "outputs": [
        {
          "output_type": "execute_result",
          "data": {
            "text/plain": [
              "['Pawn', 'Rook', 'Queen', 'King', 'Bishop', 'Knight']"
            ]
          },
          "metadata": {
            "tags": []
          },
          "execution_count": 10
        }
      ]
    },
    {
      "cell_type": "code",
      "metadata": {
        "colab": {
          "base_uri": "https://localhost:8080/"
        },
        "id": "_1saI1tEir4E",
        "outputId": "8c8a664f-b0bf-4333-cfeb-2794bd9ed7db"
      },
      "source": [
        "# X_train_datagen=train_datagen.flow_from_directory(batch_size=batch_size,\n",
        "#                                                    directory=train_dir,\n",
        "#                                                    shuffle=True,\n",
        "#                                                    target_size=(IMG_HEIGHT, IMG_HEIGHT),\n",
        "#                                                    subset='training',\n",
        "#                                                    class_mode='categorical',\n",
        "#                                                    color_mode='grayscale',\n",
        "#                                                    seed=42)\n",
        "                                                  \n",
        "                                                  \n",
        "# validation_generator = train_datagen.flow_from_directory(\n",
        "#                                                         directory=train_dir,\n",
        "#                                                         target_size=(IMG_HEIGHT, IMG_HEIGHT),\n",
        "#                                                         color_mode='grayscale',\n",
        "#                                                         batch_size=batch_size,\n",
        "                                                        # class_mode='categorical',\n",
        "#                                                         subset='validation',\n",
        "#                                                         shuffle=True,\n",
        "#                                                         seed=42)"
      ],
      "execution_count": 11,
      "outputs": [
        {
          "output_type": "stream",
          "text": [
            "Found 389 images belonging to 6 classes.\n",
            "Found 162 images belonging to 6 classes.\n"
          ],
          "name": "stdout"
        }
      ]
    },
    {
      "cell_type": "code",
      "metadata": {
        "id": "KQowtl1UFP2d"
      },
      "source": [
        "# input_shape=(32, 300, 300, 1) ### here full size for model input  (batch_size,img_Size,img_size,1)"
      ],
      "execution_count": 19,
      "outputs": []
    },
    {
      "cell_type": "code",
      "metadata": {
        "id": "FWIM3SDhoARA"
      },
      "source": [
        "from tensorflow.keras.applications import EfficientNetB7"
      ],
      "execution_count": 12,
      "outputs": []
    },
    {
      "cell_type": "code",
      "metadata": {
        "colab": {
          "base_uri": "https://localhost:8080/"
        },
        "id": "D8DnonFXomx0",
        "outputId": "5372424c-a407-4a20-97ce-98b4041f8e34"
      },
      "source": [
        "takemodel = EfficientNetB7(include_top=False, input_shape=(300, 300, 3))\n",
        "takemodel.trainable=False\n",
        "model = Sequential()\n",
        "model.add(takemodel)\n",
        "model.add(Flatten())\n",
        "model.add(Dense(6, activation='softmax'))\n",
        "# optimizer = SGD(learning_rate=0.001)\n",
        "\n",
        "model.summary()\n"
      ],
      "execution_count": 41,
      "outputs": [
        {
          "output_type": "stream",
          "text": [
            "Model: \"sequential_6\"\n",
            "_________________________________________________________________\n",
            "Layer (type)                 Output Shape              Param #   \n",
            "=================================================================\n",
            "efficientnetb7 (Functional)  (None, 10, 10, 2560)      64097687  \n",
            "_________________________________________________________________\n",
            "flatten_5 (Flatten)          (None, 256000)            0         \n",
            "_________________________________________________________________\n",
            "dense_5 (Dense)              (None, 6)                 1536006   \n",
            "=================================================================\n",
            "Total params: 65,633,693\n",
            "Trainable params: 1,536,006\n",
            "Non-trainable params: 64,097,687\n",
            "_________________________________________________________________\n"
          ],
          "name": "stdout"
        }
      ]
    },
    {
      "cell_type": "code",
      "metadata": {
        "id": "o0XyY_YJDUjf"
      },
      "source": [
        "model.compile(loss='categorical_crossentropy',\n",
        "             optimizer='adam',\n",
        "             metrics=['accuracy'])"
      ],
      "execution_count": 42,
      "outputs": []
    },
    {
      "cell_type": "code",
      "metadata": {
        "id": "0Najq-QcI5UV"
      },
      "source": [
        "Early = tf.keras.callbacks.EarlyStopping(monitor='val_loss', patience=10)#to prevent overffiting of dataset"
      ],
      "execution_count": 43,
      "outputs": []
    },
    {
      "cell_type": "code",
      "metadata": {
        "id": "lYC1jjMVI9-A"
      },
      "source": [
        "from keras.callbacks import ReduceLROnPlateau ##### To control learning rate\n",
        "learning_rate_reduction = ReduceLROnPlateau(monitor='val_accuracy', \n",
        "                                            patience=2, \n",
        "                                            verbose=1, \n",
        "                                            factor=0.5, \n",
        "                                            min_lr=0.0005) \n",
        "callback = [Early,learning_rate_reduction]\n"
      ],
      "execution_count": 44,
      "outputs": []
    },
    {
      "cell_type": "code",
      "metadata": {
        "id": "LLZyTOZAJBpo"
      },
      "source": [
        "history = model.fit(X_train_datagen,\n",
        "                              validation_data=validation_generator,\n",
        "                              callbacks = callback, \n",
        "                              epochs=100,\n",
        "                              verbose=0\n",
        "                             )### fit dataset for just 10 epoch \n",
        "###we can fit for more epoch but our purpose just learning since we prefer 10 epoch may be you train for 50-200 epoch"
      ],
      "execution_count": 47,
      "outputs": []
    },
    {
      "cell_type": "code",
      "metadata": {
        "colab": {
          "base_uri": "https://localhost:8080/",
          "height": 313
        },
        "id": "gTfh7CfoJWoL",
        "outputId": "c5498ec6-da11-44e3-f7f2-3a17caac32a9"
      },
      "source": [
        "plt.figure(1)\n",
        "plt.plot(history.history['accuracy'])\n",
        "plt.plot(history.history['val_accuracy'])\n",
        "plt.title('model_Accuracy')\n",
        "plt.xlabel('epoch')\n",
        "plt.ylabel('accuracy')\n",
        "plt.legend(['train', 'validation'], loc='upper left')"
      ],
      "execution_count": 48,
      "outputs": [
        {
          "output_type": "execute_result",
          "data": {
            "text/plain": [
              "<matplotlib.legend.Legend at 0x7f6861652690>"
            ]
          },
          "metadata": {
            "tags": []
          },
          "execution_count": 48
        },
        {
          "output_type": "display_data",
          "data": {
            "image/png": "[encoded data removed]",
            "text/plain": [
              "<Figure size 432x288 with 1 Axes>"
            ]
          },
          "metadata": {
            "tags": [],
            "needs_background": "light"
          }
        }
      ]
    },
    {
      "cell_type": "code",
      "metadata": {
        "id": "QYTvO4scJXZ0"
      },
      "source": [
        "##### just and image plotting function\n",
        "def img_plot(x):\n",
        "    ndarray=prepare(x)\n",
        "    plt.plot(ndarray)\n",
        "    plt.show()"
      ],
      "execution_count": 49,
      "outputs": []
    },
    {
      "cell_type": "code",
      "metadata": {
        "colab": {
          "base_uri": "https://localhost:8080/",
          "height": 337
        },
        "id": "oZ2K280MJZAN",
        "outputId": "5d6e327e-1853-4103-c65a-f2b3c260bc7b"
      },
      "source": [
        "def prepare(file):\n",
        "    img_array = cv2.imread(file, cv2.IMREAD_GRAYSCALE)\n",
        "    new_array = cv2.resize(img_array, (IMG_HEIGHT, IMG_HEIGHT))\n",
        "    plt.imshow(new_array)\n",
        "    return new_array.reshape(-1, IMG_HEIGHT, IMG_HEIGHT, 1)\n",
        "#image = testX[1]#your image path\n",
        "image='./Chessman-image-dataset/Chess/Rook/00000010.jpg'\n",
        "prediction = model.predict([prepare(image)])\n",
        "#img_plot(image)\n",
        "prediction = list(prediction[0])\n",
        "#print(CATAGORIES[prediction.index(max(prediction))])\n",
        "temp=CATAGORIES[prediction.index(max(prediction))]\n",
        "plt.title(temp)\n",
        "plt.show()"
      ],
      "execution_count": 50,
      "outputs": [
        {
          "output_type": "stream",
          "text": [
            "WARNING:tensorflow:Model was constructed with shape (None, 300, 300, 3) for input KerasTensor(type_spec=TensorSpec(shape=(None, 300, 300, 3), dtype=tf.float32, name='efficientnetb7_input'), name='efficientnetb7_input', description=\"created by layer 'efficientnetb7_input'\"), but it was called on an input with incompatible shape (None, 300, 300, 1).\n",
            "WARNING:tensorflow:Model was constructed with shape (None, 300, 300, 3) for input KerasTensor(type_spec=TensorSpec(shape=(None, 300, 300, 3), dtype=tf.float32, name='input_8'), name='input_8', description=\"created by layer 'input_8'\"), but it was called on an input with incompatible shape (None, 300, 300, 1).\n"
          ],
          "name": "stdout"
        },
        {
          "output_type": "display_data",
          "data": {
            "image/png": "[encoded data removed]",
            "text/plain": [
              "<Figure size 432x288 with 1 Axes>"
            ]
          },
          "metadata": {
            "tags": [],
            "needs_background": "light"
          }
        }
      ]
    }
  ]
}