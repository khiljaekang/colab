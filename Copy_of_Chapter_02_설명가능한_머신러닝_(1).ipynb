{
  "nbformat": 4,
  "nbformat_minor": 0,
  "metadata": {
    "kernelspec": {
      "display_name": "Python 3",
      "language": "python",
      "name": "python3"
    },
    "language_info": {
      "codemirror_mode": {
        "name": "ipython",
        "version": 3
      },
      "file_extension": ".py",
      "mimetype": "text/x-python",
      "name": "python",
      "nbconvert_exporter": "python",
      "pygments_lexer": "ipython3",
      "version": "3.6.6"
    },
    "toc": {
      "base_numbering": 1,
      "nav_menu": {},
      "number_sections": true,
      "sideBar": true,
      "skip_h1_title": false,
      "title_cell": "Table of Contents",
      "title_sidebar": "Contents",
      "toc_cell": false,
      "toc_position": {},
      "toc_section_display": true,
      "toc_window_display": false
    },
    "colab": {
      "name": "Copy of Chapter 02.설명가능한 머신러닝 (1).ipynb",
      "provenance": [],
      "collapsed_sections": [
        "xQFWdtfAMg8X",
        "GIJnp2oyMg8Y",
        "mZktOBVzMg8a",
        "1RI3BfxJMg8c",
        "k_Rxx8t6Mg8d",
        "jx0Tq9YtMg8d",
        "Wbv_PjNKMg87",
        "5TZKEvtYMg87"
      ],
      "include_colab_link": true
    }
  },
  "cells": [
    {
      "cell_type": "markdown",
      "metadata": {
        "id": "view-in-github",
        "colab_type": "text"
      },
      "source": [
        "<a href=\"https://colab.research.google.com/github/khiljaekang/colab/blob/main/Copy_of_Chapter_02_%EC%84%A4%EB%AA%85%EA%B0%80%EB%8A%A5%ED%95%9C_%EB%A8%B8%EC%8B%A0%EB%9F%AC%EB%8B%9D_(1).ipynb\" target=\"_parent\"><img src=\"https://colab.research.google.com/assets/colab-badge.svg\" alt=\"Open In Colab\"/></a>"
      ]
    },
    {
      "cell_type": "markdown",
      "metadata": {
        "id": "9wUB4FO5Mg7_"
      },
      "source": [
        "# Chapter 02. 설명가능한 머신러닝 (1)"
      ]
    },
    {
      "cell_type": "markdown",
      "metadata": {
        "id": "kDV6fBuoMg8D"
      },
      "source": [
        "## 실습 가이드\n",
        "1. 데이터를 다운로드하여 Colab에 불러옵니다.\n",
        "2. 필요한 라이브러리는 모두 코드로 작성되어 있습니다.\n",
        "3. 코드는 위에서부터 아래로 순서대로 실행합니다.\n",
        "4. 전체 문제 구성은 좌측 첫 번째 아이콘을 통해 확인할 수 있습니다."
      ]
    },
    {
      "cell_type": "markdown",
      "metadata": {
        "id": "_aa6v_pdMg8E"
      },
      "source": [
        "## Step 0. 설명 가능한 AI 소개 및 개요 "
      ]
    },
    {
      "cell_type": "markdown",
      "metadata": {
        "id": "3DecrmRnMg8E"
      },
      "source": [
        "### 설명 가능한 AI\n",
        "\n",
        "- 알고리즘이 도출한 결과에 대하여 설명 가능한 근거나 해석력을 보장하여 신뢰성과 투명성을 강화하려는 기술\n",
        "- 미국 DARPA에서 제안한 XAI 프레임워크를 참고(2017)\n",
        "\n",
        "![nn](https://www.darpa.mil/ddm_gallery/xai-figure2-inline-graphic.png)\n",
        "\n",
        "참고: https://www.darpa.mil/program/explainable-artificial-intelligence\n",
        "\n"
      ]
    },
    {
      "cell_type": "markdown",
      "metadata": {
        "id": "b8kr_-oKOHK1"
      },
      "source": [
        "### 기대효과\n",
        "\n",
        "- 신뢰도 확보\n",
        "- 컴플라이언스 요구 충족 (규제 대응)\n",
        "- 학습결과의 일반화\n",
        "- 머신러닝 모델의 개선\n",
        "- 판단 과정의 편향 발견\n",
        "- 새로운 지식을 가설로 검증\n",
        "- AutoML 사용시 데이터 분석가의 역할 확대\n"
      ]
    },
    {
      "cell_type": "code",
      "metadata": {
        "id": "PljFf0qfeBqk"
      },
      "source": [
        "#금융권 데이터 : 신용평가? 대출심사? 보험 가입심사, 보장급부 심사?, 투자성향 등급 산정? ( 펀드, 위험자산 <- 위험성향)\n",
        "\n"
      ],
      "execution_count": null,
      "outputs": []
    },
    {
      "cell_type": "markdown",
      "metadata": {
        "id": "VkKmhKfCODVQ"
      },
      "source": [
        "### XAI의 원리\n",
        "\n",
        "- 0) 본질적으로 설명이 가능한 모델을 구축\n",
        "- 1) 머신러닝 모델 전체에 대한 해석 제공\n",
        "- 2) 머신러닝 모델에 쓰인 피처에 대한 해석 제공\n",
        "- 3) 개별 데이터 포인트와 학습결과에 이르게 된 과정에 대한 해석 제공\n"
      ]
    },
    {
      "cell_type": "markdown",
      "metadata": {
        "id": "BaLNCdk9OFKP"
      },
      "source": [
        "### XAI 기법 소개\n",
        "- 1) 피처 중요도(Feature Importance)\n",
        "\n",
        "\n",
        "- 2) 부분 의존성(Partial Dependence Plot, PDP)\n",
        "\n",
        "\n",
        "- 3) 대리 모델(Surrogate Analysis): LIME, SHAP 등\n",
        "\n",
        "\n",
        "- 그 외 많은 방법론이 있으나 이번 주제에는 금융 모델에서 주로 쓰이는 위 3개를 중점적으로 다룹니다."
      ]
    },
    {
      "cell_type": "markdown",
      "metadata": {
        "id": "lSV6L573N30t"
      },
      "source": [
        "### <b>학습목표</b>\n",
        "- 1) 설명가능한 AI의 이해\n",
        "\n",
        "\n",
        "- 2) 피처 중요도에 대한 이해 \n",
        "\n",
        "\n",
        "- 3) 부분 의존성에 대한 이해\n",
        "\n",
        "\n",
        "- 4) LIME 알고리즘 구현\n",
        "\n",
        "\n",
        "- 5) 해석을 바탕으로 모델을 개선하는 방법 습득"
      ]
    },
    {
      "cell_type": "markdown",
      "metadata": {
        "id": "IL85EyHjMg8F"
      },
      "source": [
        "- 출제자: 최민정 강사"
      ]
    },
    {
      "cell_type": "markdown",
      "metadata": {
        "id": "36BK1manMg8F"
      },
      "source": [
        "## Step 1. 머신러닝 모델에서 변수의 영향력 계산하기"
      ]
    },
    {
      "cell_type": "code",
      "metadata": {
        "id": "zdOlatLexUjV"
      },
      "source": [
        "#chapter 02 패키지\n",
        "\n",
        "-pickle (Step 1 ~): 머신러닝 모델 아웃풋과 데이터셋을 저장하기, 불러오기 \n",
        "-gzip (Step 1 ~) : 파일압축하기, 압축풀기 \n",
        "#XAI를 위한 기법\n",
        "-eli5: 머신러닝 모델 설명(Explain like i am 5)\n",
        "-pdpbox : partial dependance plot 학습 모델 설명, 시각화\n",
        "-lime : 학습한 결과를 대리분석으로 설명\n"
      ],
      "execution_count": null,
      "outputs": []
    },
    {
      "cell_type": "code",
      "metadata": {
        "colab": {
          "base_uri": "https://localhost:8080/",
          "height": 1000
        },
        "id": "VzDwWgsRyHDj",
        "outputId": "3bec334e-6aa1-4255-a8b2-f4d0e215083e"
      },
      "source": [
        "! pip install eli5\n",
        "! pip install pdpbox\n",
        "! pip install lime"
      ],
      "execution_count": 4,
      "outputs": [
        {
          "output_type": "stream",
          "text": [
            "Requirement already satisfied: eli5 in /usr/local/lib/python3.7/dist-packages (0.11.0)\n",
            "Requirement already satisfied: scikit-learn>=0.20 in /usr/local/lib/python3.7/dist-packages (from eli5) (0.22.2.post1)\n",
            "Requirement already satisfied: attrs>16.0.0 in /usr/local/lib/python3.7/dist-packages (from eli5) (21.2.0)\n",
            "Requirement already satisfied: six in /usr/local/lib/python3.7/dist-packages (from eli5) (1.15.0)\n",
            "Requirement already satisfied: tabulate>=0.7.7 in /usr/local/lib/python3.7/dist-packages (from eli5) (0.8.9)\n",
            "Requirement already satisfied: scipy in /usr/local/lib/python3.7/dist-packages (from eli5) (1.4.1)\n",
            "Requirement already satisfied: graphviz in /usr/local/lib/python3.7/dist-packages (from eli5) (0.10.1)\n",
            "Requirement already satisfied: numpy>=1.9.0 in /usr/local/lib/python3.7/dist-packages (from eli5) (1.19.5)\n",
            "Requirement already satisfied: jinja2 in /usr/local/lib/python3.7/dist-packages (from eli5) (2.11.3)\n",
            "Requirement already satisfied: joblib>=0.11 in /usr/local/lib/python3.7/dist-packages (from scikit-learn>=0.20->eli5) (1.0.1)\n",
            "Requirement already satisfied: MarkupSafe>=0.23 in /usr/local/lib/python3.7/dist-packages (from jinja2->eli5) (2.0.0)\n",
            "Collecting pdpbox\n",
            "\u001b[?25l  Downloading https://files.pythonhosted.org/packages/d5/6b/8b214723ff134f6b3f69a77c5bbd9d80db86ce01d3a970a5dbbab45c57fc/PDPbox-0.2.1.tar.gz (34.0MB)\n",
            "\u001b[K     |████████████████████████████████| 34.0MB 115kB/s \n",
            "\u001b[?25hRequirement already satisfied: pandas in /usr/local/lib/python3.7/dist-packages (from pdpbox) (1.1.5)\n",
            "Requirement already satisfied: numpy in /usr/local/lib/python3.7/dist-packages (from pdpbox) (1.19.5)\n",
            "Requirement already satisfied: scipy in /usr/local/lib/python3.7/dist-packages (from pdpbox) (1.4.1)\n",
            "Requirement already satisfied: joblib in /usr/local/lib/python3.7/dist-packages (from pdpbox) (1.0.1)\n",
            "Requirement already satisfied: psutil in /usr/local/lib/python3.7/dist-packages (from pdpbox) (5.4.8)\n",
            "Collecting matplotlib==3.1.1\n",
            "\u001b[?25l  Downloading https://files.pythonhosted.org/packages/19/7a/60bd79c5d79559150f8bba866dd7d434f0a170312e4d15e8aefa5faba294/matplotlib-3.1.1-cp37-cp37m-manylinux1_x86_64.whl (13.1MB)\n",
            "\u001b[K     |████████████████████████████████| 13.1MB 24.1MB/s \n",
            "\u001b[?25hRequirement already satisfied: sklearn in /usr/local/lib/python3.7/dist-packages (from pdpbox) (0.0)\n",
            "Requirement already satisfied: python-dateutil>=2.7.3 in /usr/local/lib/python3.7/dist-packages (from pandas->pdpbox) (2.8.1)\n",
            "Requirement already satisfied: pytz>=2017.2 in /usr/local/lib/python3.7/dist-packages (from pandas->pdpbox) (2018.9)\n",
            "Requirement already satisfied: pyparsing!=2.0.4,!=2.1.2,!=2.1.6,>=2.0.1 in /usr/local/lib/python3.7/dist-packages (from matplotlib==3.1.1->pdpbox) (2.4.7)\n",
            "Requirement already satisfied: cycler>=0.10 in /usr/local/lib/python3.7/dist-packages (from matplotlib==3.1.1->pdpbox) (0.10.0)\n",
            "Requirement already satisfied: kiwisolver>=1.0.1 in /usr/local/lib/python3.7/dist-packages (from matplotlib==3.1.1->pdpbox) (1.3.1)\n",
            "Requirement already satisfied: scikit-learn in /usr/local/lib/python3.7/dist-packages (from sklearn->pdpbox) (0.22.2.post1)\n",
            "Requirement already satisfied: six>=1.5 in /usr/local/lib/python3.7/dist-packages (from python-dateutil>=2.7.3->pandas->pdpbox) (1.15.0)\n",
            "Building wheels for collected packages: pdpbox\n",
            "  Building wheel for pdpbox (setup.py) ... \u001b[?25l\u001b[?25hdone\n",
            "  Created wheel for pdpbox: filename=PDPbox-0.2.1-cp37-none-any.whl size=35758228 sha256=2b5ae7259a84caa83c3135e5b3869289d70edda25706e1224cd43beafd2103af\n",
            "  Stored in directory: /root/.cache/pip/wheels/c8/13/11/ecac74c6192790c94f6f5d919f1a388f927b9febb690e45eef\n",
            "Successfully built pdpbox\n",
            "\u001b[31mERROR: albumentations 0.1.12 has requirement imgaug<0.2.7,>=0.2.5, but you'll have imgaug 0.2.9 which is incompatible.\u001b[0m\n",
            "Installing collected packages: matplotlib, pdpbox\n",
            "  Found existing installation: matplotlib 3.2.2\n",
            "    Uninstalling matplotlib-3.2.2:\n",
            "      Successfully uninstalled matplotlib-3.2.2\n",
            "Successfully installed matplotlib-3.1.1 pdpbox-0.2.1\n"
          ],
          "name": "stdout"
        },
        {
          "output_type": "display_data",
          "data": {
            "application/vnd.colab-display-data+json": {
              "pip_warning": {
                "packages": [
                  "matplotlib",
                  "mpl_toolkits"
                ]
              }
            }
          },
          "metadata": {
            "tags": []
          }
        },
        {
          "output_type": "stream",
          "text": [
            "Requirement already satisfied: lime in /usr/local/lib/python3.7/dist-packages (0.2.0.1)\n",
            "Requirement already satisfied: scikit-learn>=0.18 in /usr/local/lib/python3.7/dist-packages (from lime) (0.22.2.post1)\n",
            "Requirement already satisfied: scipy in /usr/local/lib/python3.7/dist-packages (from lime) (1.4.1)\n",
            "Requirement already satisfied: scikit-image>=0.12 in /usr/local/lib/python3.7/dist-packages (from lime) (0.16.2)\n",
            "Requirement already satisfied: matplotlib in /usr/local/lib/python3.7/dist-packages (from lime) (3.1.1)\n",
            "Requirement already satisfied: numpy in /usr/local/lib/python3.7/dist-packages (from lime) (1.19.5)\n",
            "Requirement already satisfied: tqdm in /usr/local/lib/python3.7/dist-packages (from lime) (4.41.1)\n",
            "Requirement already satisfied: joblib>=0.11 in /usr/local/lib/python3.7/dist-packages (from scikit-learn>=0.18->lime) (1.0.1)\n",
            "Requirement already satisfied: networkx>=2.0 in /usr/local/lib/python3.7/dist-packages (from scikit-image>=0.12->lime) (2.5.1)\n",
            "Requirement already satisfied: imageio>=2.3.0 in /usr/local/lib/python3.7/dist-packages (from scikit-image>=0.12->lime) (2.4.1)\n",
            "Requirement already satisfied: PyWavelets>=0.4.0 in /usr/local/lib/python3.7/dist-packages (from scikit-image>=0.12->lime) (1.1.1)\n",
            "Requirement already satisfied: pillow>=4.3.0 in /usr/local/lib/python3.7/dist-packages (from scikit-image>=0.12->lime) (7.1.2)\n",
            "Requirement already satisfied: kiwisolver>=1.0.1 in /usr/local/lib/python3.7/dist-packages (from matplotlib->lime) (1.3.1)\n",
            "Requirement already satisfied: pyparsing!=2.0.4,!=2.1.2,!=2.1.6,>=2.0.1 in /usr/local/lib/python3.7/dist-packages (from matplotlib->lime) (2.4.7)\n",
            "Requirement already satisfied: python-dateutil>=2.1 in /usr/local/lib/python3.7/dist-packages (from matplotlib->lime) (2.8.1)\n",
            "Requirement already satisfied: cycler>=0.10 in /usr/local/lib/python3.7/dist-packages (from matplotlib->lime) (0.10.0)\n",
            "Requirement already satisfied: decorator<5,>=4.3 in /usr/local/lib/python3.7/dist-packages (from networkx>=2.0->scikit-image>=0.12->lime) (4.4.2)\n",
            "Requirement already satisfied: six>=1.5 in /usr/local/lib/python3.7/dist-packages (from python-dateutil>=2.1->matplotlib->lime) (1.15.0)\n"
          ],
          "name": "stdout"
        }
      ]
    },
    {
      "cell_type": "code",
      "metadata": {
        "colab": {
          "base_uri": "https://localhost:8080/"
        },
        "id": "K4oh8xf_yVAA",
        "outputId": "1646a4a1-e611-4389-d4cc-4ca7773c0179"
      },
      "source": [
        "pip list"
      ],
      "execution_count": 5,
      "outputs": [
        {
          "output_type": "stream",
          "text": [
            "Package                       Version       \n",
            "----------------------------- --------------\n",
            "absl-py                       0.12.0        \n",
            "alabaster                     0.7.12        \n",
            "albumentations                0.1.12        \n",
            "altair                        4.1.0         \n",
            "appdirs                       1.4.4         \n",
            "argon2-cffi                   20.1.0        \n",
            "arviz                         0.11.2        \n",
            "astor                         0.8.1         \n",
            "astropy                       4.2.1         \n",
            "astunparse                    1.6.3         \n",
            "async-generator               1.10          \n",
            "atari-py                      0.2.6         \n",
            "atomicwrites                  1.4.0         \n",
            "attrs                         21.2.0        \n",
            "audioread                     2.1.9         \n",
            "autograd                      1.3           \n",
            "Babel                         2.9.1         \n",
            "backcall                      0.2.0         \n",
            "beautifulsoup4                4.6.3         \n",
            "bleach                        3.3.0         \n",
            "blis                          0.4.1         \n",
            "bokeh                         2.3.2         \n",
            "Bottleneck                    1.3.2         \n",
            "branca                        0.4.2         \n",
            "bs4                           0.0.1         \n",
            "CacheControl                  0.12.6        \n",
            "cachetools                    4.2.2         \n",
            "catalogue                     1.0.0         \n",
            "certifi                       2020.12.5     \n",
            "cffi                          1.14.5        \n",
            "cftime                        1.4.1         \n",
            "chainer                       7.4.0         \n",
            "chardet                       3.0.4         \n",
            "click                         8.0.0         \n",
            "cloudpickle                   1.3.0         \n",
            "cmake                         3.12.0        \n",
            "cmdstanpy                     0.9.5         \n",
            "colorcet                      2.0.6         \n",
            "colorlover                    0.3.0         \n",
            "community                     1.0.0b1       \n",
            "contextlib2                   0.5.5         \n",
            "convertdate                   2.3.2         \n",
            "coverage                      3.7.1         \n",
            "coveralls                     0.5           \n",
            "crcmod                        1.7           \n",
            "cufflinks                     0.17.3        \n",
            "cvxopt                        1.2.6         \n",
            "cvxpy                         1.0.31        \n",
            "cycler                        0.10.0        \n",
            "cymem                         2.0.5         \n",
            "Cython                        0.29.23       \n",
            "daft                          0.0.4         \n",
            "dask                          2.12.0        \n",
            "datascience                   0.10.6        \n",
            "debugpy                       1.0.0         \n",
            "decorator                     4.4.2         \n",
            "defusedxml                    0.7.1         \n",
            "descartes                     1.1.0         \n",
            "dill                          0.3.3         \n",
            "distributed                   1.25.3        \n",
            "dlib                          19.18.0       \n",
            "dm-tree                       0.1.6         \n",
            "docopt                        0.6.2         \n",
            "docutils                      0.17.1        \n",
            "dopamine-rl                   1.0.5         \n",
            "earthengine-api               0.1.264       \n",
            "easydict                      1.9           \n",
            "ecos                          2.0.7.post1   \n",
            "editdistance                  0.5.3         \n",
            "eli5                          0.11.0        \n",
            "en-core-web-sm                2.2.5         \n",
            "entrypoints                   0.3           \n",
            "ephem                         3.7.7.1       \n",
            "et-xmlfile                    1.1.0         \n",
            "fa2                           0.3.5         \n",
            "fancyimpute                   0.4.3         \n",
            "fastai                        1.0.61        \n",
            "fastdtw                       0.3.4         \n",
            "fastprogress                  1.0.0         \n",
            "fastrlock                     0.6           \n",
            "fbprophet                     0.7.1         \n",
            "feather-format                0.4.1         \n",
            "filelock                      3.0.12        \n",
            "firebase-admin                4.4.0         \n",
            "fix-yahoo-finance             0.0.22        \n",
            "Flask                         1.1.2         \n",
            "flatbuffers                   1.12          \n",
            "folium                        0.8.3         \n",
            "future                        0.16.0        \n",
            "gast                          0.3.3         \n",
            "GDAL                          2.2.2         \n",
            "gdown                         3.6.4         \n",
            "gensim                        3.6.0         \n",
            "geographiclib                 1.50          \n",
            "geopy                         1.17.0        \n",
            "gin-config                    0.4.0         \n",
            "glob2                         0.7           \n",
            "google                        2.0.3         \n",
            "google-api-core               1.26.3        \n",
            "google-api-python-client      1.12.8        \n",
            "google-auth                   1.30.0        \n",
            "google-auth-httplib2          0.0.4         \n",
            "google-auth-oauthlib          0.4.4         \n",
            "google-cloud-bigquery         1.21.0        \n",
            "google-cloud-bigquery-storage 1.1.0         \n",
            "google-cloud-core             1.0.3         \n",
            "google-cloud-datastore        1.8.0         \n",
            "google-cloud-firestore        1.7.0         \n",
            "google-cloud-language         1.2.0         \n",
            "google-cloud-storage          1.18.1        \n",
            "google-cloud-translate        1.5.0         \n",
            "google-colab                  1.0.0         \n",
            "google-pasta                  0.2.0         \n",
            "google-resumable-media        0.4.1         \n",
            "googleapis-common-protos      1.53.0        \n",
            "googledrivedownloader         0.4           \n",
            "graphviz                      0.10.1        \n",
            "greenlet                      1.1.0         \n",
            "grpcio                        1.32.0        \n",
            "gspread                       3.0.1         \n",
            "gspread-dataframe             3.0.8         \n",
            "gym                           0.17.3        \n",
            "h5py                          2.10.0        \n",
            "HeapDict                      1.0.1         \n",
            "hijri-converter               2.1.1         \n",
            "holidays                      0.10.5.2      \n",
            "holoviews                     1.14.3        \n",
            "html5lib                      1.0.1         \n",
            "httpimport                    0.5.18        \n",
            "httplib2                      0.17.4        \n",
            "httplib2shim                  0.0.3         \n",
            "humanize                      0.5.1         \n",
            "hyperopt                      0.1.2         \n",
            "ideep4py                      2.0.0.post3   \n",
            "idna                          2.10          \n",
            "imageio                       2.4.1         \n",
            "imagesize                     1.2.0         \n",
            "imbalanced-learn              0.4.3         \n",
            "imblearn                      0.0           \n",
            "imgaug                        0.2.9         \n",
            "importlib-metadata            4.0.1         \n",
            "importlib-resources           5.1.2         \n",
            "imutils                       0.5.4         \n",
            "inflect                       2.1.0         \n",
            "iniconfig                     1.1.1         \n",
            "intel-openmp                  2021.2.0      \n",
            "intervaltree                  2.1.0         \n",
            "ipykernel                     4.10.1        \n",
            "ipython                       5.5.0         \n",
            "ipython-genutils              0.2.0         \n",
            "ipython-sql                   0.3.9         \n",
            "ipywidgets                    7.6.3         \n",
            "itsdangerous                  2.0.0         \n",
            "jax                           0.2.13        \n",
            "jaxlib                        0.1.66+cuda110\n",
            "jdcal                         1.4.1         \n",
            "jedi                          0.18.0        \n",
            "jieba                         0.42.1        \n",
            "Jinja2                        2.11.3        \n",
            "joblib                        1.0.1         \n",
            "jpeg4py                       0.1.4         \n",
            "jsonschema                    2.6.0         \n",
            "jupyter                       1.0.0         \n",
            "jupyter-client                5.3.5         \n",
            "jupyter-console               5.2.0         \n",
            "jupyter-core                  4.7.1         \n",
            "jupyterlab-pygments           0.1.2         \n",
            "jupyterlab-widgets            1.0.0         \n",
            "kaggle                        1.5.12        \n",
            "kapre                         0.1.3.1       \n",
            "Keras                         2.4.3         \n",
            "Keras-Preprocessing           1.1.2         \n",
            "keras-vis                     0.4.1         \n",
            "kiwisolver                    1.3.1         \n",
            "knnimpute                     0.1.0         \n",
            "korean-lunar-calendar         0.2.1         \n",
            "librosa                       0.8.0         \n",
            "lightgbm                      2.2.3         \n",
            "lime                          0.2.0.1       \n",
            "llvmlite                      0.34.0        \n",
            "lmdb                          0.99          \n",
            "LunarCalendar                 0.0.9         \n",
            "lxml                          4.2.6         \n",
            "Markdown                      3.3.4         \n",
            "MarkupSafe                    2.0.0         \n",
            "matplotlib                    3.1.1         \n",
            "matplotlib-inline             0.1.2         \n",
            "matplotlib-venn               0.11.6        \n",
            "missingno                     0.4.2         \n",
            "mistune                       0.8.4         \n",
            "mizani                        0.6.0         \n",
            "mkl                           2019.0        \n",
            "mlxtend                       0.14.0        \n",
            "more-itertools                8.7.0         \n",
            "moviepy                       0.2.3.5       \n",
            "mpmath                        1.2.1         \n",
            "msgpack                       1.0.2         \n",
            "multiprocess                  0.70.11.1     \n",
            "multitasking                  0.0.9         \n",
            "murmurhash                    1.0.5         \n",
            "music21                       5.5.0         \n",
            "natsort                       5.5.0         \n",
            "nbclient                      0.5.3         \n",
            "nbconvert                     5.6.1         \n",
            "nbformat                      5.1.3         \n",
            "nest-asyncio                  1.5.1         \n",
            "netCDF4                       1.5.6         \n",
            "networkx                      2.5.1         \n",
            "nibabel                       3.0.2         \n",
            "nltk                          3.2.5         \n",
            "notebook                      5.3.1         \n",
            "np-utils                      0.5.12.1      \n",
            "numba                         0.51.2        \n",
            "numexpr                       2.7.3         \n",
            "numpy                         1.19.5        \n",
            "nvidia-ml-py3                 7.352.0       \n",
            "oauth2client                  4.1.3         \n",
            "oauthlib                      3.1.0         \n",
            "okgrade                       0.4.3         \n",
            "opencv-contrib-python         4.1.2.30      \n",
            "opencv-python                 4.1.2.30      \n",
            "openpyxl                      2.5.9         \n",
            "opt-einsum                    3.3.0         \n",
            "osqp                          0.6.2.post0   \n",
            "packaging                     20.9          \n",
            "palettable                    3.3.0         \n",
            "pandas                        1.1.5         \n",
            "pandas-datareader             0.9.0         \n",
            "pandas-gbq                    0.13.3        \n",
            "pandas-profiling              1.4.1         \n",
            "pandocfilters                 1.4.3         \n",
            "panel                         0.11.3        \n",
            "param                         1.10.1        \n",
            "parso                         0.8.2         \n",
            "pathlib                       1.0.1         \n",
            "patsy                         0.5.1         \n",
            "PDPbox                        0.2.1         \n",
            "pexpect                       4.8.0         \n",
            "pickleshare                   0.7.5         \n",
            "Pillow                        7.1.2         \n",
            "pip                           19.3.1        \n",
            "pip-tools                     4.5.1         \n",
            "plac                          1.1.3         \n",
            "plotly                        4.4.1         \n",
            "plotnine                      0.6.0         \n",
            "pluggy                        0.7.1         \n",
            "pooch                         1.3.0         \n",
            "portpicker                    1.3.9         \n",
            "prefetch-generator            1.0.1         \n",
            "preshed                       3.0.5         \n",
            "prettytable                   2.1.0         \n",
            "progressbar2                  3.38.0        \n",
            "prometheus-client             0.10.1        \n",
            "promise                       2.3           \n",
            "prompt-toolkit                1.0.18        \n",
            "protobuf                      3.12.4        \n",
            "psutil                        5.4.8         \n",
            "psycopg2                      2.7.6.1       \n",
            "ptyprocess                    0.7.0         \n",
            "py                            1.10.0        \n",
            "pyarrow                       3.0.0         \n",
            "pyasn1                        0.4.8         \n",
            "pyasn1-modules                0.2.8         \n",
            "pycocotools                   2.0.2         \n",
            "pycparser                     2.20          \n",
            "pyct                          0.4.8         \n",
            "pydata-google-auth            1.2.0         \n",
            "pydot                         1.3.0         \n",
            "pydot-ng                      2.0.0         \n",
            "pydotplus                     2.0.2         \n",
            "PyDrive                       1.3.1         \n",
            "pyemd                         0.5.1         \n",
            "pyerfa                        1.7.3         \n",
            "pyglet                        1.5.0         \n",
            "Pygments                      2.6.1         \n",
            "pygobject                     3.26.1        \n",
            "pymc3                         3.11.2        \n",
            "PyMeeus                       0.5.11        \n",
            "pymongo                       3.11.4        \n",
            "pymystem3                     0.2.0         \n",
            "PyOpenGL                      3.1.5         \n",
            "pyparsing                     2.4.7         \n",
            "pyrsistent                    0.17.3        \n",
            "pysndfile                     1.3.8         \n",
            "PySocks                       1.7.1         \n",
            "pystan                        2.19.1.1      \n",
            "pytest                        3.6.4         \n",
            "python-apt                    0.0.0         \n",
            "python-chess                  0.23.11       \n",
            "python-dateutil               2.8.1         \n",
            "python-louvain                0.15          \n",
            "python-slugify                5.0.2         \n",
            "python-utils                  2.5.6         \n",
            "pytz                          2018.9        \n",
            "pyviz-comms                   2.0.1         \n",
            "PyWavelets                    1.1.1         \n",
            "PyYAML                        3.13          \n",
            "pyzmq                         22.0.3        \n",
            "qdldl                         0.1.5.post0   \n",
            "qtconsole                     5.1.0         \n",
            "QtPy                          1.9.0         \n",
            "regex                         2019.12.20    \n",
            "requests                      2.23.0        \n",
            "requests-oauthlib             1.3.0         \n",
            "resampy                       0.2.2         \n",
            "retrying                      1.3.3         \n",
            "rpy2                          3.4.4         \n",
            "rsa                           4.7.2         \n",
            "scikit-image                  0.16.2        \n",
            "scikit-learn                  0.22.2.post1  \n",
            "scipy                         1.4.1         \n",
            "screen-resolution-extra       0.0.0         \n",
            "scs                           2.1.3         \n",
            "seaborn                       0.11.1        \n",
            "semver                        2.13.0        \n",
            "Send2Trash                    1.5.0         \n",
            "setuptools                    56.1.0        \n",
            "setuptools-git                1.2           \n",
            "Shapely                       1.7.1         \n",
            "simplegeneric                 0.8.1         \n",
            "six                           1.15.0        \n",
            "sklearn                       0.0           \n",
            "sklearn-pandas                1.8.0         \n",
            "smart-open                    5.0.0         \n",
            "snowballstemmer               2.1.0         \n",
            "sortedcontainers              2.3.0         \n",
            "SoundFile                     0.10.3.post1  \n",
            "spacy                         2.2.4         \n",
            "Sphinx                        1.8.5         \n",
            "sphinxcontrib-serializinghtml 1.1.4         \n",
            "sphinxcontrib-websupport      1.2.4         \n",
            "SQLAlchemy                    1.4.15        \n",
            "sqlparse                      0.4.1         \n",
            "srsly                         1.0.5         \n",
            "statsmodels                   0.10.2        \n",
            "sympy                         1.7.1         \n",
            "tables                        3.4.4         \n",
            "tabulate                      0.8.9         \n",
            "tblib                         1.7.0         \n",
            "tensorboard                   2.4.1         \n",
            "tensorboard-plugin-wit        1.8.0         \n",
            "tensorflow                    2.4.1         \n",
            "tensorflow-datasets           4.0.1         \n",
            "tensorflow-estimator          2.4.0         \n",
            "tensorflow-gcs-config         2.4.0         \n",
            "tensorflow-hub                0.12.0        \n",
            "tensorflow-metadata           0.30.0        \n",
            "tensorflow-probability        0.12.1        \n",
            "termcolor                     1.1.0         \n",
            "terminado                     0.9.5         \n",
            "testpath                      0.4.4         \n",
            "text-unidecode                1.3           \n",
            "textblob                      0.15.3        \n",
            "textgenrnn                    1.4.1         \n",
            "Theano-PyMC                   1.1.2         \n",
            "thinc                         7.4.0         \n",
            "tifffile                      2021.4.8      \n",
            "toml                          0.10.2        \n",
            "toolz                         0.11.1        \n",
            "torch                         1.8.1+cu101   \n",
            "torchsummary                  1.5.1         \n",
            "torchtext                     0.9.1         \n",
            "torchvision                   0.9.1+cu101   \n",
            "tornado                       5.1.1         \n",
            "tqdm                          4.41.1        \n",
            "traitlets                     5.0.5         \n",
            "tweepy                        3.10.0        \n",
            "typeguard                     2.7.1         \n",
            "typing-extensions             3.7.4.3       \n",
            "tzlocal                       1.5.1         \n",
            "uritemplate                   3.0.1         \n",
            "urllib3                       1.24.3        \n",
            "vega-datasets                 0.9.0         \n",
            "wasabi                        0.8.2         \n",
            "wcwidth                       0.2.5         \n",
            "webencodings                  0.5.1         \n",
            "Werkzeug                      2.0.0         \n",
            "wheel                         0.36.2        \n",
            "widgetsnbextension            3.5.1         \n",
            "wordcloud                     1.5.0         \n",
            "wrapt                         1.12.1        \n",
            "xarray                        0.18.0        \n",
            "xgboost                       0.90          \n",
            "xkit                          0.0.0         \n",
            "xlrd                          1.1.0         \n",
            "xlwt                          1.3.0         \n",
            "yellowbrick                   0.9.1         \n",
            "zict                          2.0.0         \n",
            "zipp                          3.4.1         \n"
          ],
          "name": "stdout"
        }
      ]
    },
    {
      "cell_type": "code",
      "metadata": {
        "id": "2I91qUrayz94"
      },
      "source": [
        "#머신러닝 모델, 데이터 셋을 저장, 불러오기 이용방법\n",
        "# 외부 모델 저장후 -> 불러오기 \n",
        "# 나의 모델 저장 후 -> 불러오기 \n",
        "# 세션 내에서 학습시킨 모델 이용하기"
      ],
      "execution_count": null,
      "outputs": []
    },
    {
      "cell_type": "markdown",
      "metadata": {
        "id": "qhqL7ZDWMg8K"
      },
      "source": [
        "### 문제 01. 구축한 머신러닝 모델과 데이터 불러오기"
      ]
    },
    {
      "cell_type": "code",
      "metadata": {
        "id": "xolyY2y0Mg8L"
      },
      "source": [
        "import numpy as np  \n",
        "import pandas as pd\n",
        "import matplotlib.pyplot as plt\n",
        "import pickle\n",
        "import gzip\n",
        "%matplotlib inline\n",
        "\n",
        "import warnings\n",
        "warnings.filterwarnings('ignore')"
      ],
      "execution_count": 6,
      "outputs": []
    },
    {
      "cell_type": "code",
      "metadata": {
        "id": "5swcxVajMg8M"
      },
      "source": [
        "# 미리 구축한 머신러닝 모델 다운로드 받기\n",
        "\n",
        "datapath = 'https://github.com/mchoimis/financialML/raw/main/xai/'"
      ],
      "execution_count": 7,
      "outputs": []
    },
    {
      "cell_type": "markdown",
      "metadata": {
        "id": "B-nEB-o69eAU"
      },
      "source": [
        "모델 및 데이터 설명\n",
        "\n",
        "- `data00` : 이진분류용 데이터\n",
        "\n",
        "- `data01` : 다중분류용 데이터 \n",
        "\n",
        "- `logreg` : Logistic Regression Classifier (`00`)\n",
        "\n",
        "- `rfc`    : Random Forest Classifier (`00`, `01`)\n",
        "\n",
        "- `gbc`    : Gradient Boosting Classifier (`00`)\n",
        "\n",
        "- `lgbm`   : LightGBM Classifier (`00`, `01`)"
      ]
    },
    {
      "cell_type": "code",
      "metadata": {
        "id": "zqOsiCXuTs51",
        "colab": {
          "base_uri": "https://localhost:8080/"
        },
        "outputId": "89160c41-ceb4-4d2b-8f27-ec7a36593af4"
      },
      "source": [
        "# 모델 데이터를 업로드할 구글 드라이브와 코랩을 연동하기\n",
        "\n",
        "from google.colab import drive\n",
        "drive.mount('/content/gdrive')\n",
        "\n",
        "## 실행 후 나오는 URL 주소에 가서 로그인을 해주세요.\n",
        "## 로그인을 하셨다면 나오는 페이지에서 허용(Allow)을 눌러주세요.\n",
        "## 생성된 authorization code 복사 후 코랩 창으로 돌아와 붙여넣으세요.\n",
        "## Mounted at /content/gdrive (혹은 지정한 폴더 위치) 라는 메시지가 뜨면 마운트가 완료된 것입니다. 다음으로 넘어가주세요."
      ],
      "execution_count": 8,
      "outputs": [
        {
          "output_type": "stream",
          "text": [
            "Mounted at /content/gdrive\n"
          ],
          "name": "stdout"
        }
      ]
    },
    {
      "cell_type": "code",
      "metadata": {
        "id": "NP87SsBv0x5N"
      },
      "source": [
        "! mkdir financialml #폴더 만들기 "
      ],
      "execution_count": 9,
      "outputs": []
    },
    {
      "cell_type": "code",
      "metadata": {
        "colab": {
          "base_uri": "https://localhost:8080/"
        },
        "id": "VscVajnu025n",
        "outputId": "1a37ec34-d965-4060-8482-ce392e71714b"
      },
      "source": [
        "! pwd #현재 디렉토리 "
      ],
      "execution_count": 10,
      "outputs": [
        {
          "output_type": "stream",
          "text": [
            "/content\n"
          ],
          "name": "stdout"
        }
      ]
    },
    {
      "cell_type": "code",
      "metadata": {
        "id": "00TLjdD7qqEK"
      },
      "source": [
        "# 모델 데이터를 구글 드라이브에 업로드하기\n"
      ],
      "execution_count": null,
      "outputs": []
    },
    {
      "cell_type": "code",
      "metadata": {
        "id": "zLcNW89CMg8N"
      },
      "source": [
        "# 업로드한 데이터와 모델 불러오기\n",
        "\n",
        "modelpath = '/content/financialml/'\n",
        "with gzip.open(modelpath + 'data00.pickle','rb') as f:\n",
        "    data00 =  pickle.load(f)\n",
        "with gzip.open(modelpath + 'data00_X_train.pickle','rb') as f:\n",
        "    X_train = pickle.load(f)\n",
        "with gzip.open(modelpath + 'data00_X_test.pickle','rb') as f:\n",
        "    X_test =  pickle.load(f)    \n",
        "with gzip.open(modelpath + 'data00_y_train.pickle','rb') as f:\n",
        "    y_train = pickle.load(f)    \n",
        "with gzip.open(modelpath + 'data00_y_test.pickle','rb') as f:\n",
        "    y_test =  pickle.load(f) "
      ],
      "execution_count": 11,
      "outputs": []
    },
    {
      "cell_type": "markdown",
      "metadata": {
        "id": "ESlIfXjcMg8N"
      },
      "source": [
        "### 문제 02. 로지스틱 모델 회귀계수 해석하기"
      ]
    },
    {
      "cell_type": "code",
      "metadata": {
        "id": "hjrxD7nYMg8N"
      },
      "source": [
        "# Logistic Regression 이진분류 모델 불러오기\n",
        "with open(modelpath + 'logreg00.pkl', 'rb') as file:\n",
        "    logreg =  pickle.load(file)"
      ],
      "execution_count": 12,
      "outputs": []
    },
    {
      "cell_type": "code",
      "metadata": {
        "id": "rKqbCkpwMg8O",
        "colab": {
          "base_uri": "https://localhost:8080/"
        },
        "outputId": "0b2271e5-3fee-4176-bb2b-997f9e137789"
      },
      "source": [
        "# X_test 의 컬럼명 확인하기\n",
        "\n",
        "X_test.columns\n"
      ],
      "execution_count": 13,
      "outputs": [
        {
          "output_type": "execute_result",
          "data": {
            "text/plain": [
              "Index(['age', 'workclass', 'education.num', 'marital.status', 'occupation',\n",
              "       'relationship', 'race', 'sex', 'capital.gain', 'capital.loss',\n",
              "       'hours.per.week', 'native.country'],\n",
              "      dtype='object')"
            ]
          },
          "metadata": {
            "tags": []
          },
          "execution_count": 13
        }
      ]
    },
    {
      "cell_type": "code",
      "metadata": {
        "id": "tR8iqnc44RoI",
        "colab": {
          "base_uri": "https://localhost:8080/"
        },
        "outputId": "86fc6771-e507-4644-865b-54d0cc6da266"
      },
      "source": [
        "# Logistic Regression 이진분류 모델의 회귀계수 확인하기\n",
        "logreg.coef_"
      ],
      "execution_count": 14,
      "outputs": [
        {
          "output_type": "execute_result",
          "data": {
            "text/plain": [
              "array([[ 0.45435118, -0.08929983,  0.88011855, -0.37428934, -0.01347698,\n",
              "        -0.19718355,  0.08082303,  0.43380857,  2.34127172,  0.27435968,\n",
              "         0.37244795,  0.01498249]])"
            ]
          },
          "metadata": {
            "tags": []
          },
          "execution_count": 14
        }
      ]
    },
    {
      "cell_type": "code",
      "metadata": {
        "id": "BtUnCeM8Mg8O",
        "colab": {
          "base_uri": "https://localhost:8080/"
        },
        "outputId": "71902065-49cb-4411-a51d-e443d378f0ba"
      },
      "source": [
        "# 데이터 형태 바꾸기\n",
        "\n",
        "coef = sum(logreg.coef_)\n",
        "coef"
      ],
      "execution_count": 15,
      "outputs": [
        {
          "output_type": "execute_result",
          "data": {
            "text/plain": [
              "array([ 0.45435118, -0.08929983,  0.88011855, -0.37428934, -0.01347698,\n",
              "       -0.19718355,  0.08082303,  0.43380857,  2.34127172,  0.27435968,\n",
              "        0.37244795,  0.01498249])"
            ]
          },
          "metadata": {
            "tags": []
          },
          "execution_count": 15
        }
      ]
    },
    {
      "cell_type": "code",
      "metadata": {
        "id": "sKei8cZTMg8P",
        "colab": {
          "base_uri": "https://localhost:8080/",
          "height": 535
        },
        "outputId": "0b06e081-3a48-4009-c7d1-667bab8fccdb"
      },
      "source": [
        "# Logistic Regression 이진분류 모델의 회귀계수 시각화 하기\n",
        "\n",
        "indices =  np.argsort(coef)               # 회귀계수 크기 순으로 정렬\n",
        "\n",
        "plt.figure(figsize=(12, 8))\n",
        "plt.barh(X_test.columns, coef[indices], .35, color='orange', align='center')\n",
        "plt.yticks(X_test.columns, X_test.columns[indices], fontsize=12)\n",
        "plt.xlabel('Coefficients (beta)', fontsize=12)\n",
        "plt.title('Feature Importances - Logistic Regression Coefficients\\n', fontsize=15)\n",
        "plt.show()"
      ],
      "execution_count": 16,
      "outputs": [
        {
          "output_type": "display_data",
          "data": {
            "image/png": "[encoded data removed]",
            "text/plain": [
              "<Figure size 864x576 with 1 Axes>"
            ]
          },
          "metadata": {
            "tags": [],
            "needs_background": "light"
          }
        }
      ]
    },
    {
      "cell_type": "code",
      "metadata": {
        "id": "BMy3xMUf3oqj"
      },
      "source": [
        "nominal variable(순서 무)\n",
        "ordinal varialbe(순서 유)"
      ],
      "execution_count": null,
      "outputs": []
    },
    {
      "cell_type": "markdown",
      "metadata": {
        "id": "6oITDSNAMg8G"
      },
      "source": [
        "### 머신러닝 모델에서 변수의 영향력을 계산하는 방법\n",
        "\n",
        "- 1) <b>회귀 모델의 회귀계수(Coefficients) </b>\n",
        "    - X(피처)의 변량에 따라 y(타겟)의 변량이 어느 정도로 변하는지 수치화한 값\n",
        "    - 변수 영향력의 방향(긍정, 부정)을 알 수 있다는 장점\n",
        "    - 단점: 변수 스케일의 영향을 받기 때문에 스케일링 작업이 중요\n",
        "    - scikit-learn의 `coef_` 메서드 사용\n",
        "\n",
        "\n",
        "- 2) <b>트리 기반 모델의 MDI(Mean Decrease Impurity) 기반 중요도 </b>\n",
        "    - 해당 피처가 모델에 적용될 때 전체적으로 분류 결과의 불순도(impurity)를 얼마나 감소시키는지를 측정\n",
        "    - 불순도(impurity)의 측정 방법은 주로 entropy 혹은 Gini impurity로 계산\n",
        "    - 피처가 모델이 분류를 잘 하는데 중요하게 작용할 수록 값이 커지게 됨\n",
        "    - scikit-learn의 `feature_importances_` 메서드 사용\n",
        "\n",
        "\n",
        "- 3) <b>치환(Permutation) 기반 중요도 </b>\n",
        "    - 특정 피처의 값을 임의의 값으로 치환했을 떄 원래 데이터보다 예측 에러가 얼마나 더 커지는가를 측정 \n",
        "    - 장점: 해석이 직관적이며, 계산에 시간이 오래 걸리지 않음\n",
        "    - 단점: 변수간 상호의존성 때문에 특정 피처의 영향력을 과대 혹은 과소추정할 수 있음\n",
        "    - scikit-learn의 `permutation_importance` 메서드 사용\n",
        "    - eli5의 `PermutationImportance` 메서드 사용\n",
        "\n",
        "\n",
        "- 4) <b>LGBM 모델의 분기 기반 중요도</b>\n",
        "    - 기본값으로는 각 피처에서 결정을 내리기까지 분기(split)한 횟수를 나타냄\n",
        "    - 파라미터 설정을 바꾸면 분기에서 얻어낸 정보 이득(gain)의 총합을 나타낼 수 있음\n",
        "    - scikit-learn의 `feature_importances_` 메서드 사용\n",
        "    - light gbm의 `plot_importance` 메서드 사용 \n",
        "\n",
        "\n",
        "- 5) <b>XAI 커뮤니티에서 제안하는 게임이론 기반 Shapely 값</b>\n",
        "    - 치환 피처 중요도(Permutation Importance)와 비슷하게 임의의 값으로 치환했을 때의 pay-off를 측정\n",
        "    - 장점: 변수간 상호의존성에 영향을 받지 않으며, 계산시마다 값이 달라지지 않음, 변수 영향력의 방향(긍정, 부정)을 알 수 있음\n",
        "    - 단점: 학습결과가 아니라 원 데이터에서 결정되기 때문에 아웃라이어에 약할 수 있음, 계산이 오래 걸림\n",
        "    - shap의 `shap_values` 메서드 사용\n",
        "\n",
        "각 방법론은 장단점이 뚜렷하고 계산방식이 다르므로 머신러닝 모델 해석시 상황에 맞게 적용하는 것이 중요합니다.\n",
        "\n",
        "실제적인 응용은 문제를 풀면서 설명드리겠습니다."
      ]
    },
    {
      "cell_type": "code",
      "metadata": {
        "id": "NFnN5kXc_IxX"
      },
      "source": [
        "# X --> y == 10 (deterministic VS stochastic 확률적)\n",
        "# X1, X2, X3 ... "
      ],
      "execution_count": null,
      "outputs": []
    },
    {
      "cell_type": "markdown",
      "metadata": {
        "id": "WLAc8HNTMg8P"
      },
      "source": [
        "### 문제 03. Random Forest 이진분류 피처 중요도 분석하기"
      ]
    },
    {
      "cell_type": "code",
      "metadata": {
        "id": "7-PJcwJx-UDr"
      },
      "source": [
        "# light gbm <- boosting <- sequential learning weak learners \n",
        "# 연속변수  --> 연속변수(이상적인 feature importance 유사할 수 있음)\n",
        "# 연속변수 --> 범주변수, 범주변수 -->연속변수, 범주변수-->범주변수 (다양한 가능성) "
      ],
      "execution_count": null,
      "outputs": []
    },
    {
      "cell_type": "code",
      "metadata": {
        "id": "_H_peHDIMg8Q"
      },
      "source": [
        "# 학습에 사용할 데이터를 로드하고 압축 풀기\n",
        "with gzip.open(modelpath + 'data00_X_train.pickle','rb') as f:\n",
        "    X_train = pickle.load(f)\n",
        "with gzip.open(modelpath + 'data00_X_test.pickle','rb') as f:\n",
        "    X_test = pickle.load(f)    "
      ],
      "execution_count": null,
      "outputs": []
    },
    {
      "cell_type": "code",
      "metadata": {
        "id": "1d8O70UsAfBA"
      },
      "source": [
        "# Random Forest Classifier를 이용하여 모델 fitting 하기 \n",
        "\n",
        "from sklearn.ensemble import RandomForestClassifier\n",
        "from sklearn.metrics import accuracy_score\n",
        "\n",
        "rfc =   RandomForestClassifier(random_state= 42).fit(X_train, y_train)            "
      ],
      "execution_count": 17,
      "outputs": []
    },
    {
      "cell_type": "code",
      "metadata": {
        "id": "orfmpHfpAf-2"
      },
      "source": [
        "# 모델 저장하기\n",
        "\n",
        "pickle.dump(rfc, open(modelpath + 'rfc00.pkl', 'wb'))"
      ],
      "execution_count": 18,
      "outputs": []
    },
    {
      "cell_type": "code",
      "metadata": {
        "id": "2uHD4GHkAhRB"
      },
      "source": [
        "# 모델 불러오기\n",
        "with open(modelpath + 'rfc00.pkl', 'rb') as file:\n",
        "    rfc = pickle.load(file)"
      ],
      "execution_count": 19,
      "outputs": []
    },
    {
      "cell_type": "code",
      "metadata": {
        "id": "QIfzZn54Mg8Q",
        "colab": {
          "base_uri": "https://localhost:8080/"
        },
        "outputId": "9065e0a7-1573-4301-b1a4-09b9635771ff"
      },
      "source": [
        "# Random Forest 이진분류 모델의 피처 중요도 확인하기\n",
        "\n",
        "importances = rfc.feature_importances_  \n",
        "importances"
      ],
      "execution_count": 20,
      "outputs": [
        {
          "output_type": "execute_result",
          "data": {
            "text/plain": [
              "array([0.2120391 , 0.04862643, 0.14503283, 0.05946474, 0.08394042,\n",
              "       0.12762821, 0.01853742, 0.01328217, 0.12340054, 0.0394054 ,\n",
              "       0.10993623, 0.0187065 ])"
            ]
          },
          "metadata": {
            "tags": []
          },
          "execution_count": 20
        }
      ]
    },
    {
      "cell_type": "code",
      "metadata": {
        "id": "U8AZvIabMg8Q",
        "colab": {
          "base_uri": "https://localhost:8080/",
          "height": 535
        },
        "outputId": "f1defec1-7485-44db-f096-467a8b12f6b3"
      },
      "source": [
        "# Random Forest 이진분류 모델의 피처 중요도 시각화 하기\n",
        "\n",
        "indices = np.argsort(importances)                  # 중요도 크기 순으로 정렬\n",
        "\n",
        "plt.figure(figsize=(10, 8))\n",
        "\n",
        "plt.barh(X_test.columns, importances[indices], .35, color='purple', align='center')\n",
        "plt.yticks(X_test.columns, X_test.columns[indices], fontsize=12)\n",
        "\n",
        "plt.xlabel('Relative Importance (MDI)', fontsize=12)\n",
        "plt.title('Feature Importances -- Random Forest Classifier (binary)\\n', fontsize=15)\n",
        "plt.show()"
      ],
      "execution_count": 21,
      "outputs": [
        {
          "output_type": "display_data",
          "data": {
            "image/png": "[encoded data removed]",
            "text/plain": [
              "<Figure size 720x576 with 1 Axes>"
            ]
          },
          "metadata": {
            "tags": [],
            "needs_background": "light"
          }
        }
      ]
    },
    {
      "cell_type": "markdown",
      "metadata": {
        "id": "LNaeUgg-Mg8R"
      },
      "source": [
        "### 참고: Eli5를 이용하여 Permutation Importance 구하기"
      ]
    },
    {
      "cell_type": "markdown",
      "metadata": {
        "id": "96kLTgRFMg8R"
      },
      "source": [
        "각 Feature별로 Shuffling을 하였을 때 Model의 Accuracy를 기준으로 반복하면서 발생한  데이터의 변동까지 표기 후 내림차순으로 정리한 결과값"
      ]
    },
    {
      "cell_type": "markdown",
      "metadata": {
        "id": "x0Nkc96XMg8R"
      },
      "source": [
        "### 문제 04. Random Forest 모델의 Permutation Importance 구하기"
      ]
    },
    {
      "cell_type": "code",
      "metadata": {
        "id": "XYlOSr1GMg8S",
        "colab": {
          "base_uri": "https://localhost:8080/"
        },
        "outputId": "907d636a-4150-4c1c-e071-f0675891d0a4"
      },
      "source": [
        "# Eli5를 이용하여 Random Forest 모델의 Permutation Importance 구하기\n",
        "## (먼저 패키지를 설치해주세요)\n",
        "\n",
        "import eli5\n",
        "\n",
        "from eli5.sklearn import PermutationImportance\n",
        "\n",
        "imp = PermutationImportance(rfc, random_state=1).fit(X_test, y_test)\n",
        "imp"
      ],
      "execution_count": 23,
      "outputs": [
        {
          "output_type": "execute_result",
          "data": {
            "text/plain": [
              "PermutationImportance(cv='prefit',\n",
              "                      estimator=RandomForestClassifier(bootstrap=True,\n",
              "                                                       ccp_alpha=0.0,\n",
              "                                                       class_weight=None,\n",
              "                                                       criterion='gini',\n",
              "                                                       max_depth=None,\n",
              "                                                       max_features='auto',\n",
              "                                                       max_leaf_nodes=None,\n",
              "                                                       max_samples=None,\n",
              "                                                       min_impurity_decrease=0.0,\n",
              "                                                       min_impurity_split=None,\n",
              "                                                       min_samples_leaf=1,\n",
              "                                                       min_samples_split=2,\n",
              "                                                       min_weight_fraction_leaf=0.0,\n",
              "                                                       n_estimators=100,\n",
              "                                                       n_jobs=None,\n",
              "                                                       oob_score=False,\n",
              "                                                       random_state=42,\n",
              "                                                       verbose=0,\n",
              "                                                       warm_start=False),\n",
              "                      n_iter=5, random_state=1, refit=True, scoring=None)"
            ]
          },
          "metadata": {
            "tags": []
          },
          "execution_count": 23
        }
      ]
    },
    {
      "cell_type": "code",
      "metadata": {
        "id": "-YxBCyvEMg8S",
        "colab": {
          "base_uri": "https://localhost:8080/",
          "height": 238
        },
        "outputId": "28921d4c-330c-41b1-9361-44bf5bce16e2"
      },
      "source": [
        "# 피처 중요도 순서대로 확인하기\n",
        "\n",
        "eli5.show_weights(imp, feature_names = X_test.columns.tolist()) #MDI값과 다르다. "
      ],
      "execution_count": 25,
      "outputs": [
        {
          "output_type": "execute_result",
          "data": {
            "text/html": [
              "\n",
              "    <style>\n",
              "    table.eli5-weights tr:hover {\n",
              "        filter: brightness(85%);\n",
              "    }\n",
              "</style>\n",
              "\n",
              "\n",
              "\n",
              "    \n",
              "\n",
              "    \n",
              "\n",
              "    \n",
              "\n",
              "    \n",
              "\n",
              "    \n",
              "\n",
              "    \n",
              "\n",
              "\n",
              "    \n",
              "\n",
              "    \n",
              "\n",
              "    \n",
              "\n",
              "    \n",
              "\n",
              "    \n",
              "\n",
              "    \n",
              "\n",
              "\n",
              "    \n",
              "\n",
              "    \n",
              "\n",
              "    \n",
              "\n",
              "    \n",
              "\n",
              "    \n",
              "        <table class=\"eli5-weights eli5-feature-importances\" style=\"border-collapse: collapse; border: none; margin-top: 0em; table-layout: auto;\">\n",
              "    <thead>\n",
              "    <tr style=\"border: none;\">\n",
              "        <th style=\"padding: 0 1em 0 0.5em; text-align: right; border: none;\">Weight</th>\n",
              "        <th style=\"padding: 0 0.5em 0 0.5em; text-align: left; border: none;\">Feature</th>\n",
              "    </tr>\n",
              "    </thead>\n",
              "    <tbody>\n",
              "    \n",
              "        <tr style=\"background-color: hsl(120, 100.00%, 80.00%); border: none;\">\n",
              "            <td style=\"padding: 0 1em 0 0.5em; text-align: right; border: none;\">\n",
              "                0.0455\n",
              "                \n",
              "                    &plusmn; 0.0031\n",
              "                \n",
              "            </td>\n",
              "            <td style=\"padding: 0 0.5em 0 0.5em; text-align: left; border: none;\">\n",
              "                capital.gain\n",
              "            </td>\n",
              "        </tr>\n",
              "    \n",
              "        <tr style=\"background-color: hsl(120, 100.00%, 85.79%); border: none;\">\n",
              "            <td style=\"padding: 0 1em 0 0.5em; text-align: right; border: none;\">\n",
              "                0.0279\n",
              "                \n",
              "                    &plusmn; 0.0072\n",
              "                \n",
              "            </td>\n",
              "            <td style=\"padding: 0 0.5em 0 0.5em; text-align: left; border: none;\">\n",
              "                relationship\n",
              "            </td>\n",
              "        </tr>\n",
              "    \n",
              "        <tr style=\"background-color: hsl(120, 100.00%, 87.31%); border: none;\">\n",
              "            <td style=\"padding: 0 1em 0 0.5em; text-align: right; border: none;\">\n",
              "                0.0238\n",
              "                \n",
              "                    &plusmn; 0.0020\n",
              "                \n",
              "            </td>\n",
              "            <td style=\"padding: 0 0.5em 0 0.5em; text-align: left; border: none;\">\n",
              "                education.num\n",
              "            </td>\n",
              "        </tr>\n",
              "    \n",
              "        <tr style=\"background-color: hsl(120, 100.00%, 92.11%); border: none;\">\n",
              "            <td style=\"padding: 0 1em 0 0.5em; text-align: right; border: none;\">\n",
              "                0.0121\n",
              "                \n",
              "                    &plusmn; 0.0062\n",
              "                \n",
              "            </td>\n",
              "            <td style=\"padding: 0 0.5em 0 0.5em; text-align: left; border: none;\">\n",
              "                age\n",
              "            </td>\n",
              "        </tr>\n",
              "    \n",
              "        <tr style=\"background-color: hsl(120, 100.00%, 92.88%); border: none;\">\n",
              "            <td style=\"padding: 0 1em 0 0.5em; text-align: right; border: none;\">\n",
              "                0.0104\n",
              "                \n",
              "                    &plusmn; 0.0018\n",
              "                \n",
              "            </td>\n",
              "            <td style=\"padding: 0 0.5em 0 0.5em; text-align: left; border: none;\">\n",
              "                capital.loss\n",
              "            </td>\n",
              "        </tr>\n",
              "    \n",
              "        <tr style=\"background-color: hsl(120, 100.00%, 92.93%); border: none;\">\n",
              "            <td style=\"padding: 0 1em 0 0.5em; text-align: right; border: none;\">\n",
              "                0.0103\n",
              "                \n",
              "                    &plusmn; 0.0051\n",
              "                \n",
              "            </td>\n",
              "            <td style=\"padding: 0 0.5em 0 0.5em; text-align: left; border: none;\">\n",
              "                occupation\n",
              "            </td>\n",
              "        </tr>\n",
              "    \n",
              "        <tr style=\"background-color: hsl(120, 100.00%, 95.98%); border: none;\">\n",
              "            <td style=\"padding: 0 1em 0 0.5em; text-align: right; border: none;\">\n",
              "                0.0046\n",
              "                \n",
              "                    &plusmn; 0.0017\n",
              "                \n",
              "            </td>\n",
              "            <td style=\"padding: 0 0.5em 0 0.5em; text-align: left; border: none;\">\n",
              "                workclass\n",
              "            </td>\n",
              "        </tr>\n",
              "    \n",
              "        <tr style=\"background-color: hsl(120, 100.00%, 96.13%); border: none;\">\n",
              "            <td style=\"padding: 0 1em 0 0.5em; text-align: right; border: none;\">\n",
              "                0.0044\n",
              "                \n",
              "                    &plusmn; 0.0047\n",
              "                \n",
              "            </td>\n",
              "            <td style=\"padding: 0 0.5em 0 0.5em; text-align: left; border: none;\">\n",
              "                hours.per.week\n",
              "            </td>\n",
              "        </tr>\n",
              "    \n",
              "        <tr style=\"background-color: hsl(120, 100.00%, 98.08%); border: none;\">\n",
              "            <td style=\"padding: 0 1em 0 0.5em; text-align: right; border: none;\">\n",
              "                0.0016\n",
              "                \n",
              "                    &plusmn; 0.0022\n",
              "                \n",
              "            </td>\n",
              "            <td style=\"padding: 0 0.5em 0 0.5em; text-align: left; border: none;\">\n",
              "                marital.status\n",
              "            </td>\n",
              "        </tr>\n",
              "    \n",
              "        <tr style=\"background-color: hsl(120, 100.00%, 98.93%); border: none;\">\n",
              "            <td style=\"padding: 0 1em 0 0.5em; text-align: right; border: none;\">\n",
              "                0.0007\n",
              "                \n",
              "                    &plusmn; 0.0018\n",
              "                \n",
              "            </td>\n",
              "            <td style=\"padding: 0 0.5em 0 0.5em; text-align: left; border: none;\">\n",
              "                sex\n",
              "            </td>\n",
              "        </tr>\n",
              "    \n",
              "        <tr style=\"background-color: hsl(120, 100.00%, 99.58%); border: none;\">\n",
              "            <td style=\"padding: 0 1em 0 0.5em; text-align: right; border: none;\">\n",
              "                0.0002\n",
              "                \n",
              "                    &plusmn; 0.0011\n",
              "                \n",
              "            </td>\n",
              "            <td style=\"padding: 0 0.5em 0 0.5em; text-align: left; border: none;\">\n",
              "                race\n",
              "            </td>\n",
              "        </tr>\n",
              "    \n",
              "        <tr style=\"background-color: hsl(0, 100.00%, 99.51%); border: none;\">\n",
              "            <td style=\"padding: 0 1em 0 0.5em; text-align: right; border: none;\">\n",
              "                -0.0002\n",
              "                \n",
              "                    &plusmn; 0.0015\n",
              "                \n",
              "            </td>\n",
              "            <td style=\"padding: 0 0.5em 0 0.5em; text-align: left; border: none;\">\n",
              "                native.country\n",
              "            </td>\n",
              "        </tr>\n",
              "    \n",
              "    \n",
              "    </tbody>\n",
              "</table>\n",
              "    \n",
              "\n",
              "    \n",
              "\n",
              "\n",
              "    \n",
              "\n",
              "    \n",
              "\n",
              "    \n",
              "\n",
              "    \n",
              "\n",
              "    \n",
              "\n",
              "    \n",
              "\n",
              "\n",
              "\n"
            ],
            "text/plain": [
              "<IPython.core.display.HTML object>"
            ]
          },
          "metadata": {
            "tags": []
          },
          "execution_count": 25
        }
      ]
    },
    {
      "cell_type": "code",
      "metadata": {
        "scrolled": false,
        "id": "Hey5ohREMg8T",
        "colab": {
          "base_uri": "https://localhost:8080/"
        },
        "outputId": "3958a4c5-9d78-4b93-ec81-8fe6f069da4e"
      },
      "source": [
        "# 피처 중요도를 리스트로 뽑아내기\n",
        "\n",
        "print(eli5.format_as_text(eli5.explain_weights(imp, feature_names= X_test.columns.tolist() )) )"
      ],
      "execution_count": 26,
      "outputs": [
        {
          "output_type": "stream",
          "text": [
            "Explained as: feature importances\n",
            "\n",
            "Feature importances, computed as a decrease in score when feature\n",
            "values are permuted (i.e. become noise). This is also known as \n",
            "permutation importance.\n",
            "\n",
            "If feature importances are computed on the same data as used for training, \n",
            "they don't reflect importance of features for generalization. Use a held-out\n",
            "dataset if you want generalization feature importances.\n",
            "\n",
            "0.0455 ± 0.0031  capital.gain\n",
            "0.0279 ± 0.0072  relationship\n",
            "0.0238 ± 0.0020  education.num\n",
            "0.0121 ± 0.0062  age\n",
            "0.0104 ± 0.0018  capital.loss\n",
            "0.0103 ± 0.0051  occupation\n",
            "0.0046 ± 0.0017  workclass\n",
            "0.0044 ± 0.0047  hours.per.week\n",
            "0.0016 ± 0.0022  marital.status\n",
            "0.0007 ± 0.0018  sex\n",
            "0.0002 ± 0.0011  race\n",
            "-0.0002 ± 0.0015  native.country\n"
          ],
          "name": "stdout"
        }
      ]
    },
    {
      "cell_type": "markdown",
      "metadata": {
        "id": "mFd4yhp-Mg8T"
      },
      "source": [
        "### 문제 05. Gradient Boosting 이진분류 피처 중요도 분석하기"
      ]
    },
    {
      "cell_type": "code",
      "metadata": {
        "id": "_0DqpyBWMg8T"
      },
      "source": [
        "# Gradient Boosting 이진분류 모델 불러오기\n",
        "\n",
        "with open(modelpath + 'gbc00.pkl', 'rb') as file:\n",
        "    gbc =  "
      ],
      "execution_count": null,
      "outputs": []
    },
    {
      "cell_type": "code",
      "metadata": {
        "id": "qAwfRdFuMg8U"
      },
      "source": [
        "# Gradient Boosting 이진분류 모델의 피처 중요도 확인하기\n",
        "\n",
        "importances =  \n",
        "importances  ###"
      ],
      "execution_count": null,
      "outputs": []
    },
    {
      "cell_type": "code",
      "metadata": {
        "id": "4Aq3dvZ8Mg8U"
      },
      "source": [
        "# Gradient Boosting 이진분류 모델의 피처 중요도 시각화 하기\n",
        "\n",
        "indices =                         # 중요도 크기 순으로 정렬\n",
        "\n",
        "plt.figure(figsize=(10, 8))\n",
        "\n",
        "plt.barh(X_test.columns, importances[indices], .35, color='lightgreen', align='center')\n",
        "plt.yticks(X_test.columns, X_test.columns[indices], fontsize=12)\n",
        "\n",
        "plt.xlabel('Relative Importance (MDI)', fontsize=12)\n",
        "plt.title('Feature Importances -- Gradient Boosting Classifier (binary)\\n', fontsize=15)\n",
        "plt.show()"
      ],
      "execution_count": null,
      "outputs": []
    },
    {
      "cell_type": "markdown",
      "metadata": {
        "id": "ZkelPSM5Mg8U"
      },
      "source": [
        "### 문제 06. LightGBM 이진분류 피처 중요도 분석하기"
      ]
    },
    {
      "cell_type": "code",
      "metadata": {
        "id": "OLgzIss-Mg8V"
      },
      "source": [
        "# LightGBM 이진분류 모델 불러오기\n",
        "\n",
        "with open(modelpath + 'lgbm00.pkl', 'rb') as file:\n",
        "    lgbm =  "
      ],
      "execution_count": null,
      "outputs": []
    },
    {
      "cell_type": "code",
      "metadata": {
        "id": "HzeZ1UGFMg8V"
      },
      "source": [
        "# LightGBM 이진분류 모델의 피처 중요도 확인하기\n",
        "\n",
        "importances =  \n",
        "importances  ###"
      ],
      "execution_count": null,
      "outputs": []
    },
    {
      "cell_type": "code",
      "metadata": {
        "scrolled": false,
        "id": "ozMWXlw2Mg8V"
      },
      "source": [
        "# LightGBM 이진분류 모델의 피처 중요도 시각화 하기\n",
        "\n",
        "indices =                     # 중요도 크기 순으로 정렬\n",
        "\n",
        "plt.figure(figsize=(10, 8))\n",
        "\n",
        "plt.barh(X_test.columns, importances[indices], .35, color='lightblue', align='center')\n",
        "plt.yticks(X_test.columns, X_test.columns[indices], fontsize=12)\n",
        "\n",
        "plt.xlabel('Feature Importance (# of splits)', fontsize=12)\n",
        "plt.title('Feature Importances -- LGBM Classifier (binary)\\n', fontsize=15)\n",
        "plt.show()"
      ],
      "execution_count": null,
      "outputs": []
    },
    {
      "cell_type": "markdown",
      "metadata": {
        "id": "GAtvD4feMg8W"
      },
      "source": [
        "### 문제 07. 요약: 소득 예측 이진분류 모델 피처 중요도 비교"
      ]
    },
    {
      "cell_type": "code",
      "metadata": {
        "id": "bKHRisblMg8W"
      },
      "source": [
        "# subplot을 이용하여 4개 이진분류 모델(logreg, gbc, rfc, lgbm)의 회귀계수 및 피처 중요도 시각화 비교하기\n",
        "\n",
        "plt.figure(figsize=(18, 15))\n",
        "\n",
        "plt.subplot( ) \n",
        "\n",
        "indices_logreg =    ###\n",
        "plt.title('Logistic Regression Coefficients')\n",
        "plt.barh(X_test.columns, coef[indices_logreg], .25, color='orange')\n",
        "plt.yticks(X_test.columns, X_test.columns[indices_logreg])\n",
        "plt.xlabel('Coefficients (beta)')\n",
        "\n",
        "plt.subplot( )\n",
        "importances_rfc =   ###\n",
        "indices_rfc =   ###\n",
        "plt.title('Feature Importances -- Random Forest Classifier (binary)')\n",
        "plt.barh(X_test.columns, importances_rfc[indices_rfc], .25, color='purple')\n",
        "plt.yticks(X_test.columns, X_test.columns[indices_rfc])\n",
        "plt.xlabel('Relative Importance (MDI)')\n",
        "\n",
        "plt.subplot( )\n",
        "importances_gbc =   ###\n",
        "indices_gbc =    ###\n",
        "plt.title('Feature Importances -- Gradient Boosting Classifier (binary)')\n",
        "plt.barh(X_test.columns, importances_gbc[indices_gbc], .25, color='lightgreen')\n",
        "plt.yticks(X_test.columns, X_test.columns[indices_gbc])\n",
        "plt.xlabel('Relative Importance (MDI)')\n",
        "\n",
        "plt.subplot( )\n",
        "importances_lgbm =   ###\n",
        "indices_lgbm =   ###\n",
        "plt.title('Feature Importances -- LGBM Classifier (binary)')\n",
        "plt.barh(X_test.columns, importances_lgbm[indices_lgbm], .25, color='lightblue')\n",
        "plt.yticks(X_test.columns, X_test.columns[indices_lgbm])\n",
        "plt.xlabel('Feature Importance (# of splits)')\n",
        "\n",
        "plt.show()"
      ],
      "execution_count": null,
      "outputs": []
    },
    {
      "cell_type": "markdown",
      "metadata": {
        "id": "xQFWdtfAMg8X"
      },
      "source": [
        "### 참고: 기법별로 설명이 상충될 때 모델 해석방법\n",
        "\n",
        "피처 중요도의 순서가 꼭 의사결정 트리의 순서를 결정하는 것은 아닙니다.\n",
        "\n",
        "트리는 노드의 선정과 분기 기준이 정보 이득(information gain)이 큰 방향이고, 피처 중요도는 모델의 분류 에러가 큰 순서로 정렬되기 때문입니다.\n",
        "\n",
        "각 모델별, 피처별로 결과에 왜 차이가 났는지 생각해봅시다. 그리고 다중분류 모델과 비교해봅시다."
      ]
    },
    {
      "cell_type": "markdown",
      "metadata": {
        "id": "GIJnp2oyMg8Y"
      },
      "source": [
        "### 문제 08. 다중분류 Random Forest 피처 중요도 분석하기"
      ]
    },
    {
      "cell_type": "code",
      "metadata": {
        "id": "WACLoahgMg8Y"
      },
      "source": [
        "# 원본 데이터 불러오기\n",
        "\n",
        "with gzip.open(modelpath + 'data01.pickle','rb') as f:\n",
        "    data01 =  \n",
        "with gzip.open(modelpath + 'data01_X.pickle','rb') as f:\n",
        "    x =  \n",
        "with gzip.open(modelpath + 'data01_y.pickle','rb') as f:\n",
        "    y =  "
      ],
      "execution_count": null,
      "outputs": []
    },
    {
      "cell_type": "code",
      "metadata": {
        "id": "Yeqt2OvFMg8Y"
      },
      "source": [
        "# 분석에 사용할 데이터 불러오기\n",
        "with gzip.open(modelpath + 'data01_X_train.pickle','rb') as f:\n",
        "    x_train =  \n",
        "with gzip.open(modelpath + 'data01_X_test.pickle','rb') as f:\n",
        "    x_test = \n",
        "with gzip.open(modelpath + 'data01_y_train.pickle','rb') as f:\n",
        "    y_train01 =      ##\n",
        "with gzip.open(modelpath + 'data01_y_test.pickle','rb') as f:\n",
        "    y_test01 =     ##"
      ],
      "execution_count": null,
      "outputs": []
    },
    {
      "cell_type": "code",
      "metadata": {
        "id": "8RpHunTCCtXt"
      },
      "source": [
        "# 모델을 선언하고 fitting 하기\n",
        "\n",
        "rfc1 =  "
      ],
      "execution_count": null,
      "outputs": []
    },
    {
      "cell_type": "code",
      "metadata": {
        "id": "75TmioSTMg8Z"
      },
      "source": [
        "# x_test의 컬럼명 확인하기\n"
      ],
      "execution_count": null,
      "outputs": []
    },
    {
      "cell_type": "code",
      "metadata": {
        "id": "hvAentaNtgjP"
      },
      "source": [
        "# Random Forest 다중분류 모델의 피처 중요도 확인하기\n",
        "importances =  \n",
        "importances"
      ],
      "execution_count": null,
      "outputs": []
    },
    {
      "cell_type": "code",
      "metadata": {
        "id": "bMHlfMW3Mg8Z"
      },
      "source": [
        "# Random Forest 다중분류 모델의 피처 중요도 시각화 하기\n",
        "\n",
        "indices =                      # 중요도 크기 순으로 정렬\n",
        "\n",
        "plt.figure(figsize=(10, 8))\n",
        "plt.barh(x_test.columns, importances[indices], .35, color='purple', align='center')\n",
        "plt.yticks(x_test.columns, x_test.columns[indices], fontsize=12)\n",
        "plt.xlabel('Relative Importance', fontsize=12)\n",
        "plt.title('Feature Importances -- Random Forest Classifier (multiclass)\\n', fontsize=15)\n",
        "plt.show()"
      ],
      "execution_count": null,
      "outputs": []
    },
    {
      "cell_type": "markdown",
      "metadata": {
        "id": "mZktOBVzMg8a"
      },
      "source": [
        "### 문제 09. 다중분류 LGBM 피처 중요도 분석하기"
      ]
    },
    {
      "cell_type": "code",
      "metadata": {
        "id": "Bt9-QlEtMg8a"
      },
      "source": [
        "# 미리 저장한 LGBM 다중분류 모델 불러오기\n",
        "\n",
        "with open(modelpath + 'lgbm01.pkl', 'rb') as file:\n",
        "    lgbm1 =  "
      ],
      "execution_count": null,
      "outputs": []
    },
    {
      "cell_type": "code",
      "metadata": {
        "id": "599xoqshMg8b"
      },
      "source": [
        "# LGBM 다중분류 모델의 피처 중요도 확인하기\n",
        "\n",
        "importances =  \n",
        "importances"
      ],
      "execution_count": null,
      "outputs": []
    },
    {
      "cell_type": "code",
      "metadata": {
        "id": "xrnSZxfKMg8b"
      },
      "source": [
        "# LGBM 다중분류 모델의 피처 중요도 시각화 하기\n",
        "\n",
        "indices =                    # 중요도 크기 순으로 정렬\n",
        "\n",
        "plt.figure(figsize=(10, 8))\n",
        "plt.barh(x_test.columns, importances[indices], .35, color='lightblue', align='center')\n",
        "plt.yticks(x_test.columns, x_test.columns[indices], fontsize=12)\n",
        "\n",
        "plt.xlabel('Feature Importance', fontsize=12)\n",
        "plt.title('Feature Importances -- LGBM Classifier (multiclass)\\n', fontsize=15)\n",
        "plt.show()"
      ],
      "execution_count": null,
      "outputs": []
    },
    {
      "cell_type": "markdown",
      "metadata": {
        "id": "1RI3BfxJMg8c"
      },
      "source": [
        "### 문제 10. 요약: 다중분류 피처 중요도 비교"
      ]
    },
    {
      "cell_type": "code",
      "metadata": {
        "scrolled": false,
        "id": "CdJ3D-HgMg8c"
      },
      "source": [
        "# subplot을 이용하여 2개 이진분류 모델(rfc1, lgbm1)의 피처 중요도 시각화 비교하기\n",
        "\n",
        "plt.figure(figsize=(18, 10))\n",
        "\n",
        "plt.subplot(      )    ###\n",
        "importances_rfc =   ###\n",
        "indices_rfc =   ###\n",
        "\n",
        "plt.title('Feature Importances -- Random Forest Classifier (multiclass)')\n",
        "plt.barh(x_test.columns, importances_rfc[indices_rfc], .25, color='purple')\n",
        "plt.yticks(x_test.columns, x_test.columns[indices_rfc])\n",
        "plt.xlabel('Relative Importance (MDI)')\n",
        "\n",
        "plt.subplot(      )     ###\n",
        "importances_lgbm =   ###\n",
        "indices_lgbm =   ###\n",
        "\n",
        "plt.title('Feature Importances -- LGBM Classifier (multiclass)')\n",
        "plt.barh(x_test.columns, importances_lgbm[indices_lgbm], .25, color='lightblue')\n",
        "plt.yticks(x_test.columns, x_test.columns[indices_lgbm])\n",
        "plt.xlabel('Feature Importance (# of splits)')\n",
        "\n",
        "plt.show()"
      ],
      "execution_count": null,
      "outputs": []
    },
    {
      "cell_type": "markdown",
      "metadata": {
        "id": "k_Rxx8t6Mg8d"
      },
      "source": [
        "### 참고: 모델 해석방법\n",
        "\n",
        "일반적으로 피처 중요도와 의사결정 트리 분기 순서는 대부분 일치합니다. \n",
        "\n",
        "그러나 피처 중요도는 트리 깊이에 따라서도 바뀝니다. 즉 학습 파라미터에 따라 모델의 의사결벙 방식과 정확도가 함께 변하기 때문에 피처 중요도 그래프의 순서가 소득구간을 예측하는 우선순위라고 판단할 수는 없습니다. \n",
        "\n",
        "그렇지만 피처 중요도의 순서가 소득구간 예측에 영향을 미치는 정도를 구분한다는 해석은 가능하다고 볼 수 있습니다. "
      ]
    },
    {
      "cell_type": "markdown",
      "metadata": {
        "id": "Vg3p4L_WMg8d"
      },
      "source": [
        "## Step 2. 머신러닝 모델의 부분의존성 분석하기"
      ]
    },
    {
      "cell_type": "markdown",
      "metadata": {
        "id": "jx0Tq9YtMg8d"
      },
      "source": [
        "### 부분 의존성 분석 소개\n",
        "\n",
        "- 부분 의존성 플롯(Partial Dependence Plot): 피처의 수치를 선형적으로 변형하면서 알고리즘 해석 능력이 얼마나 증가하고 감소하는지 관찰하는 XAI 기법\n",
        "\n",
        "- 피처 중요도 분석만으로는 해당 피처가 모델의 판단에 긍정적인 영향을 미치는지 혹은 부정적인 영향을 미치는지 알 수 없음\n",
        "\n",
        "- 또한 현실 세계에 있는 피처 중 다수는 피처간 독립이 아니기 때문에 해석에 혼란을 야기할 수 있음\n",
        "\n",
        "- 부분 의존성 플롯은 피처의 모델 영향력 뿐 아니라 특정 피처에 대해 여유분(buffer)을 함께 표시함으로써 피처간 상호의존성이 높더라도 어느 정도 모델에 오차가 있을 수 있는지 확인할 수 있게 함\n",
        "\n",
        "- pdpbox 패키지는 부분 의존성 플롯(`pdp_isolate`) 뿐 아니라 목표 플롯(`target_plot`), 모델의 실제 예측에 대한 의존성 플롯(`actual_plot`) 등이 가능함\n",
        "\n",
        "- 멀티 클래스 분류기에도 작동하며, 두 개의 피처가 상호 작용하는 부분 의존성 플롯(`pdp_interaction`)도 함께 시각화 한다는 장점이 있음\n",
        "\n",
        "    - 목표 플롯: 피처의 구간별 분포에 대한 결과 간 상관관계 분석 결과를 보여줌\n",
        "    - 부분 의존성 플롯: 학습한 모델에 대해 구간별로 해석 결과를 시각화"
      ]
    },
    {
      "cell_type": "markdown",
      "metadata": {
        "id": "t4-2NkUsMg8g"
      },
      "source": [
        "### 문제 11. 이진분류 인풋 데이터 준비하기"
      ]
    },
    {
      "cell_type": "code",
      "metadata": {
        "scrolled": false,
        "id": "B5v7-udhMg8g"
      },
      "source": [
        "data00_prep = data00.drop(['education', 'fnlwgt'], axis=1)"
      ],
      "execution_count": 27,
      "outputs": []
    },
    {
      "cell_type": "code",
      "metadata": {
        "id": "QLxmaTeHMg8h"
      },
      "source": [
        "from sklearn import preprocessing\n",
        "\n",
        "categorical = ['income', 'workclass', 'marital.status', 'occupation', 'relationship', 'race', 'sex', 'native.country']\n",
        "for feature in categorical:\n",
        "        le = preprocessing.LabelEncoder()\n",
        "        data00_prep[feature] = le.fit_transform(data00_prep[feature])"
      ],
      "execution_count": 28,
      "outputs": []
    },
    {
      "cell_type": "code",
      "metadata": {
        "id": "vOgXAJjIMg8h",
        "colab": {
          "base_uri": "https://localhost:8080/",
          "height": 204
        },
        "outputId": "5f5d21e7-ac80-4940-b033-f567d3e8c457"
      },
      "source": [
        "data00_prep.head()"
      ],
      "execution_count": 29,
      "outputs": [
        {
          "output_type": "execute_result",
          "data": {
            "text/html": [
              "<div>\n",
              "<style scoped>\n",
              "    .dataframe tbody tr th:only-of-type {\n",
              "        vertical-align: middle;\n",
              "    }\n",
              "\n",
              "    .dataframe tbody tr th {\n",
              "        vertical-align: top;\n",
              "    }\n",
              "\n",
              "    .dataframe thead th {\n",
              "        text-align: right;\n",
              "    }\n",
              "</style>\n",
              "<table border=\"1\" class=\"dataframe\">\n",
              "  <thead>\n",
              "    <tr style=\"text-align: right;\">\n",
              "      <th></th>\n",
              "      <th>age</th>\n",
              "      <th>workclass</th>\n",
              "      <th>education.num</th>\n",
              "      <th>marital.status</th>\n",
              "      <th>occupation</th>\n",
              "      <th>relationship</th>\n",
              "      <th>race</th>\n",
              "      <th>sex</th>\n",
              "      <th>capital.gain</th>\n",
              "      <th>capital.loss</th>\n",
              "      <th>hours.per.week</th>\n",
              "      <th>native.country</th>\n",
              "      <th>income</th>\n",
              "    </tr>\n",
              "  </thead>\n",
              "  <tbody>\n",
              "    <tr>\n",
              "      <th>0</th>\n",
              "      <td>90</td>\n",
              "      <td>3</td>\n",
              "      <td>9</td>\n",
              "      <td>6</td>\n",
              "      <td>9</td>\n",
              "      <td>1</td>\n",
              "      <td>4</td>\n",
              "      <td>0</td>\n",
              "      <td>0</td>\n",
              "      <td>4356</td>\n",
              "      <td>40</td>\n",
              "      <td>38</td>\n",
              "      <td>0</td>\n",
              "    </tr>\n",
              "    <tr>\n",
              "      <th>1</th>\n",
              "      <td>82</td>\n",
              "      <td>3</td>\n",
              "      <td>9</td>\n",
              "      <td>6</td>\n",
              "      <td>3</td>\n",
              "      <td>1</td>\n",
              "      <td>4</td>\n",
              "      <td>0</td>\n",
              "      <td>0</td>\n",
              "      <td>4356</td>\n",
              "      <td>18</td>\n",
              "      <td>38</td>\n",
              "      <td>0</td>\n",
              "    </tr>\n",
              "    <tr>\n",
              "      <th>2</th>\n",
              "      <td>66</td>\n",
              "      <td>3</td>\n",
              "      <td>10</td>\n",
              "      <td>6</td>\n",
              "      <td>9</td>\n",
              "      <td>4</td>\n",
              "      <td>2</td>\n",
              "      <td>0</td>\n",
              "      <td>0</td>\n",
              "      <td>4356</td>\n",
              "      <td>40</td>\n",
              "      <td>38</td>\n",
              "      <td>0</td>\n",
              "    </tr>\n",
              "    <tr>\n",
              "      <th>3</th>\n",
              "      <td>54</td>\n",
              "      <td>3</td>\n",
              "      <td>4</td>\n",
              "      <td>0</td>\n",
              "      <td>6</td>\n",
              "      <td>4</td>\n",
              "      <td>4</td>\n",
              "      <td>0</td>\n",
              "      <td>0</td>\n",
              "      <td>3900</td>\n",
              "      <td>40</td>\n",
              "      <td>38</td>\n",
              "      <td>0</td>\n",
              "    </tr>\n",
              "    <tr>\n",
              "      <th>4</th>\n",
              "      <td>41</td>\n",
              "      <td>3</td>\n",
              "      <td>10</td>\n",
              "      <td>5</td>\n",
              "      <td>9</td>\n",
              "      <td>3</td>\n",
              "      <td>4</td>\n",
              "      <td>0</td>\n",
              "      <td>0</td>\n",
              "      <td>3900</td>\n",
              "      <td>40</td>\n",
              "      <td>38</td>\n",
              "      <td>0</td>\n",
              "    </tr>\n",
              "  </tbody>\n",
              "</table>\n",
              "</div>"
            ],
            "text/plain": [
              "   age  workclass  education.num  ...  hours.per.week  native.country  income\n",
              "0   90          3              9  ...              40              38       0\n",
              "1   82          3              9  ...              18              38       0\n",
              "2   66          3             10  ...              40              38       0\n",
              "3   54          3              4  ...              40              38       0\n",
              "4   41          3             10  ...              40              38       0\n",
              "\n",
              "[5 rows x 13 columns]"
            ]
          },
          "metadata": {
            "tags": []
          },
          "execution_count": 29
        }
      ]
    },
    {
      "cell_type": "code",
      "metadata": {
        "id": "ATdnQ3xhMg8h"
      },
      "source": [
        "data = data00_prep\n",
        "features = data00_prep.columns[:12]\n",
        "target =  data00_prep.columns[12]"
      ],
      "execution_count": 30,
      "outputs": []
    },
    {
      "cell_type": "markdown",
      "metadata": {
        "id": "xMf51TSUMg8h"
      },
      "source": [
        "### 문제 12. 변수별 이진분류 데이터 target plot 확인하기"
      ]
    },
    {
      "cell_type": "code",
      "metadata": {
        "id": "CTQ16WokMg8g"
      },
      "source": [
        "from pdpbox import pdp, info_plots"
      ],
      "execution_count": 31,
      "outputs": []
    },
    {
      "cell_type": "code",
      "metadata": {
        "colab": {
          "base_uri": "https://localhost:8080/"
        },
        "id": "qbq0Y003JNE1",
        "outputId": "a1f8ec5e-eeee-4aed-8b42-0d1afcb5dcb5"
      },
      "source": [
        "# education 변수 구분 확인\n",
        "data00['education'].unique()"
      ],
      "execution_count": 32,
      "outputs": [
        {
          "output_type": "execute_result",
          "data": {
            "text/plain": [
              "array(['HS-grad', 'Some-college', '7th-8th', '10th', 'Doctorate',\n",
              "       'Prof-school', 'Bachelors', 'Masters', '11th', 'Assoc-acdm',\n",
              "       'Assoc-voc', '1st-4th', '5th-6th', '12th', '9th', 'Preschool'],\n",
              "      dtype=object)"
            ]
          },
          "metadata": {
            "tags": []
          },
          "execution_count": 32
        }
      ]
    },
    {
      "cell_type": "code",
      "metadata": {
        "colab": {
          "base_uri": "https://localhost:8080/"
        },
        "id": "b2ae5tKpLWmI",
        "outputId": "cade8453-f4a2-4447-9ca1-de29d3e2dd21"
      },
      "source": [
        "data00['education.num'].unique()"
      ],
      "execution_count": 35,
      "outputs": [
        {
          "output_type": "execute_result",
          "data": {
            "text/plain": [
              "array([ 9, 10,  4,  6, 16, 15, 13, 14,  7, 12, 11,  2,  3,  8,  5,  1])"
            ]
          },
          "metadata": {
            "tags": []
          },
          "execution_count": 35
        }
      ]
    },
    {
      "cell_type": "code",
      "metadata": {
        "colab": {
          "base_uri": "https://localhost:8080/",
          "height": 545
        },
        "id": "Q7svNCkIJWOq",
        "outputId": "756e7ea5-f469-42a3-e574-cf7da3868e68"
      },
      "source": [
        "a = pd.DataFrame(data00['education'].unique())\n",
        "a.rename(columns={0: 'education'}, inplace=True)\n",
        "\n",
        "b = pd.DataFrame(data00['education.num'].unique())\n",
        "b.rename(columns={0:'education.num'}, inplace=True)\n",
        "\n",
        "c = pd.concat([a, b], axis=1)\n",
        "c.sort_values('education.num')"
      ],
      "execution_count": 38,
      "outputs": [
        {
          "output_type": "execute_result",
          "data": {
            "text/html": [
              "<div>\n",
              "<style scoped>\n",
              "    .dataframe tbody tr th:only-of-type {\n",
              "        vertical-align: middle;\n",
              "    }\n",
              "\n",
              "    .dataframe tbody tr th {\n",
              "        vertical-align: top;\n",
              "    }\n",
              "\n",
              "    .dataframe thead th {\n",
              "        text-align: right;\n",
              "    }\n",
              "</style>\n",
              "<table border=\"1\" class=\"dataframe\">\n",
              "  <thead>\n",
              "    <tr style=\"text-align: right;\">\n",
              "      <th></th>\n",
              "      <th>education</th>\n",
              "      <th>education.num</th>\n",
              "    </tr>\n",
              "  </thead>\n",
              "  <tbody>\n",
              "    <tr>\n",
              "      <th>15</th>\n",
              "      <td>Preschool</td>\n",
              "      <td>1</td>\n",
              "    </tr>\n",
              "    <tr>\n",
              "      <th>11</th>\n",
              "      <td>1st-4th</td>\n",
              "      <td>2</td>\n",
              "    </tr>\n",
              "    <tr>\n",
              "      <th>12</th>\n",
              "      <td>5th-6th</td>\n",
              "      <td>3</td>\n",
              "    </tr>\n",
              "    <tr>\n",
              "      <th>2</th>\n",
              "      <td>7th-8th</td>\n",
              "      <td>4</td>\n",
              "    </tr>\n",
              "    <tr>\n",
              "      <th>14</th>\n",
              "      <td>9th</td>\n",
              "      <td>5</td>\n",
              "    </tr>\n",
              "    <tr>\n",
              "      <th>3</th>\n",
              "      <td>10th</td>\n",
              "      <td>6</td>\n",
              "    </tr>\n",
              "    <tr>\n",
              "      <th>8</th>\n",
              "      <td>11th</td>\n",
              "      <td>7</td>\n",
              "    </tr>\n",
              "    <tr>\n",
              "      <th>13</th>\n",
              "      <td>12th</td>\n",
              "      <td>8</td>\n",
              "    </tr>\n",
              "    <tr>\n",
              "      <th>0</th>\n",
              "      <td>HS-grad</td>\n",
              "      <td>9</td>\n",
              "    </tr>\n",
              "    <tr>\n",
              "      <th>1</th>\n",
              "      <td>Some-college</td>\n",
              "      <td>10</td>\n",
              "    </tr>\n",
              "    <tr>\n",
              "      <th>10</th>\n",
              "      <td>Assoc-voc</td>\n",
              "      <td>11</td>\n",
              "    </tr>\n",
              "    <tr>\n",
              "      <th>9</th>\n",
              "      <td>Assoc-acdm</td>\n",
              "      <td>12</td>\n",
              "    </tr>\n",
              "    <tr>\n",
              "      <th>6</th>\n",
              "      <td>Bachelors</td>\n",
              "      <td>13</td>\n",
              "    </tr>\n",
              "    <tr>\n",
              "      <th>7</th>\n",
              "      <td>Masters</td>\n",
              "      <td>14</td>\n",
              "    </tr>\n",
              "    <tr>\n",
              "      <th>5</th>\n",
              "      <td>Prof-school</td>\n",
              "      <td>15</td>\n",
              "    </tr>\n",
              "    <tr>\n",
              "      <th>4</th>\n",
              "      <td>Doctorate</td>\n",
              "      <td>16</td>\n",
              "    </tr>\n",
              "  </tbody>\n",
              "</table>\n",
              "</div>"
            ],
            "text/plain": [
              "       education  education.num\n",
              "15     Preschool              1\n",
              "11       1st-4th              2\n",
              "12       5th-6th              3\n",
              "2        7th-8th              4\n",
              "14           9th              5\n",
              "3           10th              6\n",
              "8           11th              7\n",
              "13          12th              8\n",
              "0        HS-grad              9\n",
              "1   Some-college             10\n",
              "10     Assoc-voc             11\n",
              "9     Assoc-acdm             12\n",
              "6      Bachelors             13\n",
              "7        Masters             14\n",
              "5    Prof-school             15\n",
              "4      Doctorate             16"
            ]
          },
          "metadata": {
            "tags": []
          },
          "execution_count": 38
        }
      ]
    },
    {
      "cell_type": "code",
      "metadata": {
        "id": "yNtVLMdqMg8i",
        "colab": {
          "base_uri": "https://localhost:8080/",
          "height": 605
        },
        "outputId": "b41b8b6e-72b8-4efa-b2c0-92400a44146c"
      },
      "source": [
        "# 알고 싶은 변수가 `education.num`일 때 target plot 시각화 하기\n",
        "\n",
        "fig, axes, summary_df = info_plots.target_plot(\n",
        "    df =  data, \n",
        "    feature= 'education.num', \n",
        "    feature_name= 'education.num',     \n",
        "    target=target \n",
        "    )"
      ],
      "execution_count": 40,
      "outputs": [
        {
          "output_type": "stream",
          "text": [
            "findfont: Font family ['Arial'] not found. Falling back to DejaVu Sans.\n",
            "findfont: Font family ['Arial'] not found. Falling back to DejaVu Sans.\n",
            "findfont: Font family ['Arial'] not found. Falling back to DejaVu Sans.\n"
          ],
          "name": "stderr"
        },
        {
          "output_type": "display_data",
          "data": {
            "image/png": "[encoded data removed]",
            "text/plain": [
              "<Figure size 1080x648 with 3 Axes>"
            ]
          },
          "metadata": {
            "tags": [],
            "needs_background": "light"
          }
        }
      ]
    },
    {
      "cell_type": "code",
      "metadata": {
        "id": "7wbtoNEkMg8i",
        "colab": {
          "base_uri": "https://localhost:8080/",
          "height": 204
        },
        "outputId": "f1bee8c5-5950-4094-b85c-ff19c9a670ca"
      },
      "source": [
        "# `education.num` 변수 target_plot의 summary 확인하기\n",
        "summary_df\n"
      ],
      "execution_count": 42,
      "outputs": [
        {
          "output_type": "execute_result",
          "data": {
            "text/html": [
              "<div>\n",
              "<style scoped>\n",
              "    .dataframe tbody tr th:only-of-type {\n",
              "        vertical-align: middle;\n",
              "    }\n",
              "\n",
              "    .dataframe tbody tr th {\n",
              "        vertical-align: top;\n",
              "    }\n",
              "\n",
              "    .dataframe thead th {\n",
              "        text-align: right;\n",
              "    }\n",
              "</style>\n",
              "<table border=\"1\" class=\"dataframe\">\n",
              "  <thead>\n",
              "    <tr style=\"text-align: right;\">\n",
              "      <th></th>\n",
              "      <th>x</th>\n",
              "      <th>display_column</th>\n",
              "      <th>value_lower</th>\n",
              "      <th>value_upper</th>\n",
              "      <th>count</th>\n",
              "      <th>income</th>\n",
              "    </tr>\n",
              "  </thead>\n",
              "  <tbody>\n",
              "    <tr>\n",
              "      <th>0</th>\n",
              "      <td>0</td>\n",
              "      <td>[1, 7)</td>\n",
              "      <td>1.0</td>\n",
              "      <td>7.0</td>\n",
              "      <td>2645</td>\n",
              "      <td>0.057089</td>\n",
              "    </tr>\n",
              "    <tr>\n",
              "      <th>1</th>\n",
              "      <td>1</td>\n",
              "      <td>[7, 9)</td>\n",
              "      <td>7.0</td>\n",
              "      <td>9.0</td>\n",
              "      <td>1608</td>\n",
              "      <td>0.057836</td>\n",
              "    </tr>\n",
              "    <tr>\n",
              "      <th>2</th>\n",
              "      <td>2</td>\n",
              "      <td>[9, 10)</td>\n",
              "      <td>9.0</td>\n",
              "      <td>10.0</td>\n",
              "      <td>10501</td>\n",
              "      <td>0.159509</td>\n",
              "    </tr>\n",
              "    <tr>\n",
              "      <th>3</th>\n",
              "      <td>3</td>\n",
              "      <td>[10, 13)</td>\n",
              "      <td>10.0</td>\n",
              "      <td>13.0</td>\n",
              "      <td>9740</td>\n",
              "      <td>0.206674</td>\n",
              "    </tr>\n",
              "    <tr>\n",
              "      <th>4</th>\n",
              "      <td>4</td>\n",
              "      <td>[13, 16]</td>\n",
              "      <td>13.0</td>\n",
              "      <td>16.0</td>\n",
              "      <td>8067</td>\n",
              "      <td>0.484567</td>\n",
              "    </tr>\n",
              "  </tbody>\n",
              "</table>\n",
              "</div>"
            ],
            "text/plain": [
              "   x display_column  value_lower  value_upper  count    income\n",
              "0  0         [1, 7)          1.0          7.0   2645  0.057089\n",
              "1  1         [7, 9)          7.0          9.0   1608  0.057836\n",
              "2  2        [9, 10)          9.0         10.0  10501  0.159509\n",
              "3  3       [10, 13)         10.0         13.0   9740  0.206674\n",
              "4  4       [13, 16]         13.0         16.0   8067  0.484567"
            ]
          },
          "metadata": {
            "tags": []
          },
          "execution_count": 42
        }
      ]
    },
    {
      "cell_type": "code",
      "metadata": {
        "id": "bYBm9ZOBMg8i",
        "colab": {
          "base_uri": "https://localhost:8080/",
          "height": 551
        },
        "outputId": "da50d4da-3b95-41fb-ec69-04ecf7607c7a"
      },
      "source": [
        "# 알고 싶은 변수가 `age`일 때 target plot 시각화 하기\n",
        "\n",
        "fig, axes, summary_df = info_plots.target_plot(\n",
        "    df =  data,\n",
        "    feature = 'age', \n",
        "    feature_name = 'age',     \n",
        "    target = target\n",
        "    )"
      ],
      "execution_count": 44,
      "outputs": [
        {
          "output_type": "display_data",
          "data": {
            "image/png": "[encoded data removed]",
            "text/plain": [
              "<Figure size 1080x648 with 3 Axes>"
            ]
          },
          "metadata": {
            "tags": [],
            "needs_background": "light"
          }
        }
      ]
    },
    {
      "cell_type": "code",
      "metadata": {
        "id": "BMMwQDmkMg8j",
        "colab": {
          "base_uri": "https://localhost:8080/",
          "height": 328
        },
        "outputId": "e1123133-aa26-420c-c8d0-f907e5d8be3f"
      },
      "source": [
        "# `age` 변수 target_plot의 summary 확인하기\n",
        "summary_df\n"
      ],
      "execution_count": 46,
      "outputs": [
        {
          "output_type": "execute_result",
          "data": {
            "text/html": [
              "<div>\n",
              "<style scoped>\n",
              "    .dataframe tbody tr th:only-of-type {\n",
              "        vertical-align: middle;\n",
              "    }\n",
              "\n",
              "    .dataframe tbody tr th {\n",
              "        vertical-align: top;\n",
              "    }\n",
              "\n",
              "    .dataframe thead th {\n",
              "        text-align: right;\n",
              "    }\n",
              "</style>\n",
              "<table border=\"1\" class=\"dataframe\">\n",
              "  <thead>\n",
              "    <tr style=\"text-align: right;\">\n",
              "      <th></th>\n",
              "      <th>x</th>\n",
              "      <th>display_column</th>\n",
              "      <th>value_lower</th>\n",
              "      <th>value_upper</th>\n",
              "      <th>count</th>\n",
              "      <th>income</th>\n",
              "    </tr>\n",
              "  </thead>\n",
              "  <tbody>\n",
              "    <tr>\n",
              "      <th>0</th>\n",
              "      <td>0</td>\n",
              "      <td>[17, 22)</td>\n",
              "      <td>17.0</td>\n",
              "      <td>22.0</td>\n",
              "      <td>3130</td>\n",
              "      <td>0.001597</td>\n",
              "    </tr>\n",
              "    <tr>\n",
              "      <th>1</th>\n",
              "      <td>1</td>\n",
              "      <td>[22, 27)</td>\n",
              "      <td>22.0</td>\n",
              "      <td>27.0</td>\n",
              "      <td>4066</td>\n",
              "      <td>0.042302</td>\n",
              "    </tr>\n",
              "    <tr>\n",
              "      <th>2</th>\n",
              "      <td>2</td>\n",
              "      <td>[27, 31)</td>\n",
              "      <td>27.0</td>\n",
              "      <td>31.0</td>\n",
              "      <td>3376</td>\n",
              "      <td>0.149585</td>\n",
              "    </tr>\n",
              "    <tr>\n",
              "      <th>3</th>\n",
              "      <td>3</td>\n",
              "      <td>[31, 35)</td>\n",
              "      <td>31.0</td>\n",
              "      <td>35.0</td>\n",
              "      <td>3477</td>\n",
              "      <td>0.231809</td>\n",
              "    </tr>\n",
              "    <tr>\n",
              "      <th>4</th>\n",
              "      <td>4</td>\n",
              "      <td>[35, 39)</td>\n",
              "      <td>35.0</td>\n",
              "      <td>39.0</td>\n",
              "      <td>3459</td>\n",
              "      <td>0.304712</td>\n",
              "    </tr>\n",
              "    <tr>\n",
              "      <th>5</th>\n",
              "      <td>5</td>\n",
              "      <td>[39, 44)</td>\n",
              "      <td>39.0</td>\n",
              "      <td>44.0</td>\n",
              "      <td>3968</td>\n",
              "      <td>0.344758</td>\n",
              "    </tr>\n",
              "    <tr>\n",
              "      <th>6</th>\n",
              "      <td>6</td>\n",
              "      <td>[44, 49)</td>\n",
              "      <td>44.0</td>\n",
              "      <td>49.0</td>\n",
              "      <td>3446</td>\n",
              "      <td>0.396402</td>\n",
              "    </tr>\n",
              "    <tr>\n",
              "      <th>7</th>\n",
              "      <td>7</td>\n",
              "      <td>[49, 57)</td>\n",
              "      <td>49.0</td>\n",
              "      <td>57.0</td>\n",
              "      <td>3916</td>\n",
              "      <td>0.389939</td>\n",
              "    </tr>\n",
              "    <tr>\n",
              "      <th>8</th>\n",
              "      <td>8</td>\n",
              "      <td>[57, 90]</td>\n",
              "      <td>57.0</td>\n",
              "      <td>90.0</td>\n",
              "      <td>3723</td>\n",
              "      <td>0.278807</td>\n",
              "    </tr>\n",
              "  </tbody>\n",
              "</table>\n",
              "</div>"
            ],
            "text/plain": [
              "   x display_column  value_lower  value_upper  count    income\n",
              "0  0       [17, 22)         17.0         22.0   3130  0.001597\n",
              "1  1       [22, 27)         22.0         27.0   4066  0.042302\n",
              "2  2       [27, 31)         27.0         31.0   3376  0.149585\n",
              "3  3       [31, 35)         31.0         35.0   3477  0.231809\n",
              "4  4       [35, 39)         35.0         39.0   3459  0.304712\n",
              "5  5       [39, 44)         39.0         44.0   3968  0.344758\n",
              "6  6       [44, 49)         44.0         49.0   3446  0.396402\n",
              "7  7       [49, 57)         49.0         57.0   3916  0.389939\n",
              "8  8       [57, 90]         57.0         90.0   3723  0.278807"
            ]
          },
          "metadata": {
            "tags": []
          },
          "execution_count": 46
        }
      ]
    },
    {
      "cell_type": "code",
      "metadata": {
        "id": "GJ5v16_rMg8k",
        "colab": {
          "base_uri": "https://localhost:8080/",
          "height": 551
        },
        "outputId": "6718a97e-167d-482a-edb4-b5ed96ea3074"
      },
      "source": [
        "# 알고 싶은 변수가 `hours.per.week`일 때 target plot 시각화 하기\n",
        "\n",
        "fig, axes, summary_df = info_plots.target_plot(\n",
        "    df =  data, \n",
        "    feature = 'hours.per.week', \n",
        "    feature_name = 'hours.per.week',     \n",
        "    target = target\n",
        "    )"
      ],
      "execution_count": 48,
      "outputs": [
        {
          "output_type": "display_data",
          "data": {
            "image/png": "[encoded data removed]",
            "text/plain": [
              "<Figure size 1080x648 with 3 Axes>"
            ]
          },
          "metadata": {
            "tags": [],
            "needs_background": "light"
          }
        }
      ]
    },
    {
      "cell_type": "code",
      "metadata": {
        "id": "GcS9CZazMg8k",
        "colab": {
          "base_uri": "https://localhost:8080/",
          "height": 235
        },
        "outputId": "3b9e590b-718d-4549-c7c9-ec1c7dd53713"
      },
      "source": [
        "# `hours.per.week` 변수 target_plot의 summary 확인하기  \n",
        "summary_df\n"
      ],
      "execution_count": 49,
      "outputs": [
        {
          "output_type": "execute_result",
          "data": {
            "text/html": [
              "<div>\n",
              "<style scoped>\n",
              "    .dataframe tbody tr th:only-of-type {\n",
              "        vertical-align: middle;\n",
              "    }\n",
              "\n",
              "    .dataframe tbody tr th {\n",
              "        vertical-align: top;\n",
              "    }\n",
              "\n",
              "    .dataframe thead th {\n",
              "        text-align: right;\n",
              "    }\n",
              "</style>\n",
              "<table border=\"1\" class=\"dataframe\">\n",
              "  <thead>\n",
              "    <tr style=\"text-align: right;\">\n",
              "      <th></th>\n",
              "      <th>x</th>\n",
              "      <th>display_column</th>\n",
              "      <th>value_lower</th>\n",
              "      <th>value_upper</th>\n",
              "      <th>count</th>\n",
              "      <th>income</th>\n",
              "    </tr>\n",
              "  </thead>\n",
              "  <tbody>\n",
              "    <tr>\n",
              "      <th>0</th>\n",
              "      <td>0</td>\n",
              "      <td>[1, 25)</td>\n",
              "      <td>1.0</td>\n",
              "      <td>25.0</td>\n",
              "      <td>3269</td>\n",
              "      <td>0.068522</td>\n",
              "    </tr>\n",
              "    <tr>\n",
              "      <th>1</th>\n",
              "      <td>1</td>\n",
              "      <td>[25, 37)</td>\n",
              "      <td>25.0</td>\n",
              "      <td>37.0</td>\n",
              "      <td>3831</td>\n",
              "      <td>0.104672</td>\n",
              "    </tr>\n",
              "    <tr>\n",
              "      <th>2</th>\n",
              "      <td>2</td>\n",
              "      <td>[37, 40)</td>\n",
              "      <td>37.0</td>\n",
              "      <td>40.0</td>\n",
              "      <td>663</td>\n",
              "      <td>0.170437</td>\n",
              "    </tr>\n",
              "    <tr>\n",
              "      <th>3</th>\n",
              "      <td>3</td>\n",
              "      <td>[40, 45)</td>\n",
              "      <td>40.0</td>\n",
              "      <td>45.0</td>\n",
              "      <td>15835</td>\n",
              "      <td>0.217051</td>\n",
              "    </tr>\n",
              "    <tr>\n",
              "      <th>4</th>\n",
              "      <td>4</td>\n",
              "      <td>[45, 52)</td>\n",
              "      <td>45.0</td>\n",
              "      <td>52.0</td>\n",
              "      <td>5333</td>\n",
              "      <td>0.405963</td>\n",
              "    </tr>\n",
              "    <tr>\n",
              "      <th>5</th>\n",
              "      <td>5</td>\n",
              "      <td>[52, 99]</td>\n",
              "      <td>52.0</td>\n",
              "      <td>99.0</td>\n",
              "      <td>3630</td>\n",
              "      <td>0.413499</td>\n",
              "    </tr>\n",
              "  </tbody>\n",
              "</table>\n",
              "</div>"
            ],
            "text/plain": [
              "   x display_column  value_lower  value_upper  count    income\n",
              "0  0        [1, 25)          1.0         25.0   3269  0.068522\n",
              "1  1       [25, 37)         25.0         37.0   3831  0.104672\n",
              "2  2       [37, 40)         37.0         40.0    663  0.170437\n",
              "3  3       [40, 45)         40.0         45.0  15835  0.217051\n",
              "4  4       [45, 52)         45.0         52.0   5333  0.405963\n",
              "5  5       [52, 99]         52.0         99.0   3630  0.413499"
            ]
          },
          "metadata": {
            "tags": []
          },
          "execution_count": 49
        }
      ]
    },
    {
      "cell_type": "markdown",
      "metadata": {
        "id": "9fzzeI4wMg8l"
      },
      "source": [
        "### 문제 13. 변수별 이진분류 예측 actual plot 확인하기"
      ]
    },
    {
      "cell_type": "code",
      "metadata": {
        "id": "BqLRivYlMg8l"
      },
      "source": [
        "# `age` 변수에 대하여 LGBM 이진분류 예측 결과 actual plot 시각화 하기\n",
        "\n",
        "fig, axes, summary_df = info_plots.actual_plot(\n",
        "    model =  , ####\n",
        "    X =  ,\n",
        "    feature =  , \n",
        "    feature_name =  , \n",
        "    predict_kwds = {}\n",
        ")"
      ],
      "execution_count": null,
      "outputs": []
    },
    {
      "cell_type": "code",
      "metadata": {
        "id": "z41NsHxBMg8l"
      },
      "source": [
        "# `age` 변수의 LGBM 이진분류 예측 결과 summary 확인하기\n",
        "\n"
      ],
      "execution_count": null,
      "outputs": []
    },
    {
      "cell_type": "code",
      "metadata": {
        "id": "Pegq_KuWMg8m"
      },
      "source": [
        "# `education.num` 변수에 대하여 LGBM 이진분류 예측 결과 actual plot 시각화 하기\n",
        "\n",
        "fig, axes, summary_df = info_plots.actual_plot(\n",
        "    model =  , ####\n",
        "    X =  ,\n",
        "    feature =  , \n",
        "    feature_name =  , \n",
        "    predict_kwds = {}\n",
        ")"
      ],
      "execution_count": null,
      "outputs": []
    },
    {
      "cell_type": "code",
      "metadata": {
        "id": "HxY0AoyWMg8m"
      },
      "source": [
        "# `education.num` 변수의 LGBM 이진분류 예측 결과 summary 확인하기\n",
        "\n"
      ],
      "execution_count": null,
      "outputs": []
    },
    {
      "cell_type": "code",
      "metadata": {
        "id": "Dd5-eYGlMg8m"
      },
      "source": [
        "# `hours.per.week` 변수에 대하여 LGBM 이진분류 예측 결과 actual plot 시각화 하기\n",
        "\n",
        "fig, axes, summary_df = info_plots.actual_plot(\n",
        "    model = , ####\n",
        "    X =  ,\n",
        "    feature =  , \n",
        "    feature_name =  , \n",
        "    predict_kwds = {}\n",
        ")"
      ],
      "execution_count": null,
      "outputs": []
    },
    {
      "cell_type": "code",
      "metadata": {
        "id": "ivI9L1grMg8n"
      },
      "source": [
        "# `hours.per.week` 변수의 LGBM 이진분류 예측 결과 summary 확인하기\n",
        "\n"
      ],
      "execution_count": null,
      "outputs": []
    },
    {
      "cell_type": "markdown",
      "metadata": {
        "id": "GUPTHvxjMg8n"
      },
      "source": [
        "### 문제 14. 두 변수간 target plot 확인하기"
      ]
    },
    {
      "cell_type": "code",
      "metadata": {
        "id": "PuoMLYqkMg8n"
      },
      "source": [
        "# `age` 변수와 `education.num` 변수간 target interaction plot 확인하기\n",
        "\n",
        "fig, axes, summary_df = info_plots.target_plot_interact(\n",
        "    df = ,\n",
        "    features = ,\n",
        "    feature_names = ,\n",
        "    target =  \n",
        ")"
      ],
      "execution_count": null,
      "outputs": []
    },
    {
      "cell_type": "code",
      "metadata": {
        "scrolled": true,
        "id": "hr6inL0NMg8o"
      },
      "source": [
        "# `age` 변수와 `education.num` 변수간 target interaction summary 확인하기\n",
        "\n"
      ],
      "execution_count": null,
      "outputs": []
    },
    {
      "cell_type": "code",
      "metadata": {
        "id": "4oRmU7jwMg8o"
      },
      "source": [
        "# `education.num` 변수와 `hours.per.week` 변수간 target interaction plot 확인하기\n",
        "\n",
        "fig, axes, summary_df = info_plots.target_plot_interact(\n",
        "    df = ,\n",
        "    features = ,\n",
        "    feature_names =  ,\n",
        "    target =  \n",
        ")"
      ],
      "execution_count": null,
      "outputs": []
    },
    {
      "cell_type": "code",
      "metadata": {
        "scrolled": true,
        "id": "khjbjczgMg8o"
      },
      "source": [
        "# `education.num` 변수와 `hours.per.week` 변수간 summary 확인하기\n",
        "\n"
      ],
      "execution_count": null,
      "outputs": []
    },
    {
      "cell_type": "markdown",
      "metadata": {
        "id": "VEjD5K1fMg8p"
      },
      "source": [
        "### 문제 15. 두 변수간 모델 interaction plot 확인하기"
      ]
    },
    {
      "cell_type": "code",
      "metadata": {
        "id": "Y5KWaupkMg8p"
      },
      "source": [
        "# `education.num` 변수와 `hours.per.week` 변수가 LGBM 이진분류 예측에서 보이는 interaction 시각화 하기\n",
        "\n",
        "pdp_interaction = pdp.pdp_interact(model =        #### \n",
        "                                  dataset =  ,\n",
        "                                  model_features =  ,\n",
        "                                  features =       #### \n",
        "\n",
        "fix, axes = pdp.pdp_interact_plot(pdp_interact_out =  ,\n",
        "                                 feature_names =  , #### \n",
        "                                 plot_type =  , #### \n",
        "                                 plot_pdp =  )"
      ],
      "execution_count": null,
      "outputs": []
    },
    {
      "cell_type": "code",
      "metadata": {
        "id": "RmJZ6iVoG_-Z"
      },
      "source": [
        "# `age` 변수와 `education.num` 변수가 LGBM 이진분류 예측에서 보이는 interaction 시각화 하기\n",
        "pdp_interaction = pdp.pdp_interact(model =          #### \n",
        "                                  dataset =  ,\n",
        "                                  model_features =  ,\n",
        "                                  features =  )        #### \n",
        "\n",
        "fix, axes = pdp.pdp_interact_plot(pdp_interact_out =  ,\n",
        "                                 feature_names =  ,    #### \n",
        "                                 plot_type =  ,       #### \n",
        "                                 x_quantile =  ,      #### \n",
        "                                 plot_pdp =  )"
      ],
      "execution_count": null,
      "outputs": []
    },
    {
      "cell_type": "markdown",
      "metadata": {
        "id": "bnBJUhceMg8q"
      },
      "source": [
        "### 문제 16. 변수별 이진분류 모델의 pdp plot 확인하기"
      ]
    },
    {
      "cell_type": "code",
      "metadata": {
        "id": "irQa70hEIBzN"
      },
      "source": [
        "from pdpbox import pdp, get_dataset, info_plots"
      ],
      "execution_count": null,
      "outputs": []
    },
    {
      "cell_type": "code",
      "metadata": {
        "id": "vzL3ueIJMg8q"
      },
      "source": [
        "# Random Forest 이진분류 예측에서 `capital.gain`의 영향력 확인하기 \n",
        "\n",
        "feat_name =    ###\n",
        "\n",
        "capital_gain_pdp = pdp.pdp_isolate(model= ,  ###\n",
        "                                   dataset= , \n",
        "                                   model_features= , \n",
        "                                   feature= )\n",
        "\n",
        "fig, axes = pdp.pdp_plot(capital_gain_pdp, ##\n",
        "                         feat_name, \n",
        "                         plot_pts_dist = True, \n",
        "                         frac_to_plot = 0.5)"
      ],
      "execution_count": null,
      "outputs": []
    },
    {
      "cell_type": "code",
      "metadata": {
        "id": "-eLMUZC4Mg8s"
      },
      "source": [
        "# Random Forest 이진분류 예측에서 `age`의 영향력 확인하기 \n",
        "\n",
        "feat_name =    ###\n",
        "\n",
        "age_pdp = pdp.pdp_isolate(model = ,     ###\n",
        "                          dataset =  , \n",
        "                          model_features = , \n",
        "                          feature = )\n",
        "\n",
        "fig, axes = pdp.pdp_plot(age_pdp, ##\n",
        "                         feat_name, \n",
        "#                          plot_lines=True, ##\n",
        "                         frac_to_plot = 0.5)"
      ],
      "execution_count": null,
      "outputs": []
    },
    {
      "cell_type": "code",
      "metadata": {
        "id": "jPZNkABwMg8s"
      },
      "source": [
        "# Random Forest 이진분류 예측에서 `education.num`의 영향력 확인하기 \n",
        "\n",
        "feat_name =    ###\n",
        "\n",
        "education_num_pdp = pdp.pdp_isolate(model = , ###\n",
        "                                   dataset = , \n",
        "                                   model_features =  , \n",
        "                                   feature =  )\n",
        "\n",
        "fig, axes = pdp.pdp_plot(education_num_pdp, ###\n",
        "                         feat_name, \n",
        "#                          plot_lines=True, ###\n",
        "#                          plot_pts_dist = True, #### \n",
        "                         frac_to_plot = 0.5)"
      ],
      "execution_count": null,
      "outputs": []
    },
    {
      "cell_type": "markdown",
      "metadata": {
        "id": "IhoVmPc2Mg8t"
      },
      "source": [
        "### 문제 17. 다중분류 인풋 데이터 준비하기"
      ]
    },
    {
      "cell_type": "code",
      "metadata": {
        "scrolled": true,
        "id": "gIOC4rDfMg8t"
      },
      "source": [
        "data01.head()"
      ],
      "execution_count": null,
      "outputs": []
    },
    {
      "cell_type": "code",
      "metadata": {
        "scrolled": false,
        "id": "QdXyl2m2Mg8t"
      },
      "source": [
        "data01_prep =  "
      ],
      "execution_count": null,
      "outputs": []
    },
    {
      "cell_type": "code",
      "metadata": {
        "id": "daE4E93gMg8t"
      },
      "source": [
        "def value_change(x):\n",
        "    if x <= 20000: return 0\n",
        "    if x >  20000 and x <= 50000 : return 1\n",
        "    if x >  50000 and x <= 70000 : return 2\n",
        "    if x >  70000 and x <= 90000 : return 3 \n",
        "    return 4\n",
        "\n",
        "data01_prep['income.num'] =  "
      ],
      "execution_count": null,
      "outputs": []
    },
    {
      "cell_type": "code",
      "metadata": {
        "id": "87Q0Zcw1Mg8u"
      },
      "source": [
        "from sklearn import preprocessing\n",
        "\n",
        "categorical = ['workclass', 'marital.status', 'occupation', 'relationship', 'sex', 'native.country']\n",
        "for feature in categorical:\n",
        "        le = preprocessing.LabelEncoder()\n",
        "        data01_prep[feature] = le.fit_transform(data01_prep[feature])"
      ],
      "execution_count": null,
      "outputs": []
    },
    {
      "cell_type": "code",
      "metadata": {
        "id": "-DG7F_prMg8u"
      },
      "source": [
        "data01_prep.head()"
      ],
      "execution_count": null,
      "outputs": []
    },
    {
      "cell_type": "code",
      "metadata": {
        "id": "xmCyucSQMg8u"
      },
      "source": [
        "data = \n",
        "features =  \n",
        "target =  "
      ],
      "execution_count": null,
      "outputs": []
    },
    {
      "cell_type": "markdown",
      "metadata": {
        "id": "FxIPeyNxMg8u"
      },
      "source": [
        "### 문제 18. 변수별 데이터 target plot 확인하기"
      ]
    },
    {
      "cell_type": "code",
      "metadata": {
        "id": "OHsTQkLbMg8v"
      },
      "source": [
        "# `balance` 변수의 target plot 확인하기\n",
        "\n",
        "fig, axes, summary_df = info_plots.target_plot(\n",
        "    df =  , \n",
        "    feature = , \n",
        "    feature_name = ,     \n",
        "    target = )"
      ],
      "execution_count": null,
      "outputs": []
    },
    {
      "cell_type": "code",
      "metadata": {
        "id": "v_h4i0IaMg8v"
      },
      "source": [
        "# `balance` 변수 target plot의 summary 확인하기\n"
      ],
      "execution_count": null,
      "outputs": []
    },
    {
      "cell_type": "code",
      "metadata": {
        "id": "CbXjb8hbMg8v"
      },
      "source": [
        "# `spend.groc` 변수의 target plot 확인하기\n",
        "\n",
        "fig, axes, summary_df = info_plots.target_plot(\n",
        "    df =  , \n",
        "    feature = , \n",
        "    feature_name = ,     \n",
        "    target = )"
      ],
      "execution_count": null,
      "outputs": []
    },
    {
      "cell_type": "code",
      "metadata": {
        "id": "iYT4_WzOXYWt"
      },
      "source": [
        "# `spend.groc` 변수 target plot의 summary 확인하기\n"
      ],
      "execution_count": null,
      "outputs": []
    },
    {
      "cell_type": "code",
      "metadata": {
        "id": "gWNsEAgpMg8w"
      },
      "source": [
        "# `spend.med` 변수의 target plot 확인하기\n",
        "\n",
        "fig, axes, summary_df = info_plots.target_plot(\n",
        "    df =  , \n",
        "    feature = , \n",
        "    feature_name = ,     \n",
        "    target = )"
      ],
      "execution_count": null,
      "outputs": []
    },
    {
      "cell_type": "code",
      "metadata": {
        "id": "B9stUFUCMg8w"
      },
      "source": [
        "# `spend.med` 변수 target plot의 summary 확인하기\n",
        "\n"
      ],
      "execution_count": null,
      "outputs": []
    },
    {
      "cell_type": "code",
      "metadata": {
        "id": "mg1UoAy3Mg8x"
      },
      "source": [
        "# `spend.trav` 변수의 target plot 확인하기\n",
        "\n",
        "fig, axes, summary_df = info_plots.target_plot(\n",
        "    df =  , \n",
        "    feature = , \n",
        "    feature_name = ,     \n",
        "    target =  )"
      ],
      "execution_count": null,
      "outputs": []
    },
    {
      "cell_type": "code",
      "metadata": {
        "id": "ZPDOnmPKXp1l"
      },
      "source": [
        "# `spend.med` 변수 target plot의 summary 확인하기\n",
        "\n"
      ],
      "execution_count": null,
      "outputs": []
    },
    {
      "cell_type": "code",
      "metadata": {
        "id": "JlDM7PW1Mg8x"
      },
      "source": [
        "# `age` 변수의 target plot 확인하기\n",
        "\n",
        "fig, axes, summary_df = info_plots.target_plot(\n",
        "    df =  , \n",
        "    feature =  , \n",
        "    feature_name =  ,     \n",
        "    target =  )"
      ],
      "execution_count": null,
      "outputs": []
    },
    {
      "cell_type": "code",
      "metadata": {
        "id": "dmoY7pOTMg8x"
      },
      "source": [
        "# `age` 변수 target plot의 summary 확인하기\n",
        "\n"
      ],
      "execution_count": null,
      "outputs": []
    },
    {
      "cell_type": "markdown",
      "metadata": {
        "id": "IBpJcuCmMg8y"
      },
      "source": [
        "### 문제 19. 변수별 다중분류 예측 actual plot 확인하기"
      ]
    },
    {
      "cell_type": "code",
      "metadata": {
        "id": "b-JH_DtAMg8y"
      },
      "source": [
        "# `asset` 변수의 Random Forest 다중분류 예측 actual plot 시각화 하기\n",
        "\n",
        "fig, axes, summary_df = info_plots.actual_plot(\n",
        "    model =  ,\n",
        "    X =  ,\n",
        "    feature =  , \n",
        "    feature_name =  , \n",
        "    predict_kwds = {}\n",
        ")"
      ],
      "execution_count": null,
      "outputs": []
    },
    {
      "cell_type": "code",
      "metadata": {
        "id": "hY6QPymwMg8y"
      },
      "source": [
        "# `asset` 변수의 Random Forest 다중분류 예측 summary 확인하기 \n"
      ],
      "execution_count": null,
      "outputs": []
    },
    {
      "cell_type": "code",
      "metadata": {
        "id": "noSEQxonMg8z"
      },
      "source": [
        "# `balance` 변수의 Random Forest 다중분류 예측 actual plot 시각화 하기\n",
        "\n",
        "\n",
        "fig, axes, summary_df = info_plots.actual_plot(\n",
        "    model =  ,\n",
        "    X =  ,\n",
        "    feature =  , \n",
        "    feature_name =  , \n",
        "    predict_kwds = {}\n",
        ")"
      ],
      "execution_count": null,
      "outputs": []
    },
    {
      "cell_type": "code",
      "metadata": {
        "id": "viTJSJbLMg8z"
      },
      "source": [
        "# `balance` 변수의 Random Forest 다중분류 예측 summary 확인하기 \n"
      ],
      "execution_count": null,
      "outputs": []
    },
    {
      "cell_type": "code",
      "metadata": {
        "id": "BiVwBMtrMg8z"
      },
      "source": [
        "# `spend.trav` 변수의 Random Forest 다중분류 예측 actual plot 시각화 하기\n",
        "\n",
        "fig, axes, summary_df = info_plots.actual_plot(\n",
        "    model =  ,\n",
        "    X =  ,\n",
        "    feature =  , \n",
        "    feature_name =  , \n",
        "    predict_kwds = {}\n",
        ")"
      ],
      "execution_count": null,
      "outputs": []
    },
    {
      "cell_type": "code",
      "metadata": {
        "id": "zJwn8BJEMg80"
      },
      "source": [
        "# `spend.trav` 변수의 Random Forest 다중분류 예측 summary 확인하기\n"
      ],
      "execution_count": null,
      "outputs": []
    },
    {
      "cell_type": "markdown",
      "metadata": {
        "id": "iZDHBXTNMg80"
      },
      "source": [
        "### 문제 20. 두 변수간 모델 target plot 확인하기"
      ]
    },
    {
      "cell_type": "code",
      "metadata": {
        "scrolled": false,
        "id": "LwlkWTiQMg80"
      },
      "source": [
        "# `age` 변수와 `balance` 변수의 target interaction plot 확인하기\n",
        "\n",
        "fig, axes, summary_df = info_plots.target_plot_interact(\n",
        "    df =  ,\n",
        "    features =  ,\n",
        "    feature_names = ,\n",
        "    target =  \n",
        ")"
      ],
      "execution_count": null,
      "outputs": []
    },
    {
      "cell_type": "code",
      "metadata": {
        "scrolled": true,
        "id": "eRBRjRBzMg81"
      },
      "source": [
        "# `age` 변수와 `balance` 변수간 target interaction plot의 summary 확인하기\n",
        "\n"
      ],
      "execution_count": null,
      "outputs": []
    },
    {
      "cell_type": "code",
      "metadata": {
        "id": "pf8O-LInMg81"
      },
      "source": [
        "# `age` 변수와 `asset` 변수의 target interaction plot 확인하기\n",
        "\n",
        "fig, axes, summary_df = info_plots.target_plot_interact(\n",
        "    df =  ,\n",
        "    features =  ,\n",
        "    feature_names =  ,\n",
        "    target =  \n",
        ")"
      ],
      "execution_count": null,
      "outputs": []
    },
    {
      "cell_type": "code",
      "metadata": {
        "id": "mkJWkLik_Jil"
      },
      "source": [
        "# `age` 변수와 `asset` 변수간 target interaction plot의 summary 확인하기\n",
        "\n"
      ],
      "execution_count": null,
      "outputs": []
    },
    {
      "cell_type": "code",
      "metadata": {
        "id": "q8_xJIxEMg81"
      },
      "source": [
        "# `age` 변수와 `spend.trav` 변수의 target interaction plot 확인하기\n",
        "\n",
        "fig, axes, summary_df = info_plots.target_plot_interact(\n",
        "    df =  ,\n",
        "    features =  ,\n",
        "    feature_names =  ,\n",
        "    target =  \n",
        ")"
      ],
      "execution_count": null,
      "outputs": []
    },
    {
      "cell_type": "code",
      "metadata": {
        "scrolled": true,
        "id": "HTzCjfGEMg82"
      },
      "source": [
        "# `age` 변수와 `spend.trav` 변수간 target interaction plot의 summary 확인하기\n",
        "\n"
      ],
      "execution_count": null,
      "outputs": []
    },
    {
      "cell_type": "markdown",
      "metadata": {
        "id": "iOVkbs5sMg83"
      },
      "source": [
        "### 문제 21. 두 변수간 interaction plot 확인하기"
      ]
    },
    {
      "cell_type": "code",
      "metadata": {
        "id": "5UAeP2nNMg84"
      },
      "source": [
        "# `balance` 변수와 `spend.trav` 변수의 pdp interaction plot 확인하기\n",
        "\n",
        "pdp_interaction = pdp.pdp_interact(model =  , #### \n",
        "                                  dataset = , \n",
        "                                  model_features =  ,\n",
        "                                  features =    #### \n",
        "                                   ) \n",
        " \n",
        "fix, axes = pdp.pdp_interact_plot(pdp_interact_out = pdp_interaction,  \n",
        "                                 feature_names =  , #### \n",
        "                                 plot_type = 'grid', #### \n",
        "                                 x_quantile = True,\n",
        "                                 plot_pdp = True)"
      ],
      "execution_count": null,
      "outputs": []
    },
    {
      "cell_type": "markdown",
      "metadata": {
        "id": "ssacPRGuMg84"
      },
      "source": [
        "### 문제 22. 변수별 다중분류 모델의 pdp plot 확인하기"
      ]
    },
    {
      "cell_type": "code",
      "metadata": {
        "id": "Pvj6gAMEMg85"
      },
      "source": [
        "# `age` 변수의 LGBM 다중분류 모델 pdp plot 확인하기\n",
        "\n",
        "feat_name = \n",
        "\n",
        "pdp1 = pdp.pdp_isolate(model =  , ### \n",
        "                       dataset = ,\n",
        "                       model_features =  ,\n",
        "                       feature = feat_name)\n",
        "\n",
        "fig, axes = pdp.pdp_plot(pdp1, feat_name, frac_to_plot = 0.5)"
      ],
      "execution_count": null,
      "outputs": []
    },
    {
      "cell_type": "code",
      "metadata": {
        "id": "9Mtt4CNxMg85"
      },
      "source": [
        "# `spend.groc` 변수의 LGBM 다중분류 모델 pdp plot 확인하기\n",
        "\n",
        "feat_name = \n",
        "\n",
        "pdp1 = pdp.pdp_isolate(model =  , ###\n",
        "                       dataset =  , \n",
        "                       model_features =  , \n",
        "                       feature = feat_name)\n",
        "\n",
        "fig, axes = pdp.pdp_plot(pdp1, feat_name, frac_to_plot = 0.5)"
      ],
      "execution_count": null,
      "outputs": []
    },
    {
      "cell_type": "code",
      "metadata": {
        "id": "HNKy4St6Mg85"
      },
      "source": [
        " # `spend.med` 변수의 LGBM 다중분류 모델 pdp plot 확인하기\n",
        "\n",
        "feat_name =  \n",
        "\n",
        "pdp1 = pdp.pdp_isolate(model =  , ###\n",
        "                       dataset =  , \n",
        "                       model_features =  , \n",
        "                       feature = feat_name)\n",
        "\n",
        "fig, axes = pdp.pdp_plot(pdp1, feat_name, frac_to_plot = 0.5)"
      ],
      "execution_count": null,
      "outputs": []
    },
    {
      "cell_type": "code",
      "metadata": {
        "id": "YgzJbDCrMg86"
      },
      "source": [
        "# `spend.trav` 변수의 LGBM 다중분류 모델 pdp plot 확인하기\n",
        "\n",
        "feat_name = \n",
        "\n",
        "pdp1 = pdp.pdp_isolate(model =  , ###\n",
        "                       dataset =  , \n",
        "                       model_features =  , \n",
        "                       feature = feat_name)\n",
        "\n",
        "fig, axes = pdp.pdp_plot(pdp1, feat_name, frac_to_plot = 0.5)"
      ],
      "execution_count": null,
      "outputs": []
    },
    {
      "cell_type": "code",
      "metadata": {
        "scrolled": false,
        "id": "IQDSzaggMg86"
      },
      "source": [
        "# `balance` 변수의 LGBM 다중분류 모델 pdp plot 확인하기\n",
        "\n",
        "feat_name = \n",
        "\n",
        "pdp1 = pdp.pdp_isolate(model =  , ###\n",
        "                       dataset =  , \n",
        "                       model_features =  , \n",
        "                       feature = feat_name)\n",
        "\n",
        "fig, axes = pdp.pdp_plot(pdp1, feat_name, frac_to_plot = 0.5)"
      ],
      "execution_count": null,
      "outputs": []
    },
    {
      "cell_type": "code",
      "metadata": {
        "id": "KWdh9Ca0Mg86"
      },
      "source": [
        "# `asset` 변수의 LGBM 다중분류 모델 pdp plot 확인하기\n",
        "\n",
        "feat_name = \n",
        "pdp_asset = pdp.pdp_isolate(model = , dataset = , model_features = , feature =  )\n",
        "\n",
        "pdp.pdp_plot(pdp_asset, feat_name)\n",
        "plt.show()"
      ],
      "execution_count": null,
      "outputs": []
    },
    {
      "cell_type": "markdown",
      "metadata": {
        "id": "b0lw0OtGMg87"
      },
      "source": [
        "## Step 3. 머신러닝 모델의 대리분석 모형 구현하기"
      ]
    },
    {
      "cell_type": "markdown",
      "metadata": {
        "id": "Wbv_PjNKMg87"
      },
      "source": [
        "### 대리분석 소개\n",
        "- 대리분석(surrogate analysis): 본래 기능을 흉내 내는 간단한 대체재를 만들어 프로토타입이 동작하는지 판단하는 분석 방법\n",
        "- XAI에서는 모델이 너무 복잡해서 분석이 불가능 할때 유사한 기능을 수행하는 모델을 여러개 만들어 본래의 모델을 분석하는 방법을 의미\n",
        "\n",
        "\n",
        "- 원래 모델 f가 있고 흉내내는 모델 g가 존재 할 때, 다음 과 같은 조건에 부합해야 함\n",
        "    - 1) g가 f보다 학습하기 쉽고\n",
        "    - 2) g는 설명가능한 모델\n",
        "    - 3) g는 f를 유사하게 흉내\n",
        "\n",
        "\n",
        "- 글로벌 대리 분석(global surrogate analysis): 학습데이터의 전부(또는 일부)를 사용한 대리분석 모델\n",
        "- 로컬 대리 분석(local surrogate analysis): 학습데이터 하나를 해석하는 과정\n",
        "\n",
        "\n",
        "- 대리 분석의 가장 큰 장점은 모델 애그노스틱(model-agnostic) 하다는 것\n",
        "- 또한 적은 데이터로 설명가능한 모델을 만들수 있음\n",
        "- 중간에 모델 f가 바뀌어도 피처만 같으면 대리 분석 수행 가능(모델들이 분리돼 있기 때문)"
      ]
    },
    {
      "cell_type": "markdown",
      "metadata": {
        "id": "5TZKEvtYMg87"
      },
      "source": [
        "### LIME(Local Interpretable Model-agnostic Explanations)\n",
        "구축된 머신러닝 모델이 현재 데이터의 어떤 영역을 집중해서 분석했고 어떤 영역을 분류 근거로 사용했는지 알려주는 XAI기법\n",
        "\n",
        "- 이미지, 텍스트 등의 매트릭스 형태 데이터(`LimeImageExplainer`, `LimeTextExplainer`)\n",
        "- 금융 등의 정형 테이블 데이터(`LimeTabularExplainer`)"
      ]
    },
    {
      "cell_type": "markdown",
      "metadata": {
        "id": "hSf1TYPwMg87"
      },
      "source": [
        "### 문제 23. LIME을 이용하여 개별 데이터 분석하기(이진분류)"
      ]
    },
    {
      "cell_type": "code",
      "metadata": {
        "id": "VHLru0OBK3z4"
      },
      "source": [
        "# 먼저 패키지를 설치해주세요\n",
        "import lime.lime_tabular"
      ],
      "execution_count": null,
      "outputs": []
    },
    {
      "cell_type": "code",
      "metadata": {
        "scrolled": true,
        "id": "ewhYPaQ4Mg88"
      },
      "source": [
        "# 개별 데이터 포인트 확인하기\n",
        "\n",
        "pd.DataFrame( ).T"
      ],
      "execution_count": null,
      "outputs": []
    },
    {
      "cell_type": "code",
      "metadata": {
        "id": "nUzp4mxEMg88"
      },
      "source": [
        "# 데이터 형태 변경하기\n",
        "\n",
        "row =  \n",
        "to_predict =  "
      ],
      "execution_count": null,
      "outputs": []
    },
    {
      "cell_type": "code",
      "metadata": {
        "id": "Usy544CFB_0K"
      },
      "source": [
        "# Random Forest 이진분류 모델의 개별 데이터 클래스별 예측 확률 구하기\n",
        "\n"
      ],
      "execution_count": null,
      "outputs": []
    },
    {
      "cell_type": "code",
      "metadata": {
        "id": "OCp_kvNQMg88"
      },
      "source": [
        "# LIME으로 Random Forest 이진분류 모델의 개별 데이터 분류 근거 설명하기\n",
        "model =   # 모델 설정\n",
        "\n",
        "explainer = lime.lime_tabular.LimeTabularExplainer(X_test.values, \n",
        "                                                   feature_names = ,\n",
        "                                                   discretize_continuous = True)\n",
        "\n",
        "exp = explainer.explain_instance( ) ###\n",
        "exp.show_in_notebook(show_table=True)"
      ],
      "execution_count": null,
      "outputs": []
    },
    {
      "cell_type": "code",
      "metadata": {
        "id": "PpkOlYo6Mg9I"
      },
      "source": [
        "# Gradient Boosting 이진분류 모델의 개별 데이터 클래스별 예측 확률 구하기\n",
        "\n",
        " "
      ],
      "execution_count": null,
      "outputs": []
    },
    {
      "cell_type": "code",
      "metadata": {
        "id": "6vBb7ey7Mg9J"
      },
      "source": [
        "# LIME으로 Gradient Boosting 이진분류 모델의 개별 데이터 포인트 분류 근거 설명하기\n",
        "\n",
        "model =   # 모델 설정\n",
        "\n",
        "explainer = lime.lime_tabular.LimeTabularExplainer(X_test.values, \n",
        "                                                   feature_names = ,\n",
        "                                                   discretize_continuous = True)\n",
        "\n",
        "exp = explainer.explain_instance( ) ###\n",
        "exp.show_in_notebook(show_table=True)"
      ],
      "execution_count": null,
      "outputs": []
    },
    {
      "cell_type": "code",
      "metadata": {
        "id": "rZkCzsTCMg9U"
      },
      "source": [
        "# LightGBM 이진분류 모델의 개별 데이터 클래스별 예측 확률 구하기\n",
        "\n"
      ],
      "execution_count": null,
      "outputs": []
    },
    {
      "cell_type": "code",
      "metadata": {
        "id": "riAFPnmjMg9V"
      },
      "source": [
        "# LIME으로 LightGBM 이진분류 모델의 개별 데이터 포인트 분류 배경 설명하기\n",
        "\n",
        "model =   # 모델 설정\n",
        "\n",
        "explainer = lime.lime_tabular.LimeTabularExplainer(X_test.values, \n",
        "                                                   feature_names = ,\n",
        "                                                   discretize_continuous = True)\n",
        "\n",
        "exp = explainer.explain_instance(row, model.predict_proba, num_features = ) ###\n",
        "exp.show_in_notebook(show_table=True)"
      ],
      "execution_count": null,
      "outputs": []
    },
    {
      "cell_type": "code",
      "metadata": {
        "id": "YZrrH3yeMg9e"
      },
      "source": [
        "# Logistic Regression 이진분류 모델의 개별 데이터 클래스별 예측 확률 구하기\n",
        "\n",
        " "
      ],
      "execution_count": null,
      "outputs": []
    },
    {
      "cell_type": "code",
      "metadata": {
        "id": "M21qZqcUMg9f"
      },
      "source": [
        "# LIME으로 Logistic Regression 이진분류 모델의 개별 데이터 포인트 분류 근거 설명하기\n",
        "\n",
        "model =   # 모델 설정\n",
        "\n",
        "explainer = lime.lime_tabular.LimeTabularExplainer(X_test.values, \n",
        "                                                   feature_names = ,\n",
        "                                                   discretize_continuous = True)\n",
        "\n",
        "exp = explainer.explain_instance(row, model.predict_proba, num_features = ) ###\n",
        "exp.show_in_notebook(show_table=True)"
      ],
      "execution_count": null,
      "outputs": []
    },
    {
      "cell_type": "code",
      "metadata": {
        "id": "hpnjjanRMg9o"
      },
      "source": [
        "# 이 고객의 실제 소득구간(이진분류 클래스)은 무엇이었을까?\n",
        "\n",
        "print(\"This person's actual income class (binary) is: \",  )"
      ],
      "execution_count": null,
      "outputs": []
    },
    {
      "cell_type": "markdown",
      "metadata": {
        "id": "XNGt63SHMg9o"
      },
      "source": [
        "### 문제 24. LIME으로 개별 데이터 분석하기(다중분류)"
      ]
    },
    {
      "cell_type": "code",
      "metadata": {
        "id": "XK888LBPK9ua"
      },
      "source": [
        "import lime.lime_tabular"
      ],
      "execution_count": null,
      "outputs": []
    },
    {
      "cell_type": "code",
      "metadata": {
        "id": "n7Aj3FGBMg9p"
      },
      "source": [
        "# 개별 데이터 포인트 확인하기\n",
        "\n",
        "pd.DataFrame( ).T"
      ],
      "execution_count": null,
      "outputs": []
    },
    {
      "cell_type": "code",
      "metadata": {
        "id": "lMvhHRbXMg9p"
      },
      "source": [
        "# 데이터 형태 변경하기\n",
        "\n",
        "row =  \n",
        "to_predict =  "
      ],
      "execution_count": null,
      "outputs": []
    },
    {
      "cell_type": "code",
      "metadata": {
        "id": "lbRjIUjjTcwl"
      },
      "source": [
        "# Random Forest 다중분류 모델의 개별 데이터 클래스별 예측 확률 구하기\n",
        "\n",
        " "
      ],
      "execution_count": null,
      "outputs": []
    },
    {
      "cell_type": "code",
      "metadata": {
        "id": "3SMHBB_pMg9q"
      },
      "source": [
        "# LIME으로 Random Forest 다중분류 모델의 개별 데이터 분류 근거 설명하기\n",
        "\n",
        "model =      # 모델 설정\n",
        "\n",
        "explainer = lime.lime_tabular.LimeTabularExplainer(x_test.values, feature_names=x_test.columns,\n",
        "                                                    discretize_continuous=True)\n",
        "\n",
        "exp = explainer.explain_instance(  ) ###\n",
        "exp.show_in_notebook(show_table=True)"
      ],
      "execution_count": null,
      "outputs": []
    },
    {
      "cell_type": "code",
      "metadata": {
        "id": "yud6uXLoMg9z"
      },
      "source": [
        "# LightGBM 다중분류 모델의 개별 데이터 클래스별 예측 확률 구하기\n",
        "\n",
        " "
      ],
      "execution_count": null,
      "outputs": []
    },
    {
      "cell_type": "code",
      "metadata": {
        "id": "9YEC08BJMg90"
      },
      "source": [
        "# LIME으로 Logistic Regression 이진분류 모델의 개별 데이터 포인트 분류 근거 설명하기\n",
        "\n",
        "model =   # 모델 설정\n",
        "\n",
        "explainer = lime.lime_tabular.LimeTabularExplainer(X_test.values, \n",
        "                                                   feature_names = ,\n",
        "                                                   discretize_continuous = True)\n",
        "\n",
        "exp = explainer.explain_instance(row, model.predict_proba, num_features = ) ###\n",
        "exp.show_in_notebook(show_table=True)"
      ],
      "execution_count": null,
      "outputs": []
    },
    {
      "cell_type": "code",
      "metadata": {
        "id": "mwAz42swMg9_"
      },
      "source": [
        "# 이 고객의 실제 소득구간(다중분류 클래스)은 무엇이었을까?\n",
        "\n",
        "print(\"This person's actual income class (among 5 classes) is: \", )"
      ],
      "execution_count": null,
      "outputs": []
    },
    {
      "cell_type": "markdown",
      "metadata": {
        "id": "JpOhOWMzMg-A"
      },
      "source": [
        "## Step 4. 요약\n",
        "- 1) 설명가능한 AI의 이해<p>\n",
        ": **모델**을 설명하는 방법, **각 피처**를 설명하는 방법, **개별 데이터 포인트**를 설명하는 방법\n",
        "\n",
        "\n",
        "- 2) 피처 중요도에 대한 이해<p>\n",
        ": 각 모델에서 **피처 중요도**를 계산하는 방식과 기준(Coefficients, MDI, Permutation, Splits, Shapely 값)\n",
        "\n",
        "\n",
        "- 3) 부분 의존성에 대한 이해<p>\n",
        "    : `pdpplot` 패키지를 이용하여 변수의 예측 기여도, 변수 구간별 비선형적 영향력, 변수간 의존관계 등\n",
        "\n",
        "\n",
        "- 4) LIME 알고리즘 구현 (정형 데이터)<p>: \n",
        "     `LimeTabularExplainer`를 이용하여 모델의 분류 근거 해석하기\n",
        "\n",
        "- 5) 해석을 바탕으로 모델을 개선하는 방법 습득<p>\n",
        "    : 주요 변수의 선정 기준 근거 마련\n",
        "\n",
        "\n",
        "- Chapter 03.에서는 LIME을 이용하여 비정형 데이터 학습모델을 설명하는 방법과 또 다른 대리분석 방법인 Shap에 대하여 알아보겠습니다."
      ]
    }
  ]
}